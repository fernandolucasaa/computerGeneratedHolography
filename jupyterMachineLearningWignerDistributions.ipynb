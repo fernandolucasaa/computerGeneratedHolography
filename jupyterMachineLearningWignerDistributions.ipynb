{
 "cells": [
  {
   "cell_type": "code",
   "execution_count": 19,
   "metadata": {},
   "outputs": [],
   "source": [
    "import numpy as np\n",
    "import matplotlib.pyplot as plt\n",
    "import scipy.io\n",
    "import wignerDistribution as wd\n",
    "import generateDatasetMachineLearning as generateDataset"
   ]
  },
  {
   "cell_type": "markdown",
   "metadata": {},
   "source": [
    "# Machine Learning study on the results of the 1D Pseudo-Wigner Distribution \n",
    "\n",
    "In this test, we are going to use the datasets created by the octave codes. The octave scripts is responsable for create holographic interference sets with an increasing number of point sources (starting at 1 and going up to 5).\n",
    "\n",
    "After loading these data, we will apply the Wigner distribution in these data, train some machine learning algoritms and analyse the results."
   ]
  },
  {
   "cell_type": "markdown",
   "metadata": {},
   "source": [
    "### Load dictionaries"
   ]
  },
  {
   "cell_type": "code",
   "execution_count": 2,
   "metadata": {},
   "outputs": [],
   "source": [
    "def loadMatFile(file_path, file_name, key):\n",
    "    \"\"\"\n",
    "    Load a mat file and return an item of the dictionary loaded.\n",
    "    \"\"\"    \n",
    "    # read mat file dictionary\n",
    "    dictionary = scipy.io.loadmat(file_path + file_name)\n",
    "    \n",
    "    # access item of a dictionary\n",
    "    array = dictionary[key]\n",
    "    \n",
    "    return array"
   ]
  },
  {
   "cell_type": "markdown",
   "metadata": {},
   "source": [
    "**Load files created by octave scripts**"
   ]
  },
  {
   "cell_type": "code",
   "execution_count": 3,
   "metadata": {},
   "outputs": [
    {
     "name": "stdout",
     "output_type": "stream",
     "text": [
      "(200, 200, 125)\n",
      "(200, 200, 125)\n",
      "(375, 3)\n"
     ]
    }
   ],
   "source": [
    "# Folder's path\n",
    "path = 'C:\\\\Users\\\\ferna\\\\Desktop\\\\computerGeneratedHolography'\n",
    "\n",
    "# Load hologram dataset\n",
    "file_path = path + '\\\\output\\\\dataset\\\\'\n",
    "file_name = 'hDataset.mat'\n",
    "key = 'hDataset'\n",
    "hologram_dataset = loadMatFile(file_path, file_name, key)\n",
    "\n",
    "# Load reconstructed images dataset\n",
    "file_name = 'rDataset.mat'\n",
    "key = 'rDataset'\n",
    "reconstruction_dataset = loadMatFile(file_path, file_name, key)\n",
    "\n",
    "# Load 3D points dataset\n",
    "file_name = 'pDataset.mat'\n",
    "key = 'pDataset'\n",
    "points_dataset = loadMatFile(file_path, file_name, key)\n",
    "\n",
    "print(hologram_dataset.shape)\n",
    "print(reconstruction_dataset.shape)\n",
    "print(points_dataset.shape)"
   ]
  },
  {
   "cell_type": "code",
   "execution_count": null,
   "metadata": {},
   "outputs": [],
   "source": []
  },
  {
   "cell_type": "markdown",
   "metadata": {},
   "source": [
    "### Compute 1D Pseudo-Wigner Distribution"
   ]
  },
  {
   "cell_type": "code",
   "execution_count": 4,
   "metadata": {},
   "outputs": [],
   "source": [
    "def calculate_1D_wigner_distribution(dataset, n, seq_legth, angle):\n",
    "    \"\"\"\n",
    "    Calculates the  1D pseudo-Wigner distribution of the n first images (in gray levels) in the dataset. seq_length is the \n",
    "    length in pixels of the operating window and it has to be an odd number (9 is a common operative value). \n",
    "    The angle variable in degrees determines the spatial orientation of the distribution.\n",
    "    \"\"\"\n",
    "    wd_results = []\n",
    "    for i in range(n):\n",
    "        test_image = dataset[:,:,i]\n",
    "        wd_results.append(wd.wigner_distribution(test_image, seq_legth, angle))\n",
    "    return wd_results"
   ]
  },
  {
   "cell_type": "markdown",
   "metadata": {},
   "source": [
    "**Obs.: This part is very time-consuming!**\n",
    "\n",
    "Example: to compute the wd distribution of 25 images, it took almost 5 minutes.\n",
    "To compute the wd distribution of 125 images, it took 20 minutes."
   ]
  },
  {
   "cell_type": "code",
   "execution_count": 5,
   "metadata": {},
   "outputs": [
    {
     "name": "stdout",
     "output_type": "stream",
     "text": [
      "calculating ...\n",
      "calculating ...\n",
      "calculating ...\n",
      "calculating ...\n",
      "calculating ...\n",
      "calculating ...\n",
      "calculating ...\n",
      "calculating ...\n",
      "calculating ...\n",
      "calculating ...\n",
      "calculating ...\n",
      "calculating ...\n",
      "calculating ...\n",
      "calculating ...\n",
      "calculating ...\n",
      "calculating ...\n",
      "calculating ...\n",
      "calculating ...\n",
      "calculating ...\n",
      "calculating ...\n",
      "calculating ...\n",
      "calculating ...\n",
      "calculating ...\n",
      "calculating ...\n",
      "calculating ...\n",
      "calculating ...\n",
      "calculating ...\n",
      "calculating ...\n",
      "calculating ...\n",
      "calculating ...\n",
      "calculating ...\n",
      "calculating ...\n",
      "calculating ...\n",
      "calculating ...\n",
      "calculating ...\n",
      "calculating ...\n",
      "calculating ...\n",
      "calculating ...\n",
      "calculating ...\n",
      "calculating ...\n",
      "calculating ...\n",
      "calculating ...\n",
      "calculating ...\n",
      "calculating ...\n",
      "calculating ...\n",
      "calculating ...\n",
      "calculating ...\n",
      "calculating ...\n",
      "calculating ...\n",
      "calculating ...\n",
      "calculating ...\n",
      "calculating ...\n",
      "calculating ...\n",
      "calculating ...\n",
      "calculating ...\n",
      "calculating ...\n",
      "calculating ...\n",
      "calculating ...\n",
      "calculating ...\n",
      "calculating ...\n",
      "calculating ...\n",
      "calculating ...\n",
      "calculating ...\n",
      "calculating ...\n",
      "calculating ...\n",
      "calculating ...\n",
      "calculating ...\n",
      "calculating ...\n",
      "calculating ...\n",
      "calculating ...\n",
      "calculating ...\n",
      "calculating ...\n",
      "calculating ...\n",
      "calculating ...\n",
      "calculating ...\n",
      "calculating ...\n",
      "calculating ...\n",
      "calculating ...\n",
      "calculating ...\n",
      "calculating ...\n",
      "calculating ...\n",
      "calculating ...\n",
      "calculating ...\n",
      "calculating ...\n",
      "calculating ...\n",
      "calculating ...\n",
      "calculating ...\n",
      "calculating ...\n",
      "calculating ...\n",
      "calculating ...\n",
      "calculating ...\n",
      "calculating ...\n",
      "calculating ...\n",
      "calculating ...\n",
      "calculating ...\n",
      "calculating ...\n",
      "calculating ...\n",
      "calculating ...\n",
      "calculating ...\n",
      "calculating ...\n",
      "calculating ...\n",
      "calculating ...\n",
      "calculating ...\n",
      "calculating ...\n",
      "calculating ...\n",
      "calculating ...\n",
      "calculating ...\n",
      "calculating ...\n",
      "calculating ...\n",
      "calculating ...\n",
      "calculating ...\n",
      "calculating ...\n",
      "calculating ...\n",
      "calculating ...\n",
      "calculating ...\n",
      "calculating ...\n",
      "calculating ...\n",
      "calculating ...\n",
      "calculating ...\n",
      "calculating ...\n",
      "calculating ...\n",
      "calculating ...\n",
      "calculating ...\n",
      "calculating ...\n",
      "calculating ...\n",
      "Wall time: 20min 27s\n"
     ]
    }
   ],
   "source": [
    "%%time\n",
    "\n",
    "dataset = hologram_dataset\n",
    "n = hologram_dataset.shape[2]\n",
    "seq_legth = 9 # length in pixels of the operating window\n",
    "angle = 0     # spatial orientation of the distribution (degrees)\n",
    "\n",
    "wd_results = calculate_1D_wigner_distribution(dataset, n, seq_legth, angle)\n",
    "\n",
    "# Save to .npy file\n",
    "np.save('wd_results', wd_results)"
   ]
  },
  {
   "cell_type": "code",
   "execution_count": 16,
   "metadata": {},
   "outputs": [
    {
     "name": "stdout",
     "output_type": "stream",
     "text": [
      "(125, 8, 200, 200)\n"
     ]
    }
   ],
   "source": [
    "# Load .npy file\n",
    "wd_results_array = np.load('wd_results.npy')\n",
    "print(wd_results_array.shape)"
   ]
  },
  {
   "cell_type": "code",
   "execution_count": null,
   "metadata": {},
   "outputs": [],
   "source": []
  },
  {
   "cell_type": "markdown",
   "metadata": {},
   "source": [
    "### Generate database to ML"
   ]
  },
  {
   "cell_type": "markdown",
   "metadata": {},
   "source": [
    "Each image compute in the 1D Pseudo-Wigner Distribution will produce 8 images as results, so it becomes impossible to work with so much data (number of holograms examples, 8, 200, 200).\n",
    "\n",
    "We are going to choose some features to analyse the data. For each example, we will have **12 features**. The code is given in \"generateDatasetMachineLearning.py\""
   ]
  },
  {
   "cell_type": "markdown",
   "metadata": {},
   "source": [
    "**Example**"
   ]
  },
  {
   "cell_type": "code",
   "execution_count": 20,
   "metadata": {},
   "outputs": [
    {
     "name": "stdout",
     "output_type": "stream",
     "text": [
      "(8, 200, 200)\n",
      "Element target: 1\n",
      "Element features:\n",
      "{'var': 9038164.010047385, 'std': 2423.3580812837204, 'mean_grad_M': 10492.464622876301, 'std_grad_M': 6895.747130193176, 'mean_grad_D': 0.08424803245590251, 'std_grad_D': 0.9884644034673948, 'mean_PC_X': 200.0, 'std_PC_X': 0.0, 'active_PC_X': 200.0, 'mean_PC_Y': 200.0, 'std_PC_Y': 0.0, 'active_PC_Y': 200.0}\n",
      "Wall time: 8.48 s\n"
     ]
    }
   ],
   "source": [
    "%%time\n",
    "\n",
    "# Example of the Element class (represents one example)\n",
    "array = wd_results_array[0]\n",
    "print(array.shape)\n",
    "target = 1\n",
    "\n",
    "elem = generateDataset.createClassElement(array, target)\n",
    "elem.__print__()"
   ]
  },
  {
   "cell_type": "code",
   "execution_count": 21,
   "metadata": {},
   "outputs": [],
   "source": [
    "def computeTargets(array):\n",
    "    targets = []\n",
    "    y = 1\n",
    "    for i in range(len(array)):\n",
    "        targets.append(y)\n",
    "        if((i+1)%5 == 0):\n",
    "            y = y + 1\n",
    "    return targets"
   ]
  },
  {
   "cell_type": "markdown",
   "metadata": {},
   "source": [
    "**Example**"
   ]
  },
  {
   "cell_type": "code",
   "execution_count": 22,
   "metadata": {},
   "outputs": [
    {
     "name": "stdout",
     "output_type": "stream",
     "text": [
      "(2, 8, 200, 200)\n",
      "Element target: 1\n",
      "Element features:\n",
      "{'var': 9038164.010047385, 'std': 2423.3580812837204, 'mean_grad_M': 10492.464622876301, 'std_grad_M': 6895.747130193176, 'mean_grad_D': 0.08424803245590251, 'std_grad_D': 0.9884644034673948, 'mean_PC_X': 200.0, 'std_PC_X': 0.0, 'active_PC_X': 200.0, 'mean_PC_Y': 200.0, 'std_PC_Y': 0.0, 'active_PC_Y': 200.0}\n",
      "Element target: 1\n",
      "Element features:\n",
      "{'var': 10102737.439468458, 'std': 2758.6245499613856, 'mean_grad_M': 10150.69280422874, 'std_grad_M': 6619.4441429119015, 'mean_grad_D': 0.10372878271344013, 'std_grad_D': 0.6454573105699355, 'mean_PC_X': 200.0, 'std_PC_X': 0.0, 'active_PC_X': 200.0, 'mean_PC_Y': 200.0, 'std_PC_Y': 0.0, 'active_PC_Y': 200.0}\n",
      "Wall time: 15.2 s\n"
     ]
    }
   ],
   "source": [
    "%%time\n",
    "\n",
    "#Example of the Dataset class\n",
    "array = wd_results_array[0:2, :, :, :]\n",
    "target_list = computeTargets(array)\n",
    "\n",
    "ds = generateDataset.createClassDataset(array, len(array), target_list)\n",
    "print(ds.array.shape)\n",
    "\n",
    "ds.wd_list[0].__print__()\n",
    "ds.wd_list[1].__print__()"
   ]
  },
  {
   "cell_type": "markdown",
   "metadata": {},
   "source": [
    "**Create dataset Class from npy array loaded**"
   ]
  },
  {
   "cell_type": "markdown",
   "metadata": {},
   "source": [
    "To compute 25 images, it took  3 minutes.\n",
    "To compute 125 images, it took minutes"
   ]
  },
  {
   "cell_type": "code",
   "execution_count": 23,
   "metadata": {},
   "outputs": [
    {
     "ename": "KeyboardInterrupt",
     "evalue": "",
     "output_type": "error",
     "traceback": [
      "\u001b[1;31m---------------------------------------------------------------------------\u001b[0m",
      "\u001b[1;31mKeyboardInterrupt\u001b[0m                         Traceback (most recent call last)",
      "\u001b[1;32m<timed exec>\u001b[0m in \u001b[0;36m<module>\u001b[1;34m\u001b[0m\n",
      "\u001b[1;32m~\\Desktop\\computerGeneratedHolography\\generateDatasetMachineLearning.py\u001b[0m in \u001b[0;36mgenerate_dataset\u001b[1;34m(array)\u001b[0m\n\u001b[0;32m    131\u001b[0m     \"\"\"\n\u001b[0;32m    132\u001b[0m     \u001b[0mtarget_list\u001b[0m \u001b[1;33m=\u001b[0m \u001b[0mcomputeTargets\u001b[0m\u001b[1;33m(\u001b[0m\u001b[0marray\u001b[0m\u001b[1;33m)\u001b[0m\u001b[1;33m\u001b[0m\u001b[1;33m\u001b[0m\u001b[0m\n\u001b[1;32m--> 133\u001b[1;33m     \u001b[0mdataset\u001b[0m \u001b[1;33m=\u001b[0m \u001b[0mDataset\u001b[0m\u001b[1;33m(\u001b[0m\u001b[0marray\u001b[0m\u001b[1;33m,\u001b[0m \u001b[0mlen\u001b[0m\u001b[1;33m(\u001b[0m\u001b[0marray\u001b[0m\u001b[1;33m)\u001b[0m\u001b[1;33m,\u001b[0m \u001b[0mtarget_list\u001b[0m\u001b[1;33m)\u001b[0m\u001b[1;33m\u001b[0m\u001b[1;33m\u001b[0m\u001b[0m\n\u001b[0m\u001b[0;32m    134\u001b[0m \u001b[1;33m\u001b[0m\u001b[0m\n\u001b[0;32m    135\u001b[0m     \u001b[1;32mreturn\u001b[0m \u001b[0mdataset\u001b[0m\u001b[1;33m\u001b[0m\u001b[1;33m\u001b[0m\u001b[0m\n",
      "\u001b[1;32m~\\Desktop\\computerGeneratedHolography\\generateDatasetMachineLearning.py\u001b[0m in \u001b[0;36m__init__\u001b[1;34m(self, array, length, y_list)\u001b[0m\n\u001b[0;32m    101\u001b[0m         \u001b[0mself\u001b[0m\u001b[1;33m.\u001b[0m\u001b[0mlength\u001b[0m \u001b[1;33m=\u001b[0m \u001b[0mlength\u001b[0m \u001b[1;31m# nb_examples\u001b[0m\u001b[1;33m\u001b[0m\u001b[1;33m\u001b[0m\u001b[0m\n\u001b[0;32m    102\u001b[0m         \u001b[0mself\u001b[0m\u001b[1;33m.\u001b[0m\u001b[0mwd_list\u001b[0m \u001b[1;33m=\u001b[0m \u001b[1;33m[\u001b[0m\u001b[1;33m]\u001b[0m\u001b[1;33m\u001b[0m\u001b[1;33m\u001b[0m\u001b[0m\n\u001b[1;32m--> 103\u001b[1;33m         \u001b[0mself\u001b[0m\u001b[1;33m.\u001b[0m\u001b[0mwd_list\u001b[0m \u001b[1;33m=\u001b[0m \u001b[0mself\u001b[0m\u001b[1;33m.\u001b[0m\u001b[0mcreateElements\u001b[0m\u001b[1;33m(\u001b[0m\u001b[0my_list\u001b[0m\u001b[1;33m)\u001b[0m\u001b[1;33m\u001b[0m\u001b[1;33m\u001b[0m\u001b[0m\n\u001b[0m\u001b[0;32m    104\u001b[0m         \u001b[0mself\u001b[0m\u001b[1;33m.\u001b[0m\u001b[0mfeatures\u001b[0m \u001b[1;33m=\u001b[0m \u001b[1;33m[\u001b[0m\u001b[1;33m[\u001b[0m\u001b[0mfloat\u001b[0m\u001b[1;33m(\u001b[0m\u001b[0mf\u001b[0m\u001b[1;33m)\u001b[0m \u001b[1;32mfor\u001b[0m \u001b[0mf\u001b[0m \u001b[1;32min\u001b[0m \u001b[0melem\u001b[0m\u001b[1;33m.\u001b[0m\u001b[0mfeatures\u001b[0m\u001b[1;33m.\u001b[0m\u001b[0mvalues\u001b[0m\u001b[1;33m(\u001b[0m\u001b[1;33m)\u001b[0m\u001b[1;33m]\u001b[0m \u001b[1;32mfor\u001b[0m \u001b[0melem\u001b[0m \u001b[1;32min\u001b[0m \u001b[0mself\u001b[0m\u001b[1;33m.\u001b[0m\u001b[0mwd_list\u001b[0m\u001b[1;33m]\u001b[0m\u001b[1;33m\u001b[0m\u001b[1;33m\u001b[0m\u001b[0m\n\u001b[0;32m    105\u001b[0m         \u001b[0mself\u001b[0m\u001b[1;33m.\u001b[0m\u001b[0mraw_targets\u001b[0m  \u001b[1;33m=\u001b[0m \u001b[1;33m[\u001b[0m\u001b[1;33m[\u001b[0m\u001b[0mself\u001b[0m\u001b[1;33m.\u001b[0m\u001b[0mwd_list\u001b[0m\u001b[1;33m[\u001b[0m\u001b[0mi\u001b[0m\u001b[1;33m]\u001b[0m\u001b[1;33m.\u001b[0m\u001b[0mtarget\u001b[0m\u001b[1;33m]\u001b[0m \u001b[1;32mfor\u001b[0m \u001b[0mi\u001b[0m \u001b[1;32min\u001b[0m \u001b[0mrange\u001b[0m\u001b[1;33m(\u001b[0m\u001b[0mself\u001b[0m\u001b[1;33m.\u001b[0m\u001b[0mlength\u001b[0m\u001b[1;33m)\u001b[0m\u001b[1;33m]\u001b[0m\u001b[1;33m\u001b[0m\u001b[1;33m\u001b[0m\u001b[0m\n",
      "\u001b[1;32m~\\Desktop\\computerGeneratedHolography\\generateDatasetMachineLearning.py\u001b[0m in \u001b[0;36mcreateElements\u001b[1;34m(self, y_list)\u001b[0m\n\u001b[0;32m    110\u001b[0m         \u001b[1;32mfor\u001b[0m \u001b[0mrow\u001b[0m \u001b[1;32min\u001b[0m \u001b[0mself\u001b[0m\u001b[1;33m.\u001b[0m\u001b[0marray\u001b[0m\u001b[1;33m:\u001b[0m\u001b[1;33m\u001b[0m\u001b[1;33m\u001b[0m\u001b[0m\n\u001b[0;32m    111\u001b[0m             \u001b[1;31m# row : (8, 200, 200)\u001b[0m\u001b[1;33m\u001b[0m\u001b[1;33m\u001b[0m\u001b[1;33m\u001b[0m\u001b[0m\n\u001b[1;32m--> 112\u001b[1;33m             \u001b[0melements\u001b[0m\u001b[1;33m.\u001b[0m\u001b[0mappend\u001b[0m\u001b[1;33m(\u001b[0m\u001b[0mElement\u001b[0m\u001b[1;33m(\u001b[0m\u001b[0mrow\u001b[0m\u001b[1;33m,\u001b[0m \u001b[0my_list\u001b[0m\u001b[1;33m[\u001b[0m\u001b[0mpos\u001b[0m\u001b[1;33m]\u001b[0m\u001b[1;33m)\u001b[0m\u001b[1;33m)\u001b[0m\u001b[1;33m\u001b[0m\u001b[1;33m\u001b[0m\u001b[0m\n\u001b[0m\u001b[0;32m    113\u001b[0m             \u001b[0mpos\u001b[0m \u001b[1;33m=\u001b[0m \u001b[0mpos\u001b[0m \u001b[1;33m+\u001b[0m \u001b[1;36m1\u001b[0m\u001b[1;33m\u001b[0m\u001b[1;33m\u001b[0m\u001b[0m\n\u001b[0;32m    114\u001b[0m         \u001b[1;32mreturn\u001b[0m \u001b[0melements\u001b[0m\u001b[1;33m\u001b[0m\u001b[1;33m\u001b[0m\u001b[0m\n",
      "\u001b[1;32m~\\Desktop\\computerGeneratedHolography\\generateDatasetMachineLearning.py\u001b[0m in \u001b[0;36m__init__\u001b[1;34m(self, data, target)\u001b[0m\n\u001b[0;32m     53\u001b[0m                          \u001b[1;34m'std_PC_Y'\u001b[0m    \u001b[1;33m:\u001b[0m \u001b[1;36m0\u001b[0m\u001b[1;33m,\u001b[0m\u001b[1;33m\u001b[0m\u001b[1;33m\u001b[0m\u001b[0m\n\u001b[0;32m     54\u001b[0m                          'active_PC_Y' : 0}\n\u001b[1;32m---> 55\u001b[1;33m         \u001b[0mself\u001b[0m\u001b[1;33m.\u001b[0m\u001b[0mcomputeFeatures\u001b[0m\u001b[1;33m(\u001b[0m\u001b[0mdata\u001b[0m\u001b[1;33m)\u001b[0m\u001b[1;33m\u001b[0m\u001b[1;33m\u001b[0m\u001b[0m\n\u001b[0m\u001b[0;32m     56\u001b[0m \u001b[1;33m\u001b[0m\u001b[0m\n\u001b[0;32m     57\u001b[0m     \u001b[1;32mdef\u001b[0m \u001b[0mcomputeFeatures\u001b[0m\u001b[1;33m(\u001b[0m\u001b[0mself\u001b[0m\u001b[1;33m,\u001b[0m \u001b[0mdata\u001b[0m\u001b[1;33m)\u001b[0m\u001b[1;33m:\u001b[0m\u001b[1;33m\u001b[0m\u001b[1;33m\u001b[0m\u001b[0m\n",
      "\u001b[1;32m~\\Desktop\\computerGeneratedHolography\\generateDatasetMachineLearning.py\u001b[0m in \u001b[0;36mcomputeFeatures\u001b[1;34m(self, data)\u001b[0m\n\u001b[0;32m     66\u001b[0m         \u001b[1;32mfor\u001b[0m \u001b[0mimage\u001b[0m \u001b[1;32min\u001b[0m \u001b[0mdata\u001b[0m\u001b[1;33m:\u001b[0m\u001b[1;33m\u001b[0m\u001b[1;33m\u001b[0m\u001b[0m\n\u001b[0;32m     67\u001b[0m             \u001b[1;31m# Feature computation\u001b[0m\u001b[1;33m\u001b[0m\u001b[1;33m\u001b[0m\u001b[1;33m\u001b[0m\u001b[0m\n\u001b[1;32m---> 68\u001b[1;33m             \u001b[0mmag\u001b[0m\u001b[1;33m,\u001b[0m \u001b[0mang\u001b[0m \u001b[1;33m=\u001b[0m \u001b[0msobel\u001b[0m\u001b[1;33m(\u001b[0m\u001b[0mimage\u001b[0m\u001b[1;33m)\u001b[0m\u001b[1;33m\u001b[0m\u001b[1;33m\u001b[0m\u001b[0m\n\u001b[0m\u001b[0;32m     69\u001b[0m             \u001b[0mpcx\u001b[0m\u001b[1;33m,\u001b[0m \u001b[0mpcy\u001b[0m \u001b[1;33m=\u001b[0m \u001b[0mpixel_count\u001b[0m\u001b[1;33m(\u001b[0m\u001b[0mimage\u001b[0m\u001b[1;33m)\u001b[0m\u001b[1;33m\u001b[0m\u001b[1;33m\u001b[0m\u001b[0m\n\u001b[0;32m     70\u001b[0m             \u001b[0mmatrix\u001b[0m\u001b[1;33m[\u001b[0m\u001b[0mpos\u001b[0m\u001b[1;33m]\u001b[0m\u001b[1;33m[\u001b[0m\u001b[1;36m0\u001b[0m\u001b[1;33m]\u001b[0m \u001b[1;33m=\u001b[0m \u001b[1;33m(\u001b[0m\u001b[0mnp\u001b[0m\u001b[1;33m.\u001b[0m\u001b[0mvar\u001b[0m\u001b[1;33m(\u001b[0m\u001b[0mimage\u001b[0m\u001b[1;33m)\u001b[0m\u001b[1;33m)\u001b[0m\u001b[1;33m\u001b[0m\u001b[1;33m\u001b[0m\u001b[0m\n",
      "\u001b[1;32m~\\Desktop\\computerGeneratedHolography\\generateDatasetMachineLearning.py\u001b[0m in \u001b[0;36msobel\u001b[1;34m(image)\u001b[0m\n\u001b[0;32m     17\u001b[0m         \u001b[1;32mfor\u001b[0m \u001b[0mj\u001b[0m \u001b[1;32min\u001b[0m \u001b[0mrange\u001b[0m\u001b[1;33m(\u001b[0m\u001b[0mw\u001b[0m \u001b[1;33m-\u001b[0m \u001b[1;36m2\u001b[0m\u001b[1;33m)\u001b[0m\u001b[1;33m:\u001b[0m\u001b[1;33m\u001b[0m\u001b[1;33m\u001b[0m\u001b[0m\n\u001b[0;32m     18\u001b[0m             \u001b[0mgrad_x\u001b[0m\u001b[1;33m[\u001b[0m\u001b[0mi\u001b[0m\u001b[1;33m,\u001b[0m \u001b[0mj\u001b[0m\u001b[1;33m]\u001b[0m \u001b[1;33m=\u001b[0m \u001b[0msum\u001b[0m\u001b[1;33m(\u001b[0m\u001b[0msum\u001b[0m\u001b[1;33m(\u001b[0m\u001b[0mimage\u001b[0m\u001b[1;33m[\u001b[0m\u001b[0mi\u001b[0m \u001b[1;33m:\u001b[0m \u001b[0mi\u001b[0m \u001b[1;33m+\u001b[0m \u001b[1;36m3\u001b[0m\u001b[1;33m,\u001b[0m \u001b[0mj\u001b[0m \u001b[1;33m:\u001b[0m \u001b[0mj\u001b[0m \u001b[1;33m+\u001b[0m \u001b[1;36m3\u001b[0m\u001b[1;33m]\u001b[0m \u001b[1;33m*\u001b[0m \u001b[0mkernel_x\u001b[0m\u001b[1;33m)\u001b[0m\u001b[1;33m)\u001b[0m\u001b[1;33m\u001b[0m\u001b[1;33m\u001b[0m\u001b[0m\n\u001b[1;32m---> 19\u001b[1;33m             \u001b[0mgrad_y\u001b[0m\u001b[1;33m[\u001b[0m\u001b[0mi\u001b[0m\u001b[1;33m,\u001b[0m \u001b[0mj\u001b[0m\u001b[1;33m]\u001b[0m \u001b[1;33m=\u001b[0m \u001b[0msum\u001b[0m\u001b[1;33m(\u001b[0m\u001b[0msum\u001b[0m\u001b[1;33m(\u001b[0m\u001b[0mimage\u001b[0m\u001b[1;33m[\u001b[0m\u001b[0mi\u001b[0m \u001b[1;33m:\u001b[0m \u001b[0mi\u001b[0m \u001b[1;33m+\u001b[0m \u001b[1;36m3\u001b[0m\u001b[1;33m,\u001b[0m \u001b[0mj\u001b[0m \u001b[1;33m:\u001b[0m \u001b[0mj\u001b[0m \u001b[1;33m+\u001b[0m \u001b[1;36m3\u001b[0m\u001b[1;33m]\u001b[0m \u001b[1;33m*\u001b[0m \u001b[0mkernel_y\u001b[0m\u001b[1;33m)\u001b[0m\u001b[1;33m)\u001b[0m\u001b[1;33m\u001b[0m\u001b[1;33m\u001b[0m\u001b[0m\n\u001b[0m\u001b[0;32m     20\u001b[0m             \u001b[1;32mif\u001b[0m \u001b[0mgrad_x\u001b[0m\u001b[1;33m[\u001b[0m\u001b[0mi\u001b[0m\u001b[1;33m,\u001b[0m \u001b[0mj\u001b[0m\u001b[1;33m]\u001b[0m \u001b[1;33m==\u001b[0m \u001b[1;36m0\u001b[0m\u001b[1;33m:\u001b[0m\u001b[1;33m\u001b[0m\u001b[1;33m\u001b[0m\u001b[0m\n\u001b[0;32m     21\u001b[0m                 \u001b[0mgrad_x\u001b[0m\u001b[1;33m[\u001b[0m\u001b[0mi\u001b[0m\u001b[1;33m,\u001b[0m \u001b[0mj\u001b[0m\u001b[1;33m]\u001b[0m \u001b[1;33m=\u001b[0m \u001b[1;36m0.000001\u001b[0m\u001b[1;33m\u001b[0m\u001b[1;33m\u001b[0m\u001b[0m\n",
      "\u001b[1;31mKeyboardInterrupt\u001b[0m: "
     ]
    }
   ],
   "source": [
    "%%time\n",
    " \n",
    "dataset = generateDataset.generate_dataset(wd_results_array)\n",
    "print(type(dataset))"
   ]
  },
  {
   "cell_type": "markdown",
   "metadata": {},
   "source": [
    "**Create dataset from npy file and return arrays**"
   ]
  },
  {
   "cell_type": "code",
   "execution_count": 24,
   "metadata": {},
   "outputs": [
    {
     "name": "stdout",
     "output_type": "stream",
     "text": [
      "Creating dataset...\n",
      "\n",
      "Finished creating dataset\n",
      "\n",
      "(125, 12)\n",
      "(125,)\n",
      "Wall time: 17min 9s\n"
     ]
    }
   ],
   "source": [
    "%%time\n",
    "\n",
    "X_array, Y_array = generateDataset.create_data_file('wd_results.npy')\n",
    "\n",
    "print(X_array.shape)\n",
    "print(Y_array.shape)"
   ]
  },
  {
   "cell_type": "code",
   "execution_count": 182,
   "metadata": {},
   "outputs": [],
   "source": [
    "np.save('X_array.npy', X_array)\n",
    "np.save('Y_array.npy', Y_array)"
   ]
  },
  {
   "cell_type": "code",
   "execution_count": 183,
   "metadata": {},
   "outputs": [
    {
     "data": {
      "text/plain": [
       "\"\\n# Load database from .npy files\\nX_array = np.load('X_array.npy')\\nY_array = np.load('Y_array.npy')\\n\""
      ]
     },
     "execution_count": 183,
     "metadata": {},
     "output_type": "execute_result"
    }
   ],
   "source": [
    "'''\n",
    "# Load database from .npy files\n",
    "X_array = np.load('X_array.npy')\n",
    "Y_array = np.load('Y_array.npy')\n",
    "'''"
   ]
  },
  {
   "cell_type": "code",
   "execution_count": 158,
   "metadata": {},
   "outputs": [
    {
     "name": "stdout",
     "output_type": "stream",
     "text": [
      "Data :  (125, 12) (125,)\n",
      "Train:  (100, 12) (100,)\n",
      "Test :  (25, 12) (25,)\n"
     ]
    }
   ],
   "source": [
    "# Fix Y_array !!!!!!!!!!!!!!!!!!\n",
    "counter = 1\n",
    "target = 1\n",
    "for i in range(125):\n",
    "    if counter == 26:\n",
    "        target = target + 1\n",
    "        counter = 1\n",
    "    Y_array[i,] = target\n",
    "    counter = counter + 1\n",
    "\n",
    "# Number of examples\n",
    "m = X_array.shape[0]\n",
    "\n",
    "# Number of features\n",
    "n = X_array.shape[1]\n",
    "\n",
    "# Split our data in two subsets: training set (80%) and testing set (20%)\n",
    "m_train = int(m*0.8)\n",
    "m_test = m - m_train\n",
    "\n",
    "X_train = np.zeros((m_train, n))\n",
    "Y_train = np.zeros((m_train, ))\n",
    "\n",
    "X_test = np.zeros((m_test, n))\n",
    "Y_test = np.zeros((m_test, ))\n",
    "\n",
    "# Number of holograms per class\n",
    "nb_holograms = 25\n",
    "\n",
    "# Auxiliary variables\n",
    "counter = 1\n",
    "pos_train = 0\n",
    "pos_test = 0\n",
    "\n",
    "# Split the data\n",
    "for i in range(m):\n",
    "    if (counter <= 20):\n",
    "        X_train[pos_train,:] = X_array[i,:]\n",
    "        Y_train[pos_train] = Y_array[i]\n",
    "        pos_train = pos_train + 1\n",
    "    else:\n",
    "        X_test[pos_test,:] = X_array[i,:]\n",
    "        Y_test[pos_test] = Y_array[i]\n",
    "        pos_test = pos_test + 1\n",
    "    if (counter == 25):\n",
    "        counter = 1\n",
    "    else:\n",
    "        counter = counter + 1\n",
    "        \n",
    "print('Data : ', X_array.shape, Y_array.shape)\n",
    "print('Train: ', X_train.shape, Y_train.shape)\n",
    "print('Test : ', X_test.shape, Y_test.shape)"
   ]
  },
  {
   "cell_type": "code",
   "execution_count": 142,
   "metadata": {},
   "outputs": [],
   "source": [
    "def normalize(arr):\n",
    "    '''\n",
    "    Function to normalize the features\n",
    "    '''\n",
    "    max_line = np.max(arr, axis=0)\n",
    "    min_line = np.min(arr, axis=0)\n",
    "    arr = (arr - min_line) / (max_line - min_line)\n",
    "    return arr"
   ]
  },
  {
   "cell_type": "code",
   "execution_count": 181,
   "metadata": {},
   "outputs": [
    {
     "name": "stdout",
     "output_type": "stream",
     "text": [
      "Train norm:  (100, 12)\n",
      "Test norm :  (25, 12)\n"
     ]
    }
   ],
   "source": [
    "# Normalize the features\n",
    "X_train_norm = np.zeros((m_train, n))\n",
    "for i in range(len(X_train)):\n",
    "    X_train_norm[i,:] = normalize(X_train[i,:])\n",
    "\n",
    "X_test_norm = np.zeros((m_test, n))\n",
    "for i in range(len(X_test)):\n",
    "    X_test_norm[i,:] = normalize(X_test[i,:])\n",
    "    \n",
    "print('Train norm: ', X_train_norm.shape)\n",
    "print('Test norm : ', X_test_norm.shape)"
   ]
  },
  {
   "cell_type": "code",
   "execution_count": null,
   "metadata": {},
   "outputs": [],
   "source": []
  },
  {
   "cell_type": "code",
   "execution_count": null,
   "metadata": {},
   "outputs": [],
   "source": []
  },
  {
   "cell_type": "markdown",
   "metadata": {},
   "source": [
    "## Machine Learning algorithms"
   ]
  },
  {
   "cell_type": "code",
   "execution_count": 244,
   "metadata": {},
   "outputs": [],
   "source": [
    "import itertools\n",
    "import pandas as pd\n",
    "import joblib\n",
    "\n",
    "from sklearn.neighbors import KNeighborsClassifier\n",
    "from sklearn.tree import DecisionTreeClassifier\n",
    "from sklearn import svm\n",
    "from sklearn.metrics import accuracy_score\n",
    "from sklearn.metrics import confusion_matrix"
   ]
  },
  {
   "cell_type": "markdown",
   "metadata": {},
   "source": [
    "### Evaluation methods\n",
    "\n",
    "Functions used to analyse the accuracy of the classifier."
   ]
  },
  {
   "cell_type": "code",
   "execution_count": 195,
   "metadata": {},
   "outputs": [],
   "source": [
    "def plot_confusion_matrix(clf, data_x, data_y, nb_classes):\n",
    "    classes = range(1,(nb_classes+1))\n",
    "    \n",
    "    Ypred = clf.predict(data_x)\n",
    "    \n",
    "    # Computation of confusion matrix on testing set\n",
    "    cm = confusion_matrix(data_y, Ypred)\n",
    "    \n",
    "    plt.figure(figsize=(6,6))\n",
    "    plt.imshow(cm, interpolation='nearest', cmap=plt.cm.Blues)\n",
    "    plt.colorbar()\n",
    "    tick_marks = np.arange(len(classes))\n",
    "    plt.xticks(tick_marks, classes, rotation=45)\n",
    "    plt.yticks(tick_marks, classes)\n",
    "\n",
    "    fmt = 'd'\n",
    "    thresh = cm.max() / 2.\n",
    "    for i, j in itertools.product(range(cm.shape[0]), range(cm.shape[1])):\n",
    "        plt.text(j, i, format(cm[i, j], fmt),\n",
    "                 horizontalalignment=\"center\",\n",
    "                 color=\"white\" if cm[i, j] > thresh else \"black\")\n",
    "\n",
    "    plt.ylabel('True label')\n",
    "    plt.xlabel('Predicted label')\n",
    "    plt.tight_layout()"
   ]
  },
  {
   "cell_type": "markdown",
   "metadata": {},
   "source": [
    "### K-Nearest Neighbors method"
   ]
  },
  {
   "cell_type": "code",
   "execution_count": 220,
   "metadata": {},
   "outputs": [],
   "source": [
    "def knn_model(nb_k, X_train, Y_train):\n",
    "    '''\n",
    "    Train and fit the knn model\n",
    "    '''\n",
    "    # Train the classifier (clf)\n",
    "    print('Training the KNN classifier...')\n",
    "    clf = KNeighborsClassifier(n_neighbors = nb_k)\n",
    "    print(\"Finished trainning KNN Model with \" + str(nb_k) + \" neighbors\")\n",
    "    \n",
    "    # Fit the model\n",
    "    return clf.fit(X_train, Y_train)"
   ]
  },
  {
   "cell_type": "code",
   "execution_count": 224,
   "metadata": {},
   "outputs": [],
   "source": [
    "def visualize_model(clf, X_data, Y_data, filename, type_data):\n",
    "    '''\n",
    "    Predict the class labels for the provided data and plot the confusion matrix with the accuracy\n",
    "    '''\n",
    "    predicted = clf.predict(X_data)    \n",
    "    plot_confusion_matrix(clf, X_data, Y_data, 5)\n",
    "    plt.title(type_data + ' confusion matrix: accuracy of ' + str(round((accuracy_score(Y_data, predicted) * 100), 3)) + \"%\\n \" + str(len(X_data)) +\" examples used\")\n",
    "    plt.savefig(filename)"
   ]
  },
  {
   "cell_type": "code",
   "execution_count": 230,
   "metadata": {},
   "outputs": [
    {
     "name": "stdout",
     "output_type": "stream",
     "text": [
      "Training the KNN classifier...\n",
      "Finished trainning KNN Model with 2 neighbors\n",
      "Wall time: 418 ms\n"
     ]
    },
    {
     "data": {
      "image/png": "[encoded data removed]",
      "text/plain": [
       "<Figure size 432x432 with 2 Axes>"
      ]
     },
     "metadata": {
      "needs_background": "light"
     },
     "output_type": "display_data"
    }
   ],
   "source": [
    "%%time\n",
    "\n",
    "# Number of neighbors\n",
    "nb_k = 2\n",
    "\n",
    "# Train and fit the model\n",
    "knn = knn_model(nb_k, X_train, Y_train)\n",
    "\n",
    "# Save the knn classifier (avoid to retrain the model)\n",
    "joblib.dump(knn, './output/machine_learning/knn_clf.joblib') \n",
    "\n",
    "# Visualize train results\n",
    "visualize_model(knn, X_train, Y_train, './output/machine_learning/knn_train', 'Train')"
   ]
  },
  {
   "cell_type": "code",
   "execution_count": 219,
   "metadata": {},
   "outputs": [
    {
     "name": "stdout",
     "output_type": "stream",
     "text": [
      "Wall time: 354 ms\n"
     ]
    },
    {
     "data": {
      "image/png": "[encoded data removed]",
      "text/plain": [
       "<Figure size 432x432 with 2 Axes>"
      ]
     },
     "metadata": {
      "needs_background": "light"
     },
     "output_type": "display_data"
    }
   ],
   "source": [
    "%%time\n",
    "\n",
    "# Visualize test results\n",
    "visualize_knn_model(knn, X_test, Y_test, './output/machine_learning/knn_test', 'Test')"
   ]
  },
  {
   "cell_type": "code",
   "execution_count": null,
   "metadata": {},
   "outputs": [],
   "source": []
  },
  {
   "cell_type": "markdown",
   "metadata": {},
   "source": [
    "### Decision Tree method"
   ]
  },
  {
   "cell_type": "code",
   "execution_count": 223,
   "metadata": {},
   "outputs": [],
   "source": [
    "def decision_tree_model(depth, X_train, Y_train):\n",
    "    '''\n",
    "    Train and fit the decision tree model\n",
    "    '''\n",
    "    # Train the classifier (clf)\n",
    "    print('Training the Decision Tree classifier...')\n",
    "    clf = DecisionTreeClassifier(max_depth = depth)\n",
    "    print(\"Finished trainning Decision Tree Model with \" + str(nb_k) + \" depth\")\n",
    "    \n",
    "    # Fit the model\n",
    "    return clf.fit(X_train, Y_train)"
   ]
  },
  {
   "cell_type": "code",
   "execution_count": 231,
   "metadata": {},
   "outputs": [
    {
     "name": "stdout",
     "output_type": "stream",
     "text": [
      "Training the Decision Tree classifier...\n",
      "Finished trainning Decision Tree Model with 2 depth\n",
      "Wall time: 368 ms\n"
     ]
    },
    {
     "data": {
      "image/png": "[encoded data removed]",
      "text/plain": [
       "<Figure size 432x432 with 2 Axes>"
      ]
     },
     "metadata": {
      "needs_background": "light"
     },
     "output_type": "display_data"
    }
   ],
   "source": [
    "%%time\n",
    "\n",
    "# The maximum depth of the tree\n",
    "depth = 5\n",
    "\n",
    "# Train and fit the model\n",
    "decision_tree = decision_tree_model(depth, X_train, Y_train)\n",
    "\n",
    "# Save the knn classifier (avoid to retrain the model)\n",
    "joblib.dump(knn, './output/machine_learning/decision_tree_clf.joblib') \n",
    "    \n",
    "# Visualize train results\n",
    "visualize_model(decision_tree, X_train, Y_train, './output/machine_learning/decision_tree_train', 'Train')"
   ]
  },
  {
   "cell_type": "code",
   "execution_count": 233,
   "metadata": {},
   "outputs": [
    {
     "name": "stdout",
     "output_type": "stream",
     "text": [
      "Wall time: 654 ms\n"
     ]
    },
    {
     "data": {
      "image/png": "[encoded data removed]",
      "text/plain": [
       "<Figure size 432x432 with 2 Axes>"
      ]
     },
     "metadata": {
      "needs_background": "light"
     },
     "output_type": "display_data"
    }
   ],
   "source": [
    "%%time\n",
    "\n",
    "# Visualize test results\n",
    "visualize_model(decision_tree, X_test, Y_test, './output/machine_learning/decision_tree_test', 'Test')"
   ]
  },
  {
   "cell_type": "code",
   "execution_count": null,
   "metadata": {},
   "outputs": [],
   "source": []
  },
  {
   "cell_type": "markdown",
   "metadata": {},
   "source": [
    "## Support Vector Machines method"
   ]
  },
  {
   "cell_type": "code",
   "execution_count": 245,
   "metadata": {},
   "outputs": [],
   "source": [
    "def svm_model(X_train, Y_train):\n",
    "    '''\n",
    "    Train and fit the SVM model\n",
    "    '''\n",
    "    # Train the classifier (clf)\n",
    "    print('Training the SVM classifier...')\n",
    "    clf = svm.SVC()\n",
    "    print(\"Finished trainning SVM Model\")\n",
    "    \n",
    "    # Fit the model\n",
    "    return clf.fit(X_train, Y_train)"
   ]
  },
  {
   "cell_type": "code",
   "execution_count": 247,
   "metadata": {},
   "outputs": [
    {
     "name": "stdout",
     "output_type": "stream",
     "text": [
      "Training the SVM classifier...\n",
      "Finished trainning SVM Model\n",
      "Wall time: 375 ms\n"
     ]
    },
    {
     "data": {
      "image/png": "[encoded data removed]",
      "text/plain": [
       "<Figure size 432x432 with 2 Axes>"
      ]
     },
     "metadata": {
      "needs_background": "light"
     },
     "output_type": "display_data"
    }
   ],
   "source": [
    "%%time\n",
    "\n",
    "# Train and fit the model\n",
    "svm_clf = svm_model(X_train, Y_train)\n",
    "\n",
    "# Save the svm classifier (avoid to retrain the model)\n",
    "joblib.dump(svm_clf, './output/machine_learning/svm_clf.joblib') \n",
    "    \n",
    "# Visualize train results\n",
    "visualize_model(svm_clf, X_train, Y_train, './output/machine_learning/svm_train', 'Train')"
   ]
  },
  {
   "cell_type": "code",
   "execution_count": 249,
   "metadata": {},
   "outputs": [
    {
     "name": "stdout",
     "output_type": "stream",
     "text": [
      "Wall time: 266 ms\n"
     ]
    },
    {
     "data": {
      "image/png": "[encoded data removed]",
      "text/plain": [
       "<Figure size 432x432 with 2 Axes>"
      ]
     },
     "metadata": {
      "needs_background": "light"
     },
     "output_type": "display_data"
    }
   ],
   "source": [
    "%%time\n",
    "\n",
    "# Visualize test results\n",
    "visualize_model(svm_clf, X_test, Y_test, './output/machine_learning/svm_test', 'Test')"
   ]
  },
  {
   "cell_type": "code",
   "execution_count": null,
   "metadata": {},
   "outputs": [],
   "source": []
  }
 ],
 "metadata": {
  "kernelspec": {
   "display_name": "Python 3",
   "language": "python",
   "name": "python3"
  },
  "language_info": {
   "codemirror_mode": {
    "name": "ipython",
    "version": 3
   },
   "file_extension": ".py",
   "mimetype": "text/x-python",
   "name": "python",
   "nbconvert_exporter": "python",
   "pygments_lexer": "ipython3",
   "version": "3.7.4"
  }
 },
 "nbformat": 4,
 "nbformat_minor": 2
}
