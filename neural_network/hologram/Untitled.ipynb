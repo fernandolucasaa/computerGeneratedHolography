{
 "cells": [
  {
   "cell_type": "code",
   "execution_count": 1,
   "metadata": {},
   "outputs": [],
   "source": [
    "import numpy as np\n",
    "import matplotlib.pyplot as plt\n",
    "import os\n",
    "import scipy.io\n",
    "import collections\n",
    "import pandas as pd"
   ]
  },
  {
   "cell_type": "code",
   "execution_count": 2,
   "metadata": {},
   "outputs": [],
   "source": [
    "def loadMatFile(file_path, file_name, key):\n",
    "    \"\"\"\n",
    "    Load a mat file and return an item of the dictionary loaded.\n",
    "    \"\"\"    \n",
    "    # read mat file dictionary\n",
    "    dictionary = scipy.io.loadmat(file_path + file_name)\n",
    "    \n",
    "    # access item of a dictionary\n",
    "    array = dictionary[key]\n",
    "    \n",
    "    return array"
   ]
  },
  {
   "cell_type": "code",
   "execution_count": 3,
   "metadata": {},
   "outputs": [
    {
     "name": "stdout",
     "output_type": "stream",
     "text": [
      "(200, 200, 1500)\n",
      "Total number of holograms: 1500\n",
      "Number of holograms per class: 300\n"
     ]
    }
   ],
   "source": [
    "# Load hologram dataset\n",
    "path = 'C:\\\\Users\\\\ferna\\\\Desktop\\\\computerGeneratedHolography\\\\'\n",
    "# path = 'C:\\\\Users\\\\flucasamar\\\\Desktop\\\\Github\\\\computerGeneratedHolography\\\\'\n",
    "file_path = path + '\\\\output\\\\dataset\\\\'\n",
    "\n",
    "file_name = 'hDataset.mat'\n",
    "key = 'hDataset'\n",
    "\n",
    "# Load dictionary\n",
    "dat = loadMatFile(file_path, file_name, key)\n",
    "print(dat.shape)\n",
    "\n",
    "# Number of holograms\n",
    "nb_holograms = dat.shape[2]\n",
    "\n",
    "# Number of class\n",
    "nb_class = 5\n",
    "\n",
    "# Number of holograms per class\n",
    "nb_holograms_class = int(nb_holograms/nb_class)\n",
    "\n",
    "print('Total number of holograms: ' + str(nb_holograms))\n",
    "print('Number of holograms per class: ' + str(nb_holograms_class))"
   ]
  },
  {
   "cell_type": "code",
   "execution_count": 4,
   "metadata": {},
   "outputs": [
    {
     "name": "stdout",
     "output_type": "stream",
     "text": [
      "(1500, 200, 200)\n"
     ]
    }
   ],
   "source": [
    "# Dimension\n",
    "rows = dat.shape[0]\n",
    "columns = dat.shape[1]\n",
    "\n",
    "# Reshape the dataset so that the first dimension is the number of holograms\n",
    "dat_r = np.ones([nb_holograms, rows, columns], dtype = complex)\n",
    "print(dat_r.shape)\n",
    "\n",
    "for i in range(nb_holograms):\n",
    "    dat_r[i,:,:] = dat[:,:,i]"
   ]
  },
  {
   "cell_type": "code",
   "execution_count": 7,
   "metadata": {},
   "outputs": [
    {
     "name": "stdout",
     "output_type": "stream",
     "text": [
      "(1500, 40000)\n"
     ]
    }
   ],
   "source": [
    "data_1D = np.reshape(dat_r, (1500, 40000))\n",
    "print(data_1D.shape)"
   ]
  },
  {
   "cell_type": "markdown",
   "metadata": {},
   "source": [
    "***Parallel processing in python***"
   ]
  },
  {
   "cell_type": "code",
   "execution_count": 8,
   "metadata": {},
   "outputs": [],
   "source": [
    "import multiprocessing as mp"
   ]
  },
  {
   "cell_type": "code",
   "execution_count": 9,
   "metadata": {},
   "outputs": [
    {
     "name": "stdout",
     "output_type": "stream",
     "text": [
      "Number of processors:  4\n"
     ]
    }
   ],
   "source": [
    "print('Number of processors: ', mp.cpu_count())"
   ]
  },
  {
   "cell_type": "code",
   "execution_count": 10,
   "metadata": {},
   "outputs": [
    {
     "data": {
      "text/plain": [
       "[[7, 4, 8, 2, 6],\n",
       " [3, 5, 5, 4, 4],\n",
       " [4, 4, 0, 1, 5],\n",
       " [7, 0, 7, 4, 7],\n",
       " [9, 5, 9, 3, 6]]"
      ]
     },
     "execution_count": 10,
     "metadata": {},
     "output_type": "execute_result"
    }
   ],
   "source": [
    "import numpy as np\n",
    "from time import time\n",
    "\n",
    "# Prepare data\n",
    "np.random.RandomState(100)\n",
    "arr = np.random.randint(0, 10, size=[200000, 5])\n",
    "data = arr.tolist()\n",
    "data[:5]"
   ]
  },
  {
   "cell_type": "code",
   "execution_count": 11,
   "metadata": {},
   "outputs": [
    {
     "name": "stdout",
     "output_type": "stream",
     "text": [
      "[4, 4, 3, 4, 2, 3, 3, 3, 2, 1]\n",
      "Wall time: 200 ms\n"
     ]
    }
   ],
   "source": [
    "%%time\n",
    "# Solution Without Paralleization\n",
    "\n",
    "def howmany_within_range(row, minimum, maximum):\n",
    "    \"\"\"Returns how many numbers lie within `maximum` and `minimum` in a given `row`\"\"\"\n",
    "    count = 0\n",
    "    for n in row:\n",
    "        if minimum <= n <= maximum:\n",
    "            count = count + 1\n",
    "    return count\n",
    "\n",
    "results = []\n",
    "for row in data:\n",
    "    results.append(howmany_within_range(row, minimum=4, maximum=8))\n",
    "\n",
    "print(results[:10])\n",
    "#> [3, 1, 4, 4, 4, 2, 1, 1, 3, 3]"
   ]
  },
  {
   "cell_type": "code",
   "execution_count": null,
   "metadata": {},
   "outputs": [],
   "source": [
    "%%time\n",
    "# Parallelizing using Pool.apply()\n",
    "\n",
    "import multiprocessing as mp\n",
    "\n",
    "# Step 1: Init multiprocessing.Pool()\n",
    "pool = mp.Pool(mp.cpu_count())\n",
    "\n",
    "# Step 2: `pool.apply` the `howmany_within_range()`\n",
    "results = [pool.apply(howmany_within_range, args=(row, 4, 8)) for row in data]\n",
    "\n",
    "# Step 3: Don't forget to close\n",
    "pool.close()    \n",
    "\n",
    "print(results[:10])\n",
    "#> [3, 1, 4, 4, 4, 2, 1, 1, 3, 3]"
   ]
  },
  {
   "cell_type": "code",
   "execution_count": 3,
   "metadata": {},
   "outputs": [],
   "source": [
    "import workers\n",
    "import multiprocessing as mp"
   ]
  },
  {
   "cell_type": "code",
   "execution_count": 35,
   "metadata": {},
   "outputs": [
    {
     "name": "stdout",
     "output_type": "stream",
     "text": [
      "Wall time: 324 ms\n"
     ]
    }
   ],
   "source": [
    "%%time\n",
    "\n",
    "if __name__ ==  '__main__': \n",
    "    \n",
    "    num_processors = 3\n",
    "    p = mp.Pool(processes = num_processors)\n",
    "    \n",
    "    output = p.map(workers.worker,[i for i in range(0,100000)])\n",
    "    #print(output)"
   ]
  },
  {
   "cell_type": "code",
   "execution_count": 36,
   "metadata": {},
   "outputs": [],
   "source": [
    "def w(x):\n",
    "    return x*x"
   ]
  },
  {
   "cell_type": "code",
   "execution_count": 37,
   "metadata": {},
   "outputs": [
    {
     "name": "stdout",
     "output_type": "stream",
     "text": [
      "Wall time: 44 ms\n"
     ]
    }
   ],
   "source": [
    "%%time\n",
    "\n",
    "output2 = []\n",
    "for i in range(0,100000):\n",
    "    output2.append(w(i))\n",
    "    \n",
    "#print(output2)"
   ]
  },
  {
   "cell_type": "code",
   "execution_count": null,
   "metadata": {},
   "outputs": [],
   "source": []
  }
 ],
 "metadata": {
  "kernelspec": {
   "display_name": "Python 3",
   "language": "python",
   "name": "python3"
  },
  "language_info": {
   "codemirror_mode": {
    "name": "ipython",
    "version": 3
   },
   "file_extension": ".py",
   "mimetype": "text/x-python",
   "name": "python",
   "nbconvert_exporter": "python",
   "pygments_lexer": "ipython3",
   "version": "3.7.6"
  }
 },
 "nbformat": 4,
 "nbformat_minor": 4
}
