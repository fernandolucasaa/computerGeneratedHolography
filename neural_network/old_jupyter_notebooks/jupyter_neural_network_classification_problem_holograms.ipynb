{
 "cells": [
  {
   "cell_type": "code",
   "execution_count": 1,
   "metadata": {},
   "outputs": [
    {
     "name": "stderr",
     "output_type": "stream",
     "text": [
      "Using TensorFlow backend.\n"
     ]
    }
   ],
   "source": [
    "import numpy as np\n",
    "import matplotlib.pyplot as plt\n",
    "import os\n",
    "import scipy.io\n",
    "import collections\n",
    "import pandas as pd\n",
    "\n",
    "from keras.models import Sequential\n",
    "from keras.models import model_from_json\n",
    "from keras.layers import Dense, Conv2D, Flatten\n",
    "from keras.utils import to_categorical\n",
    "from keras.utils.vis_utils import plot_model"
   ]
  },
  {
   "cell_type": "markdown",
   "metadata": {},
   "source": [
    "## 1. Prepare dataset"
   ]
  },
  {
   "cell_type": "code",
   "execution_count": 2,
   "metadata": {},
   "outputs": [
    {
     "name": "stdout",
     "output_type": "stream",
     "text": [
      "----- Loading hologram dataset... -----\n",
      "Hologram dataset loaded (matlab file dictionary)\n",
      "Hologram dataset shape:  (200, 200, 1500)\n",
      "Total number of holograms: 1500\n",
      "Number of holograms per class: 300\n",
      "Hologram dataset saved in .npy file!\n",
      "\n",
      "----- Data pre-procesing... -----\n",
      "Reshaping dataset to 1 dimension...\n",
      "Dataset 1D shape:  (1500, 40000)\n",
      "Normalizing dataset...\n",
      "Normalized dataset shape:  (1500, 40000)\n",
      "Computing Y_array...\n",
      "Y_array shape:  (1500,)\n",
      "Counter({0.0: 300, 1.0: 300, 2.0: 300, 3.0: 300, 4.0: 300})\n",
      "Y_array saved in a .npy file!\n",
      "\n",
      "----- Spliting dataset... -----\n",
      "Trainset: 80.0%, testset: 20.0 %\n",
      "Data :  (1500, 40000) (1500,)\n",
      "Train:  (1200, 40000) (1200,)\n",
      "Test :  (300, 40000) (300,)\n",
      "X_train, Y_train, X_test, Y_test saved in .npy files!\n",
      "\n",
      "Done!\n",
      "Execution time: 15.4556 seconds\n"
     ]
    }
   ],
   "source": [
    "%run create_dataset_hologram.py"
   ]
  },
  {
   "cell_type": "code",
   "execution_count": 2,
   "metadata": {},
   "outputs": [
    {
     "name": "stdout",
     "output_type": "stream",
     "text": [
      "Train:  (1200, 40000) (1200,)\n",
      "Test :  (300, 40000) (300,)\n"
     ]
    }
   ],
   "source": [
    "# Load the dataset\n",
    "X_train = np.load('X_train.npy')\n",
    "Y_train = np.load('Y_train.npy')\n",
    "\n",
    "X_test = np.load('X_test.npy')\n",
    "Y_test = np.load('Y_test.npy')\n",
    "\n",
    "print('Train: ', X_train.shape, Y_train.shape)\n",
    "print('Test : ', X_test.shape, Y_test.shape)"
   ]
  },
  {
   "cell_type": "markdown",
   "metadata": {},
   "source": [
    "## 2. Neural network"
   ]
  },
  {
   "cell_type": "code",
   "execution_count": 3,
   "metadata": {},
   "outputs": [
    {
     "name": "stdout",
     "output_type": "stream",
     "text": [
      "WARNING:tensorflow:From c:\\users\\flucasamar\\appdata\\local\\programs\\python\\python37\\lib\\site-packages\\tensorflow_core\\python\\ops\\resource_variable_ops.py:1630: calling BaseResourceVariable.__init__ (from tensorflow.python.ops.resource_variable_ops) with constraint is deprecated and will be removed in a future version.\n",
      "Instructions for updating:\n",
      "If using Keras pass *_constraint arguments to layers.\n"
     ]
    }
   ],
   "source": [
    "# Create the model\n",
    "model = Sequential() # build a model layer by layer\n",
    "\n",
    "# Add model layers\n",
    "\n",
    "# First layer (input layer)\n",
    "nb_nodes1 = 12\n",
    "input_dim1 = 8 \n",
    "activation1 = 'relu' # Rectified linear unit (ReLU)\n",
    "\n",
    "model.add(Dense(nb_nodes1, input_dim=input_dim1, activation=activation1))\n",
    "\n",
    "# Second layer (hidden layer)\n",
    "nb_nodes2 = 8\n",
    "activation2 = 'relu' # Rectified linear unit (ReLU)\n",
    "\n",
    "model.add(Dense(nb_nodes2, activation=activation2))\n",
    "\n",
    "# Third layer (output layer)\n",
    "nb_nodes3 = 1\n",
    "activation3 = 'sigmoid' # Sigmoid, ensures the newtowork output between 0 and 1\n",
    "\n",
    "model.add(Dense(nb_nodes3, activation=activation3))"
   ]
  },
  {
   "cell_type": "code",
   "execution_count": 4,
   "metadata": {},
   "outputs": [
    {
     "name": "stdout",
     "output_type": "stream",
     "text": [
      "WARNING:tensorflow:From c:\\users\\flucasamar\\appdata\\local\\programs\\python\\python37\\lib\\site-packages\\tensorflow_core\\python\\ops\\nn_impl.py:183: where (from tensorflow.python.ops.array_ops) is deprecated and will be removed in a future version.\n",
      "Instructions for updating:\n",
      "Use tf.where in 2.0, which has the same broadcast rule as np.where\n"
     ]
    }
   ],
   "source": [
    "# loss_fct = 'categorical_crossentropy' # Used for classification problem\n",
    "loss_fct = 'binary_crossentropy'\n",
    "opt_fct = 'adam' # Popular version of Gradient Descent\n",
    "metrics_fct = ['accuracy'] # Classification problem\n",
    "\n",
    "model.compile(loss=loss_fct, optimizer=opt_fct, metrics=metrics_fct)"
   ]
  },
  {
   "cell_type": "code",
   "execution_count": 5,
   "metadata": {},
   "outputs": [],
   "source": [
    "nb_epochs = 150\n",
    "nb_batchs = 10"
   ]
  },
  {
   "cell_type": "code",
   "execution_count": 6,
   "metadata": {},
   "outputs": [
    {
     "name": "stdout",
     "output_type": "stream",
     "text": [
      "WARNING:tensorflow:From c:\\users\\flucasamar\\appdata\\local\\programs\\python\\python37\\lib\\site-packages\\keras\\backend\\tensorflow_backend.py:422: The name tf.global_variables is deprecated. Please use tf.compat.v1.global_variables instead.\n",
      "\n",
      "Epoch 1/150\n",
      "768/768 [==============================] - 0s 260us/step - loss: 8.3951 - accuracy: 0.4648\n",
      "Epoch 2/150\n",
      "768/768 [==============================] - 0s 92us/step - loss: 1.4783 - accuracy: 0.5990\n",
      "Epoch 3/150\n",
      "768/768 [==============================] - 0s 92us/step - loss: 1.1595 - accuracy: 0.6081\n",
      "Epoch 4/150\n",
      "768/768 [==============================] - 0s 91us/step - loss: 1.0181 - accuracy: 0.6146\n",
      "Epoch 5/150\n",
      "768/768 [==============================] - 0s 89us/step - loss: 0.8898 - accuracy: 0.6055\n",
      "Epoch 6/150\n",
      "768/768 [==============================] - 0s 86us/step - loss: 0.7953 - accuracy: 0.6445\n",
      "Epoch 7/150\n",
      "768/768 [==============================] - 0s 86us/step - loss: 0.7409 - accuracy: 0.6758\n",
      "Epoch 8/150\n",
      "768/768 [==============================] - 0s 85us/step - loss: 0.7065 - accuracy: 0.6562\n",
      "Epoch 9/150\n",
      "768/768 [==============================] - 0s 83us/step - loss: 0.6729 - accuracy: 0.6836\n",
      "Epoch 10/150\n",
      "768/768 [==============================] - 0s 87us/step - loss: 0.6642 - accuracy: 0.6784\n",
      "Epoch 11/150\n",
      "768/768 [==============================] - 0s 83us/step - loss: 0.6399 - accuracy: 0.6888\n",
      "Epoch 12/150\n",
      "768/768 [==============================] - 0s 85us/step - loss: 0.6274 - accuracy: 0.6862\n",
      "Epoch 13/150\n",
      "768/768 [==============================] - 0s 85us/step - loss: 0.6192 - accuracy: 0.6862\n",
      "Epoch 14/150\n",
      "768/768 [==============================] - 0s 85us/step - loss: 0.6217 - accuracy: 0.6797\n",
      "Epoch 15/150\n",
      "768/768 [==============================] - 0s 83us/step - loss: 0.6141 - accuracy: 0.7031\n",
      "Epoch 16/150\n",
      "768/768 [==============================] - 0s 86us/step - loss: 0.6185 - accuracy: 0.6940\n",
      "Epoch 17/150\n",
      "768/768 [==============================] - 0s 85us/step - loss: 0.6042 - accuracy: 0.7057\n",
      "Epoch 18/150\n",
      "768/768 [==============================] - 0s 83us/step - loss: 0.6124 - accuracy: 0.6953\n",
      "Epoch 19/150\n",
      "768/768 [==============================] - 0s 85us/step - loss: 0.5877 - accuracy: 0.6901\n",
      "Epoch 20/150\n",
      "768/768 [==============================] - 0s 87us/step - loss: 0.5836 - accuracy: 0.7161\n",
      "Epoch 21/150\n",
      "768/768 [==============================] - 0s 90us/step - loss: 0.5804 - accuracy: 0.7201\n",
      "Epoch 22/150\n",
      "768/768 [==============================] - 0s 91us/step - loss: 0.5726 - accuracy: 0.7109\n",
      "Epoch 23/150\n",
      "768/768 [==============================] - 0s 107us/step - loss: 0.6168 - accuracy: 0.6953\n",
      "Epoch 24/150\n",
      "768/768 [==============================] - 0s 89us/step - loss: 0.5845 - accuracy: 0.7201\n",
      "Epoch 25/150\n",
      "768/768 [==============================] - 0s 87us/step - loss: 0.5687 - accuracy: 0.7344\n",
      "Epoch 26/150\n",
      "768/768 [==============================] - 0s 87us/step - loss: 0.5768 - accuracy: 0.7031\n",
      "Epoch 27/150\n",
      "768/768 [==============================] - 0s 81us/step - loss: 0.5945 - accuracy: 0.7109\n",
      "Epoch 28/150\n",
      "768/768 [==============================] - 0s 81us/step - loss: 0.5679 - accuracy: 0.7161\n",
      "Epoch 29/150\n",
      "768/768 [==============================] - 0s 85us/step - loss: 0.5853 - accuracy: 0.7266\n",
      "Epoch 30/150\n",
      "768/768 [==============================] - 0s 83us/step - loss: 0.5762 - accuracy: 0.7148\n",
      "Epoch 31/150\n",
      "768/768 [==============================] - 0s 83us/step - loss: 0.5715 - accuracy: 0.7148\n",
      "Epoch 32/150\n",
      "768/768 [==============================] - 0s 82us/step - loss: 0.5735 - accuracy: 0.7122\n",
      "Epoch 33/150\n",
      "768/768 [==============================] - 0s 83us/step - loss: 0.5639 - accuracy: 0.7227\n",
      "Epoch 34/150\n",
      "768/768 [==============================] - 0s 85us/step - loss: 0.5965 - accuracy: 0.7122\n",
      "Epoch 35/150\n",
      "768/768 [==============================] - 0s 82us/step - loss: 0.5895 - accuracy: 0.7109\n",
      "Epoch 36/150\n",
      "768/768 [==============================] - 0s 83us/step - loss: 0.5563 - accuracy: 0.7201\n",
      "Epoch 37/150\n",
      "768/768 [==============================] - 0s 85us/step - loss: 0.5644 - accuracy: 0.7383\n",
      "Epoch 38/150\n",
      "768/768 [==============================] - 0s 83us/step - loss: 0.5601 - accuracy: 0.7331\n",
      "Epoch 39/150\n",
      "768/768 [==============================] - 0s 83us/step - loss: 0.5495 - accuracy: 0.7305\n",
      "Epoch 40/150\n",
      "768/768 [==============================] - 0s 83us/step - loss: 0.5504 - accuracy: 0.7357\n",
      "Epoch 41/150\n",
      "768/768 [==============================] - 0s 83us/step - loss: 0.5622 - accuracy: 0.7214\n",
      "Epoch 42/150\n",
      "768/768 [==============================] - 0s 83us/step - loss: 0.5902 - accuracy: 0.7109\n",
      "Epoch 43/150\n",
      "768/768 [==============================] - 0s 83us/step - loss: 0.5546 - accuracy: 0.7357\n",
      "Epoch 44/150\n",
      "768/768 [==============================] - 0s 83us/step - loss: 0.5470 - accuracy: 0.7383\n",
      "Epoch 45/150\n",
      "768/768 [==============================] - 0s 84us/step - loss: 0.5633 - accuracy: 0.7214\n",
      "Epoch 46/150\n",
      "768/768 [==============================] - 0s 83us/step - loss: 0.5716 - accuracy: 0.7135\n",
      "Epoch 47/150\n",
      "768/768 [==============================] - 0s 85us/step - loss: 0.5594 - accuracy: 0.7266\n",
      "Epoch 48/150\n",
      "768/768 [==============================] - 0s 87us/step - loss: 0.5488 - accuracy: 0.7279\n",
      "Epoch 49/150\n",
      "768/768 [==============================] - 0s 82us/step - loss: 0.5977 - accuracy: 0.7135\n",
      "Epoch 50/150\n",
      "768/768 [==============================] - 0s 82us/step - loss: 0.5362 - accuracy: 0.7344\n",
      "Epoch 51/150\n",
      "768/768 [==============================] - 0s 84us/step - loss: 0.5344 - accuracy: 0.7305\n",
      "Epoch 52/150\n",
      "768/768 [==============================] - 0s 85us/step - loss: 0.5364 - accuracy: 0.7240\n",
      "Epoch 53/150\n",
      "768/768 [==============================] - 0s 85us/step - loss: 0.5382 - accuracy: 0.7292\n",
      "Epoch 54/150\n",
      "768/768 [==============================] - 0s 84us/step - loss: 0.5263 - accuracy: 0.7279\n",
      "Epoch 55/150\n",
      "768/768 [==============================] - 0s 85us/step - loss: 0.5317 - accuracy: 0.7357\n",
      "Epoch 56/150\n",
      "768/768 [==============================] - 0s 86us/step - loss: 0.5313 - accuracy: 0.7318\n",
      "Epoch 57/150\n",
      "768/768 [==============================] - 0s 83us/step - loss: 0.5464 - accuracy: 0.7318\n",
      "Epoch 58/150\n",
      "768/768 [==============================] - 0s 83us/step - loss: 0.5600 - accuracy: 0.7370\n",
      "Epoch 59/150\n",
      "768/768 [==============================] - 0s 83us/step - loss: 0.5553 - accuracy: 0.7044\n",
      "Epoch 60/150\n",
      "768/768 [==============================] - 0s 85us/step - loss: 0.5288 - accuracy: 0.7435\n",
      "Epoch 61/150\n",
      "768/768 [==============================] - 0s 85us/step - loss: 0.5306 - accuracy: 0.7539\n",
      "Epoch 62/150\n",
      "768/768 [==============================] - 0s 83us/step - loss: 0.5172 - accuracy: 0.7526\n",
      "Epoch 63/150\n",
      "768/768 [==============================] - 0s 85us/step - loss: 0.5215 - accuracy: 0.7422\n",
      "Epoch 64/150\n",
      "768/768 [==============================] - 0s 85us/step - loss: 0.5398 - accuracy: 0.7383\n",
      "Epoch 65/150\n",
      "768/768 [==============================] - 0s 85us/step - loss: 0.5259 - accuracy: 0.7604\n",
      "Epoch 66/150\n",
      "768/768 [==============================] - 0s 82us/step - loss: 0.5418 - accuracy: 0.7292\n",
      "Epoch 67/150\n",
      "768/768 [==============================] - 0s 85us/step - loss: 0.5422 - accuracy: 0.7305\n",
      "Epoch 68/150\n",
      "768/768 [==============================] - 0s 85us/step - loss: 0.5252 - accuracy: 0.7396\n",
      "Epoch 69/150\n",
      "768/768 [==============================] - 0s 85us/step - loss: 0.5381 - accuracy: 0.7409\n",
      "Epoch 70/150\n",
      "768/768 [==============================] - 0s 83us/step - loss: 0.5473 - accuracy: 0.7201\n",
      "Epoch 71/150\n",
      "768/768 [==============================] - 0s 83us/step - loss: 0.5398 - accuracy: 0.7279\n",
      "Epoch 72/150\n",
      "768/768 [==============================] - 0s 85us/step - loss: 0.5409 - accuracy: 0.7370\n",
      "Epoch 73/150\n",
      "768/768 [==============================] - 0s 85us/step - loss: 0.5232 - accuracy: 0.7422\n",
      "Epoch 74/150\n",
      "768/768 [==============================] - 0s 83us/step - loss: 0.5301 - accuracy: 0.7422\n",
      "Epoch 75/150\n",
      "768/768 [==============================] - 0s 85us/step - loss: 0.5232 - accuracy: 0.7474\n",
      "Epoch 76/150\n",
      "768/768 [==============================] - 0s 85us/step - loss: 0.5209 - accuracy: 0.7526\n",
      "Epoch 77/150\n",
      "768/768 [==============================] - 0s 86us/step - loss: 0.5279 - accuracy: 0.7266\n",
      "Epoch 78/150\n",
      "768/768 [==============================] - 0s 83us/step - loss: 0.5134 - accuracy: 0.7578\n",
      "Epoch 79/150\n",
      "768/768 [==============================] - 0s 89us/step - loss: 0.5220 - accuracy: 0.7474\n",
      "Epoch 80/150\n",
      "768/768 [==============================] - 0s 91us/step - loss: 0.5199 - accuracy: 0.7435\n",
      "Epoch 81/150\n",
      "768/768 [==============================] - 0s 89us/step - loss: 0.5301 - accuracy: 0.7435\n",
      "Epoch 82/150\n",
      "768/768 [==============================] - 0s 83us/step - loss: 0.5182 - accuracy: 0.7487\n",
      "Epoch 83/150\n",
      "768/768 [==============================] - 0s 83us/step - loss: 0.5287 - accuracy: 0.7344\n",
      "Epoch 84/150\n",
      "768/768 [==============================] - 0s 83us/step - loss: 0.5590 - accuracy: 0.7161\n",
      "Epoch 85/150\n",
      "768/768 [==============================] - 0s 82us/step - loss: 0.5288 - accuracy: 0.7344\n",
      "Epoch 86/150\n",
      "768/768 [==============================] - 0s 85us/step - loss: 0.5187 - accuracy: 0.7487\n",
      "Epoch 87/150\n",
      "768/768 [==============================] - 0s 86us/step - loss: 0.5248 - accuracy: 0.7370\n",
      "Epoch 88/150\n",
      "768/768 [==============================] - 0s 85us/step - loss: 0.5087 - accuracy: 0.7591\n",
      "Epoch 89/150\n",
      "768/768 [==============================] - 0s 83us/step - loss: 0.5188 - accuracy: 0.7474\n",
      "Epoch 90/150\n",
      "768/768 [==============================] - 0s 82us/step - loss: 0.5251 - accuracy: 0.7370\n",
      "Epoch 91/150\n",
      "768/768 [==============================] - 0s 83us/step - loss: 0.5286 - accuracy: 0.7396\n",
      "Epoch 92/150\n",
      "768/768 [==============================] - 0s 83us/step - loss: 0.5089 - accuracy: 0.7487\n",
      "Epoch 93/150\n",
      "768/768 [==============================] - 0s 83us/step - loss: 0.5011 - accuracy: 0.7500\n",
      "Epoch 94/150\n",
      "768/768 [==============================] - 0s 86us/step - loss: 0.5075 - accuracy: 0.7565\n",
      "Epoch 95/150\n",
      "768/768 [==============================] - 0s 85us/step - loss: 0.5184 - accuracy: 0.7500\n",
      "Epoch 96/150\n",
      "768/768 [==============================] - 0s 86us/step - loss: 0.5194 - accuracy: 0.7448\n",
      "Epoch 97/150\n",
      "768/768 [==============================] - 0s 83us/step - loss: 0.5062 - accuracy: 0.7474\n",
      "Epoch 98/150\n",
      "768/768 [==============================] - 0s 86us/step - loss: 0.5129 - accuracy: 0.7539\n",
      "Epoch 99/150\n",
      "768/768 [==============================] - 0s 86us/step - loss: 0.5257 - accuracy: 0.7344\n",
      "Epoch 100/150\n",
      "768/768 [==============================] - 0s 83us/step - loss: 0.5116 - accuracy: 0.7565\n",
      "Epoch 101/150\n",
      "768/768 [==============================] - 0s 83us/step - loss: 0.5043 - accuracy: 0.7604\n",
      "Epoch 102/150\n",
      "768/768 [==============================] - 0s 83us/step - loss: 0.5053 - accuracy: 0.7357\n",
      "Epoch 103/150\n",
      "768/768 [==============================] - 0s 83us/step - loss: 0.5016 - accuracy: 0.7513\n",
      "Epoch 104/150\n",
      "768/768 [==============================] - 0s 85us/step - loss: 0.5072 - accuracy: 0.7578\n",
      "Epoch 105/150\n",
      "768/768 [==============================] - 0s 83us/step - loss: 0.5028 - accuracy: 0.7448\n",
      "Epoch 106/150\n",
      "768/768 [==============================] - 0s 83us/step - loss: 0.4986 - accuracy: 0.7500\n",
      "Epoch 107/150\n",
      "768/768 [==============================] - 0s 85us/step - loss: 0.5078 - accuracy: 0.7539\n",
      "Epoch 108/150\n",
      "768/768 [==============================] - 0s 83us/step - loss: 0.4995 - accuracy: 0.7630\n",
      "Epoch 109/150\n",
      "768/768 [==============================] - 0s 86us/step - loss: 0.5068 - accuracy: 0.7513\n",
      "Epoch 110/150\n",
      "768/768 [==============================] - 0s 85us/step - loss: 0.4966 - accuracy: 0.7565\n",
      "Epoch 111/150\n",
      "768/768 [==============================] - 0s 82us/step - loss: 0.4963 - accuracy: 0.7591\n",
      "Epoch 112/150\n",
      "768/768 [==============================] - 0s 82us/step - loss: 0.4934 - accuracy: 0.7565\n",
      "Epoch 113/150\n",
      "768/768 [==============================] - 0s 85us/step - loss: 0.4992 - accuracy: 0.7539\n",
      "Epoch 114/150\n",
      "768/768 [==============================] - 0s 83us/step - loss: 0.4975 - accuracy: 0.7409\n",
      "Epoch 115/150\n",
      "768/768 [==============================] - 0s 83us/step - loss: 0.5005 - accuracy: 0.7617\n",
      "Epoch 116/150\n",
      "768/768 [==============================] - 0s 83us/step - loss: 0.4938 - accuracy: 0.7578\n",
      "Epoch 117/150\n",
      "768/768 [==============================] - 0s 83us/step - loss: 0.4946 - accuracy: 0.7565\n",
      "Epoch 118/150\n",
      "768/768 [==============================] - 0s 85us/step - loss: 0.5141 - accuracy: 0.7500\n",
      "Epoch 119/150\n",
      "768/768 [==============================] - 0s 83us/step - loss: 0.4994 - accuracy: 0.7539\n",
      "Epoch 120/150\n",
      "768/768 [==============================] - 0s 85us/step - loss: 0.5158 - accuracy: 0.7643\n",
      "Epoch 121/150\n",
      "768/768 [==============================] - 0s 85us/step - loss: 0.4950 - accuracy: 0.7500\n",
      "Epoch 122/150\n",
      "768/768 [==============================] - 0s 83us/step - loss: 0.4915 - accuracy: 0.7682\n",
      "Epoch 123/150\n",
      "768/768 [==============================] - 0s 83us/step - loss: 0.4941 - accuracy: 0.7578\n",
      "Epoch 124/150\n",
      "768/768 [==============================] - 0s 83us/step - loss: 0.4947 - accuracy: 0.7500\n",
      "Epoch 125/150\n",
      "768/768 [==============================] - 0s 83us/step - loss: 0.4898 - accuracy: 0.7526\n",
      "Epoch 126/150\n",
      "768/768 [==============================] - 0s 85us/step - loss: 0.4899 - accuracy: 0.7682\n",
      "Epoch 127/150\n",
      "768/768 [==============================] - 0s 83us/step - loss: 0.5055 - accuracy: 0.7526\n",
      "Epoch 128/150\n",
      "768/768 [==============================] - 0s 85us/step - loss: 0.5059 - accuracy: 0.7565\n",
      "Epoch 129/150\n",
      "768/768 [==============================] - 0s 85us/step - loss: 0.4952 - accuracy: 0.7474\n",
      "Epoch 130/150\n",
      "768/768 [==============================] - 0s 83us/step - loss: 0.4872 - accuracy: 0.7565\n",
      "Epoch 131/150\n",
      "768/768 [==============================] - 0s 85us/step - loss: 0.4847 - accuracy: 0.7643\n",
      "Epoch 132/150\n",
      "768/768 [==============================] - 0s 83us/step - loss: 0.5078 - accuracy: 0.7591\n",
      "Epoch 133/150\n",
      "768/768 [==============================] - 0s 85us/step - loss: 0.4980 - accuracy: 0.7487\n",
      "Epoch 134/150\n",
      "768/768 [==============================] - 0s 85us/step - loss: 0.4803 - accuracy: 0.7604\n",
      "Epoch 135/150\n",
      "768/768 [==============================] - 0s 84us/step - loss: 0.4897 - accuracy: 0.7604\n",
      "Epoch 136/150\n",
      "768/768 [==============================] - 0s 85us/step - loss: 0.4889 - accuracy: 0.7539\n",
      "Epoch 137/150\n",
      "768/768 [==============================] - 0s 84us/step - loss: 0.4976 - accuracy: 0.7656\n",
      "Epoch 138/150\n",
      "768/768 [==============================] - 0s 84us/step - loss: 0.4885 - accuracy: 0.7539\n",
      "Epoch 139/150\n",
      "768/768 [==============================] - 0s 82us/step - loss: 0.4992 - accuracy: 0.7656\n",
      "Epoch 140/150\n",
      "768/768 [==============================] - 0s 85us/step - loss: 0.4928 - accuracy: 0.7487\n",
      "Epoch 141/150\n",
      "768/768 [==============================] - 0s 85us/step - loss: 0.4783 - accuracy: 0.7643\n",
      "Epoch 142/150\n",
      "768/768 [==============================] - 0s 85us/step - loss: 0.4816 - accuracy: 0.7695\n",
      "Epoch 143/150\n",
      "768/768 [==============================] - 0s 82us/step - loss: 0.4928 - accuracy: 0.7578\n",
      "Epoch 144/150\n",
      "768/768 [==============================] - 0s 83us/step - loss: 0.4839 - accuracy: 0.7565\n",
      "Epoch 145/150\n",
      "768/768 [==============================] - 0s 85us/step - loss: 0.4872 - accuracy: 0.7617\n",
      "Epoch 146/150\n",
      "768/768 [==============================] - 0s 85us/step - loss: 0.4899 - accuracy: 0.7656\n",
      "Epoch 147/150\n",
      "768/768 [==============================] - 0s 84us/step - loss: 0.4851 - accuracy: 0.7487\n",
      "Epoch 148/150\n",
      "768/768 [==============================] - 0s 98us/step - loss: 0.4839 - accuracy: 0.7604\n",
      "Epoch 149/150\n",
      "768/768 [==============================] - 0s 79us/step - loss: 0.4941 - accuracy: 0.7539\n",
      "Epoch 150/150\n",
      "768/768 [==============================] - 0s 79us/step - loss: 0.5074 - accuracy: 0.7565\n"
     ]
    }
   ],
   "source": [
    "history = model.fit(X, y, epochs=nb_epochs, batch_size=nb_batchs)"
   ]
  },
  {
   "cell_type": "code",
   "execution_count": 7,
   "metadata": {},
   "outputs": [
    {
     "name": "stdout",
     "output_type": "stream",
     "text": [
      "Model: \"sequential_1\"\n",
      "_________________________________________________________________\n",
      "Layer (type)                 Output Shape              Param #   \n",
      "=================================================================\n",
      "dense_1 (Dense)              (None, 12)                108       \n",
      "_________________________________________________________________\n",
      "dense_2 (Dense)              (None, 8)                 104       \n",
      "_________________________________________________________________\n",
      "dense_3 (Dense)              (None, 1)                 9         \n",
      "=================================================================\n",
      "Total params: 221\n",
      "Trainable params: 221\n",
      "Non-trainable params: 0\n",
      "_________________________________________________________________\n"
     ]
    }
   ],
   "source": [
    "# Summarize model.\n",
    "model.summary()"
   ]
  },
  {
   "cell_type": "code",
   "execution_count": 8,
   "metadata": {},
   "outputs": [
    {
     "data": {
      "image/png": "[encoded data removed]",
      "text/plain": [
       "<Figure size 432x288 with 1 Axes>"
      ]
     },
     "metadata": {
      "needs_background": "light"
     },
     "output_type": "display_data"
    }
   ],
   "source": [
    "plt.plot(history.history['loss'], label = 'train')\n",
    "plt.xlabel('Number of epochs')\n",
    "plt.ylabel('Loss')\n",
    "plt.show()"
   ]
  },
  {
   "cell_type": "code",
   "execution_count": 9,
   "metadata": {},
   "outputs": [
    {
     "data": {
      "image/png": "[encoded data removed]",
      "text/plain": [
       "<Figure size 432x288 with 1 Axes>"
      ]
     },
     "metadata": {
      "needs_background": "light"
     },
     "output_type": "display_data"
    }
   ],
   "source": [
    "plt.plot(history.history['accuracy'], label = 'train')\n",
    "plt.xlabel('Number of epochs')\n",
    "plt.ylabel('Accuracy')\n",
    "plt.show()"
   ]
  },
  {
   "cell_type": "code",
   "execution_count": 2,
   "metadata": {},
   "outputs": [
    {
     "name": "stdout",
     "output_type": "stream",
     "text": [
      "(768, 8)\n",
      "(768,)\n"
     ]
    }
   ],
   "source": [
    "# load the dataset\n",
    "dataset = np.loadtxt('pima-indians-diabetes.csv', delimiter=',')\n",
    "# split into input (X) and output (y) variables\n",
    "X = dataset[:,0:8]\n",
    "y = dataset[:,8]\n",
    "print(X.shape)\n",
    "print(y.shape)"
   ]
  },
  {
   "cell_type": "markdown",
   "metadata": {},
   "source": [
    "Reshaped dataset input"
   ]
  },
  {
   "cell_type": "code",
   "execution_count": null,
   "metadata": {},
   "outputs": [],
   "source": [
    "# Reshape the dataset input to the shape that our model expects\n",
    "# The first number is the number of images, then comes the shape of each image\n",
    "# The last number is 1, which signifies that the images are greyscale\n",
    "\n",
    "X_train = X_train.reshape(X_train.shape[0], X_train.shape[1], 1)\n",
    "X_test = X_test.reshape(X_test.shape[0], X_test.shape[1], 1)\n",
    "\n",
    "print('Train: ', X_train.shape)\n",
    "print('Test : ', X_test.shape)"
   ]
  },
  {
   "cell_type": "markdown",
   "metadata": {},
   "source": [
    "'One-hot-encode' the target variable\n"
   ]
  },
  {
   "cell_type": "code",
   "execution_count": null,
   "metadata": {},
   "outputs": [],
   "source": [
    "# One-hot encode target column: create a column for each category and a binary \n",
    "# variable is inputted for each category\n",
    "Y_train = to_categorical(Y_train)\n",
    "Y_test = to_categorical(Y_test)\n",
    "\n",
    "print('Train: ', Y_train.shape)\n",
    "print(Y_train)\n",
    "print('Test : ', Y_test.shape)"
   ]
  },
  {
   "cell_type": "markdown",
   "metadata": {},
   "source": [
    "**Building the model**"
   ]
  },
  {
   "cell_type": "code",
   "execution_count": null,
   "metadata": {},
   "outputs": [],
   "source": [
    "# Create model\n",
    "model = Sequential() # build a model layer by layer"
   ]
  },
  {
   "cell_type": "code",
   "execution_count": null,
   "metadata": {},
   "outputs": [],
   "source": [
    "# Number of nodes in the first and second layer\n",
    "nb_nodes_1 = 64\n",
    "nb_nodes_2 = 32\n",
    "\n",
    "# Kernel size\n",
    "k_size = 3"
   ]
  },
  {
   "cell_type": "code",
   "execution_count": null,
   "metadata": {},
   "outputs": [],
   "source": [
    "# Add model layers\n",
    "\n",
    "# Conv2D layer: \n",
    "# 64 nodes, 3x3 filter matrix, Rectified Linear Activation as activation function,\n",
    "# shape of each input (200, 200, 1,) with 1 signifying images are greyscale\n",
    "model.add(Conv2D(nb_nodes_1, kernel_size = k_size, activation = 'relu', input_shape = (40000, 1)))\n",
    "\n",
    "# 32 nodes\n",
    "model.add(Conv2D(nb_nodes_2, kernel_size = k_size, activation = 'relu'))\n",
    "\n",
    "# Flatten layer: connection between the convolution and dense layers\n",
    "model.add(Flatten())\n",
    "\n",
    "# Dense layer: used for the output layer\n",
    "# 5 nodes for the output layer, one for each possible outcome (1-5)\n",
    "# 'softmax' as activation function, it makes the output sump up to 1 so the output\n",
    "# can be interpreted as probalities\n",
    "model.add(Dense(nb_class, activation = 'softmax'))"
   ]
  },
  {
   "cell_type": "markdown",
   "metadata": {},
   "source": [
    "**Compiling the model**"
   ]
  },
  {
   "cell_type": "code",
   "execution_count": null,
   "metadata": {},
   "outputs": [],
   "source": [
    "# Three parameters:\n",
    "# optmizer: 'adam'\n",
    "# loss function: 'categorical_crossentropy', the most common choice for classification\n",
    "# metrics: 'accuracy', to see the accuracy score\n",
    "model.compile(optimizer = 'adam', loss = 'categorical_crossentropy', metrics = ['accuracy'])"
   ]
  },
  {
   "cell_type": "code",
   "execution_count": null,
   "metadata": {},
   "outputs": [],
   "source": [
    "# Number of times that the learning algorihm will work through the entire training set\n",
    "nb_epochs = 10\n",
    "\n",
    "# Number of samples to work through before updating the interval model parameters\n",
    "nb_batch = 1"
   ]
  },
  {
   "cell_type": "markdown",
   "metadata": {},
   "source": [
    "**Training the model**"
   ]
  },
  {
   "cell_type": "code",
   "execution_count": null,
   "metadata": {},
   "outputs": [],
   "source": [
    "%%time\n",
    "\n",
    "# Number of epochs: number of tmes the model wil cycle trough the data\n",
    "history = model.fit(X_train, Y_train, validation_data = (X_test, Y_test), epochs = nb_epochs)"
   ]
  },
  {
   "cell_type": "code",
   "execution_count": null,
   "metadata": {},
   "outputs": [],
   "source": []
  },
  {
   "cell_type": "code",
   "execution_count": null,
   "metadata": {},
   "outputs": [],
   "source": []
  },
  {
   "cell_type": "code",
   "execution_count": null,
   "metadata": {},
   "outputs": [],
   "source": []
  },
  {
   "cell_type": "code",
   "execution_count": null,
   "metadata": {},
   "outputs": [],
   "source": []
  }
 ],
 "metadata": {
  "kernelspec": {
   "display_name": "Python 3",
   "language": "python",
   "name": "python3"
  },
  "language_info": {
   "codemirror_mode": {
    "name": "ipython",
    "version": 3
   },
   "file_extension": ".py",
   "mimetype": "text/x-python",
   "name": "python",
   "nbconvert_exporter": "python",
   "pygments_lexer": "ipython3",
   "version": "3.7.6"
  }
 },
 "nbformat": 4,
 "nbformat_minor": 4
}
