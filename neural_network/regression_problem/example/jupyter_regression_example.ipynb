{
 "cells": [
  {
   "cell_type": "code",
   "execution_count": 1,
   "metadata": {},
   "outputs": [
    {
     "name": "stderr",
     "output_type": "stream",
     "text": [
      "Using TensorFlow backend.\n"
     ]
    }
   ],
   "source": [
    "from pathlib import Path\n",
    "import numpy as np\n",
    "import matplotlib.pyplot as plt\n",
    "import os\n",
    "import scipy.io\n",
    "import collections\n",
    "import pandas as pd\n",
    "\n",
    "from keras.models import Sequential\n",
    "from keras.models import model_from_json\n",
    "from keras.layers import Dense, Conv2D, Flatten\n",
    "from keras.utils import to_categorical\n",
    "from keras.utils.vis_utils import plot_model\n",
    "\n",
    "from keras.wrappers.scikit_learn import KerasRegressor\n",
    "from sklearn.model_selection import cross_val_score\n",
    "from sklearn.model_selection import KFold\n",
    "from sklearn.preprocessing import StandardScaler\n",
    "from sklearn.pipeline import Pipeline"
   ]
  },
  {
   "cell_type": "markdown",
   "metadata": {},
   "source": [
    "# Brouillon"
   ]
  },
  {
   "cell_type": "code",
   "execution_count": 2,
   "metadata": {},
   "outputs": [],
   "source": [
    "def positions_points_dataset(class_nb, nb_holograms_class):\n",
    "    \n",
    "    # Initial position in the points dataset\n",
    "    init = 0\n",
    "    for nb in range(1, class_nb):\n",
    "        init = nb * nb_holograms_class + init\n",
    "    \n",
    "    # Final position in the points dataset\n",
    "    fin = 0\n",
    "    for nb in range(1, class_nb + 1):\n",
    "        fin = nb * nb_holograms_class + fin\n",
    "    fin = fin - 1\n",
    "\n",
    "    return init, fin"
   ]
  },
  {
   "cell_type": "code",
   "execution_count": 3,
   "metadata": {},
   "outputs": [],
   "source": [
    "def load_points_dataset_one_class(data, class_nb, nb_holograms_class):\n",
    "    \n",
    "    # Initial and final position in the points dataset\n",
    "    init, fin = positions_points_dataset(class_nb, nb_holograms_class)\n",
    "\n",
    "    points_one_class = data[init:(fin + 1), :]\n",
    "    \n",
    "    return points_one_class"
   ]
  },
  {
   "cell_type": "markdown",
   "metadata": {},
   "source": [
    "## Example"
   ]
  },
  {
   "cell_type": "code",
   "execution_count": 5,
   "metadata": {},
   "outputs": [],
   "source": [
    "import matplotlib.pyplot as plt\n",
    "import numpy as np\n",
    "import pandas as pd\n",
    "from sklearn.model_selection import train_test_split\n",
    "from sklearn.model_selection import cross_val_score\n",
    "from sklearn.model_selection import KFold\n",
    "from sklearn.pipeline import Pipeline\n",
    "from sklearn.preprocessing import MinMaxScaler\n",
    "from tensorflow.python.keras.models import Sequential\n",
    "from tensorflow.python.keras.layers import Dense\n",
    "from tensorflow.python.keras.wrappers.scikit_learn import KerasRegressor"
   ]
  },
  {
   "cell_type": "code",
   "execution_count": 6,
   "metadata": {},
   "outputs": [
    {
     "data": {
      "text/html": [
       "<div>\n",
       "<style scoped>\n",
       "    .dataframe tbody tr th:only-of-type {\n",
       "        vertical-align: middle;\n",
       "    }\n",
       "\n",
       "    .dataframe tbody tr th {\n",
       "        vertical-align: top;\n",
       "    }\n",
       "\n",
       "    .dataframe thead th {\n",
       "        text-align: right;\n",
       "    }\n",
       "</style>\n",
       "<table border=\"1\" class=\"dataframe\">\n",
       "  <thead>\n",
       "    <tr style=\"text-align: right;\">\n",
       "      <th></th>\n",
       "      <th>age</th>\n",
       "      <th>gender</th>\n",
       "      <th>miles</th>\n",
       "      <th>debt</th>\n",
       "      <th>income</th>\n",
       "      <th>sales</th>\n",
       "    </tr>\n",
       "  </thead>\n",
       "  <tbody>\n",
       "    <tr>\n",
       "      <th>0</th>\n",
       "      <td>28</td>\n",
       "      <td>0</td>\n",
       "      <td>23</td>\n",
       "      <td>0</td>\n",
       "      <td>4099</td>\n",
       "      <td>620</td>\n",
       "    </tr>\n",
       "    <tr>\n",
       "      <th>1</th>\n",
       "      <td>26</td>\n",
       "      <td>0</td>\n",
       "      <td>27</td>\n",
       "      <td>0</td>\n",
       "      <td>2677</td>\n",
       "      <td>1792</td>\n",
       "    </tr>\n",
       "    <tr>\n",
       "      <th>2</th>\n",
       "      <td>30</td>\n",
       "      <td>1</td>\n",
       "      <td>58</td>\n",
       "      <td>41576</td>\n",
       "      <td>6215</td>\n",
       "      <td>27754</td>\n",
       "    </tr>\n",
       "    <tr>\n",
       "      <th>3</th>\n",
       "      <td>26</td>\n",
       "      <td>1</td>\n",
       "      <td>25</td>\n",
       "      <td>43172</td>\n",
       "      <td>7626</td>\n",
       "      <td>28256</td>\n",
       "    </tr>\n",
       "    <tr>\n",
       "      <th>4</th>\n",
       "      <td>20</td>\n",
       "      <td>1</td>\n",
       "      <td>17</td>\n",
       "      <td>6979</td>\n",
       "      <td>8071</td>\n",
       "      <td>4438</td>\n",
       "    </tr>\n",
       "    <tr>\n",
       "      <th>...</th>\n",
       "      <td>...</td>\n",
       "      <td>...</td>\n",
       "      <td>...</td>\n",
       "      <td>...</td>\n",
       "      <td>...</td>\n",
       "      <td>...</td>\n",
       "    </tr>\n",
       "    <tr>\n",
       "      <th>958</th>\n",
       "      <td>22</td>\n",
       "      <td>0</td>\n",
       "      <td>11</td>\n",
       "      <td>8778</td>\n",
       "      <td>9829</td>\n",
       "      <td>1593</td>\n",
       "    </tr>\n",
       "    <tr>\n",
       "      <th>959</th>\n",
       "      <td>19</td>\n",
       "      <td>1</td>\n",
       "      <td>23</td>\n",
       "      <td>4850</td>\n",
       "      <td>3470</td>\n",
       "      <td>4742</td>\n",
       "    </tr>\n",
       "    <tr>\n",
       "      <th>960</th>\n",
       "      <td>28</td>\n",
       "      <td>1</td>\n",
       "      <td>28</td>\n",
       "      <td>9312</td>\n",
       "      <td>2720</td>\n",
       "      <td>12771</td>\n",
       "    </tr>\n",
       "    <tr>\n",
       "      <th>961</th>\n",
       "      <td>50</td>\n",
       "      <td>0</td>\n",
       "      <td>29</td>\n",
       "      <td>51343</td>\n",
       "      <td>8713</td>\n",
       "      <td>28511</td>\n",
       "    </tr>\n",
       "    <tr>\n",
       "      <th>962</th>\n",
       "      <td>47</td>\n",
       "      <td>1</td>\n",
       "      <td>15</td>\n",
       "      <td>3735</td>\n",
       "      <td>6406</td>\n",
       "      <td>6104</td>\n",
       "    </tr>\n",
       "  </tbody>\n",
       "</table>\n",
       "<p>963 rows × 6 columns</p>\n",
       "</div>"
      ],
      "text/plain": [
       "     age  gender  miles   debt  income  sales\n",
       "0     28       0     23      0    4099    620\n",
       "1     26       0     27      0    2677   1792\n",
       "2     30       1     58  41576    6215  27754\n",
       "3     26       1     25  43172    7626  28256\n",
       "4     20       1     17   6979    8071   4438\n",
       "..   ...     ...    ...    ...     ...    ...\n",
       "958   22       0     11   8778    9829   1593\n",
       "959   19       1     23   4850    3470   4742\n",
       "960   28       1     28   9312    2720  12771\n",
       "961   50       0     29  51343    8713  28511\n",
       "962   47       1     15   3735    6406   6104\n",
       "\n",
       "[963 rows x 6 columns]"
      ]
     },
     "execution_count": 6,
     "metadata": {},
     "output_type": "execute_result"
    }
   ],
   "source": [
    "#Variables\n",
    "# d = np.loadtxt(\"cars.csv\", delimiter=\",\")\n",
    "dataframe = pd.read_csv(\"cars.csv\", delimiter=\",\")\n",
    "dataframe"
   ]
  },
  {
   "cell_type": "code",
   "execution_count": 7,
   "metadata": {},
   "outputs": [
    {
     "name": "stdout",
     "output_type": "stream",
     "text": [
      "(963,)\n",
      "<class 'numpy.ndarray'>\n",
      "(963, 1)\n",
      "<class 'numpy.ndarray'>\n",
      "MinMaxScaler(copy=True, feature_range=(0, 1))\n",
      "MinMaxScaler(copy=True, feature_range=(0, 1))\n"
     ]
    }
   ],
   "source": [
    "dataset = dataframe.values\n",
    "x = dataset[:,0:5]\n",
    "y = dataset[:,5]\n",
    "print(y.shape)\n",
    "print(type(y))\n",
    "y = np.reshape(y, (-1,1))\n",
    "print(y.shape)\n",
    "print(type(y))\n",
    "scaler_x = MinMaxScaler()\n",
    "scaler_y = MinMaxScaler()\n",
    "print(scaler_x.fit(x))\n",
    "xscale=scaler_x.transform(x)\n",
    "print(scaler_y.fit(y))\n",
    "yscale=scaler_y.transform(y)"
   ]
  },
  {
   "cell_type": "code",
   "execution_count": 8,
   "metadata": {},
   "outputs": [],
   "source": [
    "X_train, X_test, y_train, y_test = train_test_split(xscale, yscale)"
   ]
  },
  {
   "cell_type": "code",
   "execution_count": 9,
   "metadata": {},
   "outputs": [
    {
     "data": {
      "text/plain": [
       "(722, 5)"
      ]
     },
     "execution_count": 9,
     "metadata": {},
     "output_type": "execute_result"
    }
   ],
   "source": [
    "X_train.shape"
   ]
  },
  {
   "cell_type": "code",
   "execution_count": 10,
   "metadata": {},
   "outputs": [
    {
     "name": "stdout",
     "output_type": "stream",
     "text": [
      "WARNING:tensorflow:From C:\\Users\\ferna\\anaconda3\\lib\\site-packages\\tensorflow_core\\python\\keras\\initializers.py:143: calling RandomNormal.__init__ (from tensorflow.python.ops.init_ops) with dtype is deprecated and will be removed in a future version.\n",
      "Instructions for updating:\n",
      "Call initializer instance with the dtype argument instead of passing it to the constructor\n",
      "WARNING:tensorflow:From C:\\Users\\ferna\\anaconda3\\lib\\site-packages\\tensorflow_core\\python\\ops\\resource_variable_ops.py:1630: calling BaseResourceVariable.__init__ (from tensorflow.python.ops.resource_variable_ops) with constraint is deprecated and will be removed in a future version.\n",
      "Instructions for updating:\n",
      "If using Keras pass *_constraint arguments to layers.\n",
      "Model: \"sequential\"\n",
      "_________________________________________________________________\n",
      "Layer (type)                 Output Shape              Param #   \n",
      "=================================================================\n",
      "dense (Dense)                (None, 12)                72        \n",
      "_________________________________________________________________\n",
      "dense_1 (Dense)              (None, 8)                 104       \n",
      "_________________________________________________________________\n",
      "dense_2 (Dense)              (None, 1)                 9         \n",
      "=================================================================\n",
      "Total params: 185\n",
      "Trainable params: 185\n",
      "Non-trainable params: 0\n",
      "_________________________________________________________________\n"
     ]
    }
   ],
   "source": [
    "model = Sequential()\n",
    "model.add(Dense(12, input_dim=5, kernel_initializer='normal', activation='relu'))\n",
    "model.add(Dense(8, activation='relu'))\n",
    "model.add(Dense(1, activation='linear'))\n",
    "model.summary()"
   ]
  },
  {
   "cell_type": "code",
   "execution_count": 11,
   "metadata": {},
   "outputs": [],
   "source": [
    "model.compile(loss='mse', optimizer='adam', metrics=['mse','mae'])"
   ]
  },
  {
   "cell_type": "code",
   "execution_count": 12,
   "metadata": {},
   "outputs": [
    {
     "name": "stdout",
     "output_type": "stream",
     "text": [
      "Train on 577 samples, validate on 145 samples\n",
      "Epoch 1/150\n",
      "577/577 [==============================] - 0s 267us/sample - loss: 0.1662 - mean_squared_error: 0.1662 - mean_absolute_error: 0.3036 - val_loss: 0.1483 - val_mean_squared_error: 0.1483 - val_mean_absolute_error: 0.2821\n",
      "Epoch 2/150\n",
      "577/577 [==============================] - 0s 59us/sample - loss: 0.1125 - mean_squared_error: 0.1125 - mean_absolute_error: 0.2474 - val_loss: 0.0958 - val_mean_squared_error: 0.0958 - val_mean_absolute_error: 0.2439\n",
      "Epoch 3/150\n",
      "577/577 [==============================] - 0s 50us/sample - loss: 0.0678 - mean_squared_error: 0.0678 - mean_absolute_error: 0.2111 - val_loss: 0.0629 - val_mean_squared_error: 0.0629 - val_mean_absolute_error: 0.2185\n",
      "Epoch 4/150\n",
      "577/577 [==============================] - 0s 66us/sample - loss: 0.0502 - mean_squared_error: 0.0502 - mean_absolute_error: 0.1965 - val_loss: 0.0540 - val_mean_squared_error: 0.0540 - val_mean_absolute_error: 0.2046\n",
      "Epoch 5/150\n",
      "577/577 [==============================] - 0s 69us/sample - loss: 0.0470 - mean_squared_error: 0.0470 - mean_absolute_error: 0.1905 - val_loss: 0.0490 - val_mean_squared_error: 0.0490 - val_mean_absolute_error: 0.1948\n",
      "Epoch 6/150\n",
      "577/577 [==============================] - 0s 64us/sample - loss: 0.0417 - mean_squared_error: 0.0417 - mean_absolute_error: 0.1789 - val_loss: 0.0442 - val_mean_squared_error: 0.0442 - val_mean_absolute_error: 0.1848\n",
      "Epoch 7/150\n",
      "577/577 [==============================] - 0s 59us/sample - loss: 0.0369 - mean_squared_error: 0.0369 - mean_absolute_error: 0.1673 - val_loss: 0.0391 - val_mean_squared_error: 0.0391 - val_mean_absolute_error: 0.1728\n",
      "Epoch 8/150\n",
      "577/577 [==============================] - 0s 69us/sample - loss: 0.0324 - mean_squared_error: 0.0324 - mean_absolute_error: 0.1552 - val_loss: 0.0336 - val_mean_squared_error: 0.0336 - val_mean_absolute_error: 0.1580\n",
      "Epoch 9/150\n",
      "577/577 [==============================] - 0s 52us/sample - loss: 0.0283 - mean_squared_error: 0.0283 - mean_absolute_error: 0.1424 - val_loss: 0.0289 - val_mean_squared_error: 0.0289 - val_mean_absolute_error: 0.1438\n",
      "Epoch 10/150\n",
      "577/577 [==============================] - 0s 54us/sample - loss: 0.0248 - mean_squared_error: 0.0248 - mean_absolute_error: 0.1307 - val_loss: 0.0253 - val_mean_squared_error: 0.0253 - val_mean_absolute_error: 0.1323\n",
      "Epoch 11/150\n",
      "577/577 [==============================] - 0s 76us/sample - loss: 0.0221 - mean_squared_error: 0.0221 - mean_absolute_error: 0.1210 - val_loss: 0.0224 - val_mean_squared_error: 0.0224 - val_mean_absolute_error: 0.1219\n",
      "Epoch 12/150\n",
      "577/577 [==============================] - 0s 71us/sample - loss: 0.0202 - mean_squared_error: 0.0202 - mean_absolute_error: 0.1135 - val_loss: 0.0201 - val_mean_squared_error: 0.0201 - val_mean_absolute_error: 0.1140\n",
      "Epoch 13/150\n",
      "577/577 [==============================] - 0s 76us/sample - loss: 0.0189 - mean_squared_error: 0.0189 - mean_absolute_error: 0.1080 - val_loss: 0.0189 - val_mean_squared_error: 0.0189 - val_mean_absolute_error: 0.1093\n",
      "Epoch 14/150\n",
      "577/577 [==============================] - 0s 71us/sample - loss: 0.0181 - mean_squared_error: 0.0181 - mean_absolute_error: 0.1045 - val_loss: 0.0177 - val_mean_squared_error: 0.0177 - val_mean_absolute_error: 0.1056\n",
      "Epoch 15/150\n",
      "577/577 [==============================] - 0s 55us/sample - loss: 0.0177 - mean_squared_error: 0.0177 - mean_absolute_error: 0.1022 - val_loss: 0.0172 - val_mean_squared_error: 0.0172 - val_mean_absolute_error: 0.1029\n",
      "Epoch 16/150\n",
      "577/577 [==============================] - ETA: 0s - loss: 0.0156 - mean_squared_error: 0.0156 - mean_absolute_error: 0.10 - 0s 66us/sample - loss: 0.0173 - mean_squared_error: 0.0173 - mean_absolute_error: 0.1009 - val_loss: 0.0167 - val_mean_squared_error: 0.0167 - val_mean_absolute_error: 0.1009\n",
      "Epoch 17/150\n",
      "577/577 [==============================] - 0s 62us/sample - loss: 0.0171 - mean_squared_error: 0.0171 - mean_absolute_error: 0.1001 - val_loss: 0.0165 - val_mean_squared_error: 0.0165 - val_mean_absolute_error: 0.0996\n",
      "Epoch 18/150\n",
      "577/577 [==============================] - 0s 55us/sample - loss: 0.0170 - mean_squared_error: 0.0170 - mean_absolute_error: 0.0993 - val_loss: 0.0165 - val_mean_squared_error: 0.0165 - val_mean_absolute_error: 0.0993\n",
      "Epoch 19/150\n",
      "577/577 [==============================] - 0s 66us/sample - loss: 0.0169 - mean_squared_error: 0.0169 - mean_absolute_error: 0.0988 - val_loss: 0.0163 - val_mean_squared_error: 0.0163 - val_mean_absolute_error: 0.0980\n",
      "Epoch 20/150\n",
      "577/577 [==============================] - 0s 68us/sample - loss: 0.0168 - mean_squared_error: 0.0168 - mean_absolute_error: 0.0986 - val_loss: 0.0161 - val_mean_squared_error: 0.0161 - val_mean_absolute_error: 0.0973\n",
      "Epoch 21/150\n",
      "577/577 [==============================] - 0s 74us/sample - loss: 0.0168 - mean_squared_error: 0.0168 - mean_absolute_error: 0.0981 - val_loss: 0.0159 - val_mean_squared_error: 0.0159 - val_mean_absolute_error: 0.0967\n",
      "Epoch 22/150\n",
      "577/577 [==============================] - 0s 61us/sample - loss: 0.0168 - mean_squared_error: 0.0168 - mean_absolute_error: 0.0992 - val_loss: 0.0158 - val_mean_squared_error: 0.0158 - val_mean_absolute_error: 0.0961\n",
      "Epoch 23/150\n",
      "577/577 [==============================] - 0s 62us/sample - loss: 0.0167 - mean_squared_error: 0.0167 - mean_absolute_error: 0.0974 - val_loss: 0.0160 - val_mean_squared_error: 0.0160 - val_mean_absolute_error: 0.0965\n",
      "Epoch 24/150\n",
      "577/577 [==============================] - 0s 66us/sample - loss: 0.0165 - mean_squared_error: 0.0165 - mean_absolute_error: 0.0972 - val_loss: 0.0157 - val_mean_squared_error: 0.0157 - val_mean_absolute_error: 0.0954\n",
      "Epoch 25/150\n",
      "577/577 [==============================] - 0s 61us/sample - loss: 0.0165 - mean_squared_error: 0.0165 - mean_absolute_error: 0.0972 - val_loss: 0.0156 - val_mean_squared_error: 0.0156 - val_mean_absolute_error: 0.0951\n",
      "Epoch 26/150\n",
      "577/577 [==============================] - 0s 59us/sample - loss: 0.0165 - mean_squared_error: 0.0165 - mean_absolute_error: 0.0966 - val_loss: 0.0155 - val_mean_squared_error: 0.0155 - val_mean_absolute_error: 0.0946\n",
      "Epoch 27/150\n",
      "577/577 [==============================] - 0s 71us/sample - loss: 0.0164 - mean_squared_error: 0.0164 - mean_absolute_error: 0.0967 - val_loss: 0.0154 - val_mean_squared_error: 0.0154 - val_mean_absolute_error: 0.0941\n",
      "Epoch 28/150\n",
      "577/577 [==============================] - 0s 66us/sample - loss: 0.0163 - mean_squared_error: 0.0163 - mean_absolute_error: 0.0968 - val_loss: 0.0154 - val_mean_squared_error: 0.0154 - val_mean_absolute_error: 0.0940\n",
      "Epoch 29/150\n",
      "577/577 [==============================] - 0s 59us/sample - loss: 0.0164 - mean_squared_error: 0.0164 - mean_absolute_error: 0.0959 - val_loss: 0.0156 - val_mean_squared_error: 0.0156 - val_mean_absolute_error: 0.0945\n",
      "Epoch 30/150\n",
      "577/577 [==============================] - 0s 71us/sample - loss: 0.0162 - mean_squared_error: 0.0162 - mean_absolute_error: 0.0956 - val_loss: 0.0152 - val_mean_squared_error: 0.0152 - val_mean_absolute_error: 0.0934\n",
      "Epoch 31/150\n",
      "577/577 [==============================] - 0s 80us/sample - loss: 0.0163 - mean_squared_error: 0.0163 - mean_absolute_error: 0.0963 - val_loss: 0.0152 - val_mean_squared_error: 0.0152 - val_mean_absolute_error: 0.0929\n",
      "Epoch 32/150\n",
      "577/577 [==============================] - 0s 135us/sample - loss: 0.0161 - mean_squared_error: 0.0161 - mean_absolute_error: 0.0959 - val_loss: 0.0152 - val_mean_squared_error: 0.0152 - val_mean_absolute_error: 0.0932\n",
      "Epoch 33/150\n",
      "577/577 [==============================] - 0s 81us/sample - loss: 0.0162 - mean_squared_error: 0.0162 - mean_absolute_error: 0.0955 - val_loss: 0.0151 - val_mean_squared_error: 0.0151 - val_mean_absolute_error: 0.0923\n",
      "Epoch 34/150\n",
      "577/577 [==============================] - 0s 121us/sample - loss: 0.0162 - mean_squared_error: 0.0162 - mean_absolute_error: 0.0957 - val_loss: 0.0150 - val_mean_squared_error: 0.0150 - val_mean_absolute_error: 0.0923\n",
      "Epoch 35/150\n",
      "577/577 [==============================] - 0s 78us/sample - loss: 0.0161 - mean_squared_error: 0.0161 - mean_absolute_error: 0.0953 - val_loss: 0.0149 - val_mean_squared_error: 0.0149 - val_mean_absolute_error: 0.0918\n"
     ]
    },
    {
     "name": "stdout",
     "output_type": "stream",
     "text": [
      "Epoch 36/150\n",
      "577/577 [==============================] - 0s 81us/sample - loss: 0.0161 - mean_squared_error: 0.0161 - mean_absolute_error: 0.0948 - val_loss: 0.0151 - val_mean_squared_error: 0.0151 - val_mean_absolute_error: 0.0924\n",
      "Epoch 37/150\n",
      "577/577 [==============================] - 0s 61us/sample - loss: 0.0163 - mean_squared_error: 0.0163 - mean_absolute_error: 0.0968 - val_loss: 0.0149 - val_mean_squared_error: 0.0149 - val_mean_absolute_error: 0.0920\n",
      "Epoch 38/150\n",
      "577/577 [==============================] - 0s 45us/sample - loss: 0.0160 - mean_squared_error: 0.0160 - mean_absolute_error: 0.0944 - val_loss: 0.0154 - val_mean_squared_error: 0.0154 - val_mean_absolute_error: 0.0932\n",
      "Epoch 39/150\n",
      "577/577 [==============================] - 0s 47us/sample - loss: 0.0160 - mean_squared_error: 0.0160 - mean_absolute_error: 0.0947 - val_loss: 0.0147 - val_mean_squared_error: 0.0147 - val_mean_absolute_error: 0.0912\n",
      "Epoch 40/150\n",
      "577/577 [==============================] - 0s 54us/sample - loss: 0.0159 - mean_squared_error: 0.0159 - mean_absolute_error: 0.0948 - val_loss: 0.0148 - val_mean_squared_error: 0.0148 - val_mean_absolute_error: 0.0914\n",
      "Epoch 41/150\n",
      "577/577 [==============================] - 0s 50us/sample - loss: 0.0159 - mean_squared_error: 0.0159 - mean_absolute_error: 0.0947 - val_loss: 0.0147 - val_mean_squared_error: 0.0147 - val_mean_absolute_error: 0.0911\n",
      "Epoch 42/150\n",
      "577/577 [==============================] - 0s 50us/sample - loss: 0.0158 - mean_squared_error: 0.0158 - mean_absolute_error: 0.0947 - val_loss: 0.0148 - val_mean_squared_error: 0.0148 - val_mean_absolute_error: 0.0912\n",
      "Epoch 43/150\n",
      "577/577 [==============================] - 0s 54us/sample - loss: 0.0158 - mean_squared_error: 0.0158 - mean_absolute_error: 0.0944 - val_loss: 0.0148 - val_mean_squared_error: 0.0148 - val_mean_absolute_error: 0.0910\n",
      "Epoch 44/150\n",
      "577/577 [==============================] - 0s 59us/sample - loss: 0.0158 - mean_squared_error: 0.0158 - mean_absolute_error: 0.0943 - val_loss: 0.0147 - val_mean_squared_error: 0.0147 - val_mean_absolute_error: 0.0906\n",
      "Epoch 45/150\n",
      "577/577 [==============================] - 0s 61us/sample - loss: 0.0157 - mean_squared_error: 0.0157 - mean_absolute_error: 0.0942 - val_loss: 0.0147 - val_mean_squared_error: 0.0147 - val_mean_absolute_error: 0.0909\n",
      "Epoch 46/150\n",
      "577/577 [==============================] - 0s 69us/sample - loss: 0.0158 - mean_squared_error: 0.0158 - mean_absolute_error: 0.0940 - val_loss: 0.0145 - val_mean_squared_error: 0.0145 - val_mean_absolute_error: 0.0902\n",
      "Epoch 47/150\n",
      "577/577 [==============================] - 0s 50us/sample - loss: 0.0157 - mean_squared_error: 0.0157 - mean_absolute_error: 0.0945 - val_loss: 0.0145 - val_mean_squared_error: 0.0145 - val_mean_absolute_error: 0.0902\n",
      "Epoch 48/150\n",
      "577/577 [==============================] - 0s 52us/sample - loss: 0.0157 - mean_squared_error: 0.0157 - mean_absolute_error: 0.0941 - val_loss: 0.0148 - val_mean_squared_error: 0.0148 - val_mean_absolute_error: 0.0908\n",
      "Epoch 49/150\n",
      "577/577 [==============================] - 0s 54us/sample - loss: 0.0158 - mean_squared_error: 0.0158 - mean_absolute_error: 0.0947 - val_loss: 0.0145 - val_mean_squared_error: 0.0145 - val_mean_absolute_error: 0.0899\n",
      "Epoch 50/150\n",
      "577/577 [==============================] - 0s 52us/sample - loss: 0.0157 - mean_squared_error: 0.0157 - mean_absolute_error: 0.0938 - val_loss: 0.0144 - val_mean_squared_error: 0.0144 - val_mean_absolute_error: 0.0899\n",
      "Epoch 51/150\n",
      "577/577 [==============================] - 0s 61us/sample - loss: 0.0156 - mean_squared_error: 0.0156 - mean_absolute_error: 0.0936 - val_loss: 0.0145 - val_mean_squared_error: 0.0145 - val_mean_absolute_error: 0.0896\n",
      "Epoch 52/150\n",
      "577/577 [==============================] - 0s 47us/sample - loss: 0.0157 - mean_squared_error: 0.0157 - mean_absolute_error: 0.0939 - val_loss: 0.0144 - val_mean_squared_error: 0.0144 - val_mean_absolute_error: 0.0892\n",
      "Epoch 53/150\n",
      "577/577 [==============================] - 0s 57us/sample - loss: 0.0159 - mean_squared_error: 0.0159 - mean_absolute_error: 0.0932 - val_loss: 0.0143 - val_mean_squared_error: 0.0143 - val_mean_absolute_error: 0.0891\n",
      "Epoch 54/150\n",
      "577/577 [==============================] - 0s 50us/sample - loss: 0.0156 - mean_squared_error: 0.0156 - mean_absolute_error: 0.0936 - val_loss: 0.0143 - val_mean_squared_error: 0.0143 - val_mean_absolute_error: 0.0892\n",
      "Epoch 55/150\n",
      "577/577 [==============================] - 0s 50us/sample - loss: 0.0155 - mean_squared_error: 0.0155 - mean_absolute_error: 0.0934 - val_loss: 0.0143 - val_mean_squared_error: 0.0143 - val_mean_absolute_error: 0.0892\n",
      "Epoch 56/150\n",
      "577/577 [==============================] - 0s 48us/sample - loss: 0.0155 - mean_squared_error: 0.0155 - mean_absolute_error: 0.0931 - val_loss: 0.0143 - val_mean_squared_error: 0.0143 - val_mean_absolute_error: 0.0889\n",
      "Epoch 57/150\n",
      "577/577 [==============================] - 0s 47us/sample - loss: 0.0155 - mean_squared_error: 0.0155 - mean_absolute_error: 0.0933 - val_loss: 0.0146 - val_mean_squared_error: 0.0146 - val_mean_absolute_error: 0.0898\n",
      "Epoch 58/150\n",
      "577/577 [==============================] - 0s 50us/sample - loss: 0.0155 - mean_squared_error: 0.0155 - mean_absolute_error: 0.0934 - val_loss: 0.0143 - val_mean_squared_error: 0.0143 - val_mean_absolute_error: 0.0888\n",
      "Epoch 59/150\n",
      "577/577 [==============================] - 0s 47us/sample - loss: 0.0155 - mean_squared_error: 0.0155 - mean_absolute_error: 0.0926 - val_loss: 0.0141 - val_mean_squared_error: 0.0141 - val_mean_absolute_error: 0.0883\n",
      "Epoch 60/150\n",
      "577/577 [==============================] - 0s 57us/sample - loss: 0.0154 - mean_squared_error: 0.0154 - mean_absolute_error: 0.0934 - val_loss: 0.0141 - val_mean_squared_error: 0.0141 - val_mean_absolute_error: 0.0883\n",
      "Epoch 61/150\n",
      "577/577 [==============================] - 0s 74us/sample - loss: 0.0155 - mean_squared_error: 0.0155 - mean_absolute_error: 0.0929 - val_loss: 0.0142 - val_mean_squared_error: 0.0142 - val_mean_absolute_error: 0.0887\n",
      "Epoch 62/150\n",
      "577/577 [==============================] - 0s 61us/sample - loss: 0.0153 - mean_squared_error: 0.0153 - mean_absolute_error: 0.0926 - val_loss: 0.0141 - val_mean_squared_error: 0.0141 - val_mean_absolute_error: 0.0882\n",
      "Epoch 63/150\n",
      "577/577 [==============================] - 0s 59us/sample - loss: 0.0155 - mean_squared_error: 0.0155 - mean_absolute_error: 0.0932 - val_loss: 0.0140 - val_mean_squared_error: 0.0140 - val_mean_absolute_error: 0.0877\n",
      "Epoch 64/150\n",
      "577/577 [==============================] - 0s 52us/sample - loss: 0.0155 - mean_squared_error: 0.0155 - mean_absolute_error: 0.0922 - val_loss: 0.0141 - val_mean_squared_error: 0.0141 - val_mean_absolute_error: 0.0879\n",
      "Epoch 65/150\n",
      "577/577 [==============================] - 0s 52us/sample - loss: 0.0154 - mean_squared_error: 0.0154 - mean_absolute_error: 0.0931 - val_loss: 0.0139 - val_mean_squared_error: 0.0139 - val_mean_absolute_error: 0.0876\n",
      "Epoch 66/150\n",
      "577/577 [==============================] - 0s 45us/sample - loss: 0.0153 - mean_squared_error: 0.0153 - mean_absolute_error: 0.0922 - val_loss: 0.0140 - val_mean_squared_error: 0.0140 - val_mean_absolute_error: 0.0875\n",
      "Epoch 67/150\n",
      "577/577 [==============================] - 0s 49us/sample - loss: 0.0153 - mean_squared_error: 0.0153 - mean_absolute_error: 0.0927 - val_loss: 0.0139 - val_mean_squared_error: 0.0139 - val_mean_absolute_error: 0.0874\n",
      "Epoch 68/150\n",
      "577/577 [==============================] - 0s 47us/sample - loss: 0.0153 - mean_squared_error: 0.0153 - mean_absolute_error: 0.0922 - val_loss: 0.0139 - val_mean_squared_error: 0.0139 - val_mean_absolute_error: 0.0874\n",
      "Epoch 69/150\n",
      "577/577 [==============================] - 0s 57us/sample - loss: 0.0153 - mean_squared_error: 0.0153 - mean_absolute_error: 0.0922 - val_loss: 0.0138 - val_mean_squared_error: 0.0138 - val_mean_absolute_error: 0.0870\n",
      "Epoch 70/150\n",
      "577/577 [==============================] - 0s 47us/sample - loss: 0.0153 - mean_squared_error: 0.0153 - mean_absolute_error: 0.0920 - val_loss: 0.0140 - val_mean_squared_error: 0.0140 - val_mean_absolute_error: 0.0873\n",
      "Epoch 71/150\n",
      "577/577 [==============================] - 0s 52us/sample - loss: 0.0153 - mean_squared_error: 0.0153 - mean_absolute_error: 0.0926 - val_loss: 0.0138 - val_mean_squared_error: 0.0138 - val_mean_absolute_error: 0.0867\n",
      "Epoch 72/150\n",
      "577/577 [==============================] - ETA: 0s - loss: 0.0200 - mean_squared_error: 0.0200 - mean_absolute_error: 0.10 - 0s 50us/sample - loss: 0.0152 - mean_squared_error: 0.0152 - mean_absolute_error: 0.0916 - val_loss: 0.0138 - val_mean_squared_error: 0.0138 - val_mean_absolute_error: 0.0869\n",
      "Epoch 73/150\n",
      "577/577 [==============================] - 0s 48us/sample - loss: 0.0151 - mean_squared_error: 0.0151 - mean_absolute_error: 0.0916 - val_loss: 0.0139 - val_mean_squared_error: 0.0139 - val_mean_absolute_error: 0.0869\n",
      "Epoch 74/150\n",
      "577/577 [==============================] - 0s 45us/sample - loss: 0.0152 - mean_squared_error: 0.0152 - mean_absolute_error: 0.0915 - val_loss: 0.0138 - val_mean_squared_error: 0.0138 - val_mean_absolute_error: 0.0864\n",
      "Epoch 75/150\n",
      "577/577 [==============================] - 0s 48us/sample - loss: 0.0151 - mean_squared_error: 0.0151 - mean_absolute_error: 0.0914 - val_loss: 0.0137 - val_mean_squared_error: 0.0137 - val_mean_absolute_error: 0.0864\n",
      "Epoch 76/150\n",
      "577/577 [==============================] - 0s 48us/sample - loss: 0.0151 - mean_squared_error: 0.0151 - mean_absolute_error: 0.0914 - val_loss: 0.0140 - val_mean_squared_error: 0.0140 - val_mean_absolute_error: 0.0869\n",
      "Epoch 77/150\n",
      "577/577 [==============================] - 0s 50us/sample - loss: 0.0151 - mean_squared_error: 0.0151 - mean_absolute_error: 0.0908 - val_loss: 0.0136 - val_mean_squared_error: 0.0136 - val_mean_absolute_error: 0.0861\n",
      "Epoch 78/150\n",
      "577/577 [==============================] - 0s 50us/sample - loss: 0.0151 - mean_squared_error: 0.0151 - mean_absolute_error: 0.0919 - val_loss: 0.0138 - val_mean_squared_error: 0.0138 - val_mean_absolute_error: 0.0862\n",
      "Epoch 79/150\n",
      "577/577 [==============================] - 0s 47us/sample - loss: 0.0151 - mean_squared_error: 0.0151 - mean_absolute_error: 0.0909 - val_loss: 0.0136 - val_mean_squared_error: 0.0136 - val_mean_absolute_error: 0.0859\n",
      "Epoch 80/150\n",
      "577/577 [==============================] - 0s 50us/sample - loss: 0.0151 - mean_squared_error: 0.0151 - mean_absolute_error: 0.0911 - val_loss: 0.0135 - val_mean_squared_error: 0.0135 - val_mean_absolute_error: 0.0858\n",
      "Epoch 81/150\n",
      "577/577 [==============================] - 0s 47us/sample - loss: 0.0152 - mean_squared_error: 0.0152 - mean_absolute_error: 0.0906 - val_loss: 0.0136 - val_mean_squared_error: 0.0136 - val_mean_absolute_error: 0.0857\n",
      "Epoch 82/150\n",
      "577/577 [==============================] - 0s 48us/sample - loss: 0.0150 - mean_squared_error: 0.0150 - mean_absolute_error: 0.0916 - val_loss: 0.0136 - val_mean_squared_error: 0.0136 - val_mean_absolute_error: 0.0857\n",
      "Epoch 83/150\n",
      "577/577 [==============================] - 0s 47us/sample - loss: 0.0151 - mean_squared_error: 0.0151 - mean_absolute_error: 0.0907 - val_loss: 0.0135 - val_mean_squared_error: 0.0135 - val_mean_absolute_error: 0.0853\n",
      "Epoch 84/150\n",
      "577/577 [==============================] - 0s 45us/sample - loss: 0.0150 - mean_squared_error: 0.0150 - mean_absolute_error: 0.0915 - val_loss: 0.0135 - val_mean_squared_error: 0.0135 - val_mean_absolute_error: 0.0853\n",
      "Epoch 85/150\n",
      "577/577 [==============================] - 0s 49us/sample - loss: 0.0151 - mean_squared_error: 0.0151 - mean_absolute_error: 0.0904 - val_loss: 0.0135 - val_mean_squared_error: 0.0135 - val_mean_absolute_error: 0.0852\n",
      "Epoch 86/150\n",
      "577/577 [==============================] - 0s 45us/sample - loss: 0.0150 - mean_squared_error: 0.0150 - mean_absolute_error: 0.0910 - val_loss: 0.0135 - val_mean_squared_error: 0.0135 - val_mean_absolute_error: 0.0852\n",
      "Epoch 87/150\n",
      "577/577 [==============================] - 0s 50us/sample - loss: 0.0150 - mean_squared_error: 0.0150 - mean_absolute_error: 0.0903 - val_loss: 0.0136 - val_mean_squared_error: 0.0136 - val_mean_absolute_error: 0.0850\n",
      "Epoch 88/150\n",
      "577/577 [==============================] - 0s 49us/sample - loss: 0.0149 - mean_squared_error: 0.0149 - mean_absolute_error: 0.0902 - val_loss: 0.0134 - val_mean_squared_error: 0.0134 - val_mean_absolute_error: 0.0847\n",
      "Epoch 89/150\n",
      "577/577 [==============================] - 0s 50us/sample - loss: 0.0149 - mean_squared_error: 0.0149 - mean_absolute_error: 0.0900 - val_loss: 0.0134 - val_mean_squared_error: 0.0134 - val_mean_absolute_error: 0.0848\n",
      "Epoch 90/150\n",
      "577/577 [==============================] - 0s 54us/sample - loss: 0.0150 - mean_squared_error: 0.0150 - mean_absolute_error: 0.0907 - val_loss: 0.0136 - val_mean_squared_error: 0.0136 - val_mean_absolute_error: 0.0848\n",
      "Epoch 91/150\n",
      "577/577 [==============================] - 0s 95us/sample - loss: 0.0149 - mean_squared_error: 0.0149 - mean_absolute_error: 0.0901 - val_loss: 0.0135 - val_mean_squared_error: 0.0135 - val_mean_absolute_error: 0.0847\n",
      "Epoch 92/150\n",
      "577/577 [==============================] - 0s 59us/sample - loss: 0.0148 - mean_squared_error: 0.0148 - mean_absolute_error: 0.0898 - val_loss: 0.0134 - val_mean_squared_error: 0.0134 - val_mean_absolute_error: 0.0845\n",
      "Epoch 93/150\n",
      "577/577 [==============================] - 0s 43us/sample - loss: 0.0149 - mean_squared_error: 0.0149 - mean_absolute_error: 0.0897 - val_loss: 0.0131 - val_mean_squared_error: 0.0131 - val_mean_absolute_error: 0.0843\n",
      "Epoch 94/150\n",
      "577/577 [==============================] - 0s 50us/sample - loss: 0.0150 - mean_squared_error: 0.0150 - mean_absolute_error: 0.0913 - val_loss: 0.0137 - val_mean_squared_error: 0.0137 - val_mean_absolute_error: 0.0849\n",
      "Epoch 95/150\n",
      "577/577 [==============================] - 0s 55us/sample - loss: 0.0149 - mean_squared_error: 0.0149 - mean_absolute_error: 0.0897 - val_loss: 0.0135 - val_mean_squared_error: 0.0135 - val_mean_absolute_error: 0.0842\n",
      "Epoch 96/150\n",
      "577/577 [==============================] - 0s 48us/sample - loss: 0.0148 - mean_squared_error: 0.0148 - mean_absolute_error: 0.0906 - val_loss: 0.0132 - val_mean_squared_error: 0.0132 - val_mean_absolute_error: 0.0843\n",
      "Epoch 97/150\n",
      "577/577 [==============================] - 0s 50us/sample - loss: 0.0150 - mean_squared_error: 0.0150 - mean_absolute_error: 0.0903 - val_loss: 0.0132 - val_mean_squared_error: 0.0132 - val_mean_absolute_error: 0.0839\n",
      "Epoch 98/150\n",
      "577/577 [==============================] - 0s 50us/sample - loss: 0.0149 - mean_squared_error: 0.0149 - mean_absolute_error: 0.0912 - val_loss: 0.0135 - val_mean_squared_error: 0.0135 - val_mean_absolute_error: 0.0844\n",
      "Epoch 99/150\n",
      "577/577 [==============================] - 0s 57us/sample - loss: 0.0151 - mean_squared_error: 0.0151 - mean_absolute_error: 0.0899 - val_loss: 0.0131 - val_mean_squared_error: 0.0131 - val_mean_absolute_error: 0.0841\n",
      "Epoch 100/150\n",
      "577/577 [==============================] - 0s 50us/sample - loss: 0.0149 - mean_squared_error: 0.0149 - mean_absolute_error: 0.0911 - val_loss: 0.0134 - val_mean_squared_error: 0.0134 - val_mean_absolute_error: 0.0842\n",
      "Epoch 101/150\n",
      "577/577 [==============================] - 0s 52us/sample - loss: 0.0149 - mean_squared_error: 0.0149 - mean_absolute_error: 0.0894 - val_loss: 0.0131 - val_mean_squared_error: 0.0131 - val_mean_absolute_error: 0.0837\n",
      "Epoch 102/150\n",
      "577/577 [==============================] - 0s 57us/sample - loss: 0.0148 - mean_squared_error: 0.0148 - mean_absolute_error: 0.0903 - val_loss: 0.0134 - val_mean_squared_error: 0.0134 - val_mean_absolute_error: 0.0842\n",
      "Epoch 103/150\n",
      "577/577 [==============================] - 0s 59us/sample - loss: 0.0147 - mean_squared_error: 0.0147 - mean_absolute_error: 0.0891 - val_loss: 0.0132 - val_mean_squared_error: 0.0132 - val_mean_absolute_error: 0.0837\n",
      "Epoch 104/150\n",
      "577/577 [==============================] - 0s 50us/sample - loss: 0.0148 - mean_squared_error: 0.0148 - mean_absolute_error: 0.0900 - val_loss: 0.0135 - val_mean_squared_error: 0.0135 - val_mean_absolute_error: 0.0838\n",
      "Epoch 105/150\n",
      "577/577 [==============================] - 0s 55us/sample - loss: 0.0147 - mean_squared_error: 0.0147 - mean_absolute_error: 0.0886 - val_loss: 0.0131 - val_mean_squared_error: 0.0131 - val_mean_absolute_error: 0.0832\n",
      "Epoch 106/150\n"
     ]
    },
    {
     "name": "stdout",
     "output_type": "stream",
     "text": [
      "577/577 [==============================] - 0s 52us/sample - loss: 0.0147 - mean_squared_error: 0.0147 - mean_absolute_error: 0.0898 - val_loss: 0.0134 - val_mean_squared_error: 0.0134 - val_mean_absolute_error: 0.0836\n",
      "Epoch 107/150\n",
      "577/577 [==============================] - 0s 50us/sample - loss: 0.0148 - mean_squared_error: 0.0148 - mean_absolute_error: 0.0889 - val_loss: 0.0131 - val_mean_squared_error: 0.0131 - val_mean_absolute_error: 0.0830\n",
      "Epoch 108/150\n",
      "577/577 [==============================] - 0s 48us/sample - loss: 0.0148 - mean_squared_error: 0.0148 - mean_absolute_error: 0.0903 - val_loss: 0.0132 - val_mean_squared_error: 0.0132 - val_mean_absolute_error: 0.0833\n",
      "Epoch 109/150\n",
      "577/577 [==============================] - 0s 48us/sample - loss: 0.0146 - mean_squared_error: 0.0146 - mean_absolute_error: 0.0887 - val_loss: 0.0135 - val_mean_squared_error: 0.0135 - val_mean_absolute_error: 0.0837\n",
      "Epoch 110/150\n",
      "577/577 [==============================] - 0s 48us/sample - loss: 0.0147 - mean_squared_error: 0.0147 - mean_absolute_error: 0.0889 - val_loss: 0.0130 - val_mean_squared_error: 0.0130 - val_mean_absolute_error: 0.0832\n",
      "Epoch 111/150\n",
      "577/577 [==============================] - 0s 52us/sample - loss: 0.0146 - mean_squared_error: 0.0146 - mean_absolute_error: 0.0889 - val_loss: 0.0132 - val_mean_squared_error: 0.0132 - val_mean_absolute_error: 0.0830\n",
      "Epoch 112/150\n",
      "577/577 [==============================] - 0s 50us/sample - loss: 0.0146 - mean_squared_error: 0.0146 - mean_absolute_error: 0.0886 - val_loss: 0.0130 - val_mean_squared_error: 0.0130 - val_mean_absolute_error: 0.0831\n",
      "Epoch 113/150\n",
      "577/577 [==============================] - 0s 52us/sample - loss: 0.0146 - mean_squared_error: 0.0146 - mean_absolute_error: 0.0887 - val_loss: 0.0130 - val_mean_squared_error: 0.0130 - val_mean_absolute_error: 0.0827\n",
      "Epoch 114/150\n",
      "577/577 [==============================] - 0s 48us/sample - loss: 0.0145 - mean_squared_error: 0.0145 - mean_absolute_error: 0.0888 - val_loss: 0.0130 - val_mean_squared_error: 0.0130 - val_mean_absolute_error: 0.0827\n",
      "Epoch 115/150\n",
      "577/577 [==============================] - 0s 47us/sample - loss: 0.0145 - mean_squared_error: 0.0145 - mean_absolute_error: 0.0886 - val_loss: 0.0134 - val_mean_squared_error: 0.0134 - val_mean_absolute_error: 0.0834\n",
      "Epoch 116/150\n",
      "577/577 [==============================] - 0s 47us/sample - loss: 0.0146 - mean_squared_error: 0.0146 - mean_absolute_error: 0.0887 - val_loss: 0.0130 - val_mean_squared_error: 0.0130 - val_mean_absolute_error: 0.0826\n",
      "Epoch 117/150\n",
      "577/577 [==============================] - 0s 50us/sample - loss: 0.0145 - mean_squared_error: 0.0145 - mean_absolute_error: 0.0882 - val_loss: 0.0131 - val_mean_squared_error: 0.0131 - val_mean_absolute_error: 0.0823\n",
      "Epoch 118/150\n",
      "577/577 [==============================] - 0s 52us/sample - loss: 0.0146 - mean_squared_error: 0.0146 - mean_absolute_error: 0.0887 - val_loss: 0.0132 - val_mean_squared_error: 0.0132 - val_mean_absolute_error: 0.0827\n",
      "Epoch 119/150\n",
      "577/577 [==============================] - 0s 71us/sample - loss: 0.0145 - mean_squared_error: 0.0145 - mean_absolute_error: 0.0882 - val_loss: 0.0130 - val_mean_squared_error: 0.0130 - val_mean_absolute_error: 0.0826\n",
      "Epoch 120/150\n",
      "577/577 [==============================] - 0s 66us/sample - loss: 0.0145 - mean_squared_error: 0.0145 - mean_absolute_error: 0.0884 - val_loss: 0.0130 - val_mean_squared_error: 0.0130 - val_mean_absolute_error: 0.0822\n",
      "Epoch 121/150\n",
      "577/577 [==============================] - 0s 43us/sample - loss: 0.0145 - mean_squared_error: 0.0145 - mean_absolute_error: 0.0885 - val_loss: 0.0131 - val_mean_squared_error: 0.0131 - val_mean_absolute_error: 0.0824\n",
      "Epoch 122/150\n",
      "577/577 [==============================] - 0s 49us/sample - loss: 0.0145 - mean_squared_error: 0.0145 - mean_absolute_error: 0.0878 - val_loss: 0.0129 - val_mean_squared_error: 0.0129 - val_mean_absolute_error: 0.0822\n",
      "Epoch 123/150\n",
      "577/577 [==============================] - 0s 47us/sample - loss: 0.0146 - mean_squared_error: 0.0146 - mean_absolute_error: 0.0883 - val_loss: 0.0129 - val_mean_squared_error: 0.0129 - val_mean_absolute_error: 0.0822\n",
      "Epoch 124/150\n",
      "577/577 [==============================] - 0s 48us/sample - loss: 0.0145 - mean_squared_error: 0.0145 - mean_absolute_error: 0.0881 - val_loss: 0.0130 - val_mean_squared_error: 0.0130 - val_mean_absolute_error: 0.0817\n",
      "Epoch 125/150\n",
      "577/577 [==============================] - 0s 48us/sample - loss: 0.0145 - mean_squared_error: 0.0145 - mean_absolute_error: 0.0882 - val_loss: 0.0129 - val_mean_squared_error: 0.0129 - val_mean_absolute_error: 0.0819\n",
      "Epoch 126/150\n",
      "577/577 [==============================] - 0s 47us/sample - loss: 0.0145 - mean_squared_error: 0.0145 - mean_absolute_error: 0.0879 - val_loss: 0.0130 - val_mean_squared_error: 0.0130 - val_mean_absolute_error: 0.0818\n",
      "Epoch 127/150\n",
      "577/577 [==============================] - 0s 48us/sample - loss: 0.0145 - mean_squared_error: 0.0145 - mean_absolute_error: 0.0881 - val_loss: 0.0129 - val_mean_squared_error: 0.0129 - val_mean_absolute_error: 0.0817\n",
      "Epoch 128/150\n",
      "577/577 [==============================] - 0s 48us/sample - loss: 0.0145 - mean_squared_error: 0.0145 - mean_absolute_error: 0.0881 - val_loss: 0.0130 - val_mean_squared_error: 0.0130 - val_mean_absolute_error: 0.0817\n",
      "Epoch 129/150\n",
      "577/577 [==============================] - 0s 54us/sample - loss: 0.0144 - mean_squared_error: 0.0144 - mean_absolute_error: 0.0879 - val_loss: 0.0129 - val_mean_squared_error: 0.0129 - val_mean_absolute_error: 0.0820\n",
      "Epoch 130/150\n",
      "577/577 [==============================] - 0s 48us/sample - loss: 0.0145 - mean_squared_error: 0.0145 - mean_absolute_error: 0.0880 - val_loss: 0.0131 - val_mean_squared_error: 0.0131 - val_mean_absolute_error: 0.0822\n",
      "Epoch 131/150\n",
      "577/577 [==============================] - 0s 50us/sample - loss: 0.0144 - mean_squared_error: 0.0144 - mean_absolute_error: 0.0877 - val_loss: 0.0128 - val_mean_squared_error: 0.0128 - val_mean_absolute_error: 0.0819\n",
      "Epoch 132/150\n",
      "577/577 [==============================] - 0s 45us/sample - loss: 0.0144 - mean_squared_error: 0.0144 - mean_absolute_error: 0.0876 - val_loss: 0.0129 - val_mean_squared_error: 0.0129 - val_mean_absolute_error: 0.0818\n",
      "Epoch 133/150\n",
      "577/577 [==============================] - 0s 45us/sample - loss: 0.0145 - mean_squared_error: 0.0145 - mean_absolute_error: 0.0880 - val_loss: 0.0130 - val_mean_squared_error: 0.0130 - val_mean_absolute_error: 0.0817\n",
      "Epoch 134/150\n",
      "577/577 [==============================] - 0s 52us/sample - loss: 0.0145 - mean_squared_error: 0.0145 - mean_absolute_error: 0.0876 - val_loss: 0.0128 - val_mean_squared_error: 0.0128 - val_mean_absolute_error: 0.0814\n",
      "Epoch 135/150\n",
      "577/577 [==============================] - 0s 47us/sample - loss: 0.0144 - mean_squared_error: 0.0144 - mean_absolute_error: 0.0876 - val_loss: 0.0129 - val_mean_squared_error: 0.0129 - val_mean_absolute_error: 0.0814\n",
      "Epoch 136/150\n",
      "577/577 [==============================] - 0s 54us/sample - loss: 0.0145 - mean_squared_error: 0.0145 - mean_absolute_error: 0.0877 - val_loss: 0.0128 - val_mean_squared_error: 0.0128 - val_mean_absolute_error: 0.0813\n",
      "Epoch 137/150\n",
      "577/577 [==============================] - 0s 48us/sample - loss: 0.0145 - mean_squared_error: 0.0145 - mean_absolute_error: 0.0884 - val_loss: 0.0131 - val_mean_squared_error: 0.0131 - val_mean_absolute_error: 0.0816\n",
      "Epoch 138/150\n",
      "577/577 [==============================] - 0s 52us/sample - loss: 0.0144 - mean_squared_error: 0.0144 - mean_absolute_error: 0.0875 - val_loss: 0.0127 - val_mean_squared_error: 0.0127 - val_mean_absolute_error: 0.0817\n",
      "Epoch 139/150\n",
      "577/577 [==============================] - 0s 54us/sample - loss: 0.0144 - mean_squared_error: 0.0144 - mean_absolute_error: 0.0880 - val_loss: 0.0130 - val_mean_squared_error: 0.0130 - val_mean_absolute_error: 0.0817\n",
      "Epoch 140/150\n",
      "577/577 [==============================] - 0s 52us/sample - loss: 0.0144 - mean_squared_error: 0.0144 - mean_absolute_error: 0.0876 - val_loss: 0.0129 - val_mean_squared_error: 0.0129 - val_mean_absolute_error: 0.0814\n",
      "Epoch 141/150\n",
      "577/577 [==============================] - 0s 52us/sample - loss: 0.0144 - mean_squared_error: 0.0144 - mean_absolute_error: 0.0873 - val_loss: 0.0129 - val_mean_squared_error: 0.0129 - val_mean_absolute_error: 0.0813\n",
      "Epoch 142/150\n",
      "577/577 [==============================] - 0s 45us/sample - loss: 0.0144 - mean_squared_error: 0.0144 - mean_absolute_error: 0.0872 - val_loss: 0.0127 - val_mean_squared_error: 0.0127 - val_mean_absolute_error: 0.0813\n",
      "Epoch 143/150\n",
      "577/577 [==============================] - 0s 48us/sample - loss: 0.0146 - mean_squared_error: 0.0146 - mean_absolute_error: 0.0894 - val_loss: 0.0131 - val_mean_squared_error: 0.0131 - val_mean_absolute_error: 0.0818\n",
      "Epoch 144/150\n",
      "577/577 [==============================] - 0s 54us/sample - loss: 0.0144 - mean_squared_error: 0.0144 - mean_absolute_error: 0.0872 - val_loss: 0.0128 - val_mean_squared_error: 0.0128 - val_mean_absolute_error: 0.0809\n",
      "Epoch 145/150\n",
      "577/577 [==============================] - 0s 52us/sample - loss: 0.0144 - mean_squared_error: 0.0144 - mean_absolute_error: 0.0874 - val_loss: 0.0126 - val_mean_squared_error: 0.0126 - val_mean_absolute_error: 0.0808\n",
      "Epoch 146/150\n",
      "577/577 [==============================] - 0s 52us/sample - loss: 0.0145 - mean_squared_error: 0.0145 - mean_absolute_error: 0.0885 - val_loss: 0.0128 - val_mean_squared_error: 0.0128 - val_mean_absolute_error: 0.0813\n",
      "Epoch 147/150\n",
      "577/577 [==============================] - 0s 54us/sample - loss: 0.0144 - mean_squared_error: 0.0144 - mean_absolute_error: 0.0874 - val_loss: 0.0129 - val_mean_squared_error: 0.0129 - val_mean_absolute_error: 0.0807\n",
      "Epoch 148/150\n",
      "577/577 [==============================] - 0s 50us/sample - loss: 0.0144 - mean_squared_error: 0.0144 - mean_absolute_error: 0.0872 - val_loss: 0.0126 - val_mean_squared_error: 0.0126 - val_mean_absolute_error: 0.0808\n",
      "Epoch 149/150\n",
      "577/577 [==============================] - 0s 64us/sample - loss: 0.0144 - mean_squared_error: 0.0144 - mean_absolute_error: 0.0874 - val_loss: 0.0129 - val_mean_squared_error: 0.0129 - val_mean_absolute_error: 0.0811\n",
      "Epoch 150/150\n",
      "577/577 [==============================] - 0s 80us/sample - loss: 0.0144 - mean_squared_error: 0.0144 - mean_absolute_error: 0.0872 - val_loss: 0.0126 - val_mean_squared_error: 0.0126 - val_mean_absolute_error: 0.0814\n"
     ]
    }
   ],
   "source": [
    "history = model.fit(X_train, y_train, epochs=150, batch_size=50,  verbose=1, validation_split=0.2)"
   ]
  },
  {
   "cell_type": "code",
   "execution_count": 13,
   "metadata": {},
   "outputs": [
    {
     "name": "stdout",
     "output_type": "stream",
     "text": [
      "dict_keys(['loss', 'mean_squared_error', 'mean_absolute_error', 'val_loss', 'val_mean_squared_error', 'val_mean_absolute_error'])\n"
     ]
    },
    {
     "data": {
      "image/png": "[encoded data removed]",
      "text/plain": [
       "<Figure size 432x288 with 1 Axes>"
      ]
     },
     "metadata": {
      "needs_background": "light"
     },
     "output_type": "display_data"
    }
   ],
   "source": [
    "print(history.history.keys())\n",
    "# \"Loss\"\n",
    "plt.plot(history.history['loss'])\n",
    "plt.plot(history.history['val_loss'])\n",
    "plt.title('model loss')\n",
    "plt.ylabel('loss')\n",
    "plt.xlabel('epoch')\n",
    "plt.legend(['train', 'validation'], loc='upper left')\n",
    "plt.show()"
   ]
  },
  {
   "cell_type": "code",
   "execution_count": 14,
   "metadata": {},
   "outputs": [
    {
     "name": "stdout",
     "output_type": "stream",
     "text": [
      "X = 8206.0, Predicted = [8240.]\n"
     ]
    }
   ],
   "source": [
    "Xnew = np.array([[40, 0, 26, 9000, 8000]])\n",
    "Xnew= scaler_x.transform(Xnew)\n",
    "ynew= model.predict(Xnew)\n",
    "#invert normalize\n",
    "ynew = scaler_y.inverse_transform(y_test) \n",
    "Xnew = scaler_x.inverse_transform(X_test)\n",
    "pos = 20\n",
    "print(\"X = %s, Predicted = %s\" % (Xnew[pos, 4], ynew[pos]))"
   ]
  },
  {
   "cell_type": "code",
   "execution_count": null,
   "metadata": {},
   "outputs": [],
   "source": []
  },
  {
   "cell_type": "code",
   "execution_count": null,
   "metadata": {},
   "outputs": [],
   "source": []
  },
  {
   "cell_type": "code",
   "execution_count": null,
   "metadata": {},
   "outputs": [],
   "source": []
  },
  {
   "cell_type": "code",
   "execution_count": null,
   "metadata": {},
   "outputs": [],
   "source": []
  },
  {
   "cell_type": "code",
   "execution_count": 2,
   "metadata": {},
   "outputs": [],
   "source": [
    "def load_matlab_dictionary(file_path, file_name, key):\n",
    "    '''\n",
    "    Load the Matlab dictionary file and return the array as a numpy array.\n",
    "    '''\n",
    "\n",
    "    # Read mat file dictionary\n",
    "    dictionary = scipy.io.loadmat(file_path + file_name)\n",
    "\n",
    "    # Access item of a dictionary\n",
    "    array = dictionary[key]\n",
    "\n",
    "    return array\n",
    "\n",
    "def load_hologram_dataset(file_path):\n",
    "    '''\n",
    "    Load the hologram dataset saved in a Matlab format. Note that it is\n",
    "    a dictionary.\n",
    "    '''\n",
    "\n",
    "    # File names\n",
    "    file_name = 'hDataset.mat'\n",
    "    key = 'hDataset'\n",
    "\n",
    "    # Load dictionary\n",
    "    data = load_matlab_dictionary(file_path, file_name, key)\n",
    "\n",
    "    return data"
   ]
  },
  {
   "cell_type": "code",
   "execution_count": 5,
   "metadata": {},
   "outputs": [
    {
     "name": "stdout",
     "output_type": "stream",
     "text": [
      "----- Loading hologram dataset... -----\n"
     ]
    }
   ],
   "source": [
    "# Current directory\n",
    "cwd = os.getcwd()\n",
    "\n",
    "# Directory path\n",
    "path = str((Path(cwd).parent).parent)\n",
    "\n",
    "print('----- Loading hologram dataset... -----')\n",
    "\n",
    "# File path\n",
    "file_path = path + '\\\\output\\\\dataset\\\\'\n",
    "\n",
    "# Load hologram (matfile dictionary)\n",
    "hol_dataset = load_hologram_dataset(file_path)"
   ]
  },
  {
   "cell_type": "code",
   "execution_count": 7,
   "metadata": {},
   "outputs": [],
   "source": [
    "hol_dataset.shape\n",
    "hol = hol_dataset[:,:,99]"
   ]
  },
  {
   "cell_type": "code",
   "execution_count": 9,
   "metadata": {},
   "outputs": [
    {
     "data": {
      "text/plain": [
       "<matplotlib.image.AxesImage at 0x204a4243688>"
      ]
     },
     "execution_count": 9,
     "metadata": {},
     "output_type": "execute_result"
    },
    {
     "data": {
      "image/png": "[encoded data removed]",
      "text/plain": [
       "<Figure size 432x288 with 1 Axes>"
      ]
     },
     "metadata": {
      "needs_background": "light"
     },
     "output_type": "display_data"
    }
   ],
   "source": [
    "plt.imshow(np.real(hol), cmap='gray')"
   ]
  },
  {
   "cell_type": "code",
   "execution_count": 13,
   "metadata": {},
   "outputs": [],
   "source": [
    "x_train = np.load(path + '\\\\neural_network\\\\' + 'classification_problem/X_train.npy')"
   ]
  },
  {
   "cell_type": "code",
   "execution_count": 16,
   "metadata": {},
   "outputs": [],
   "source": [
    "df = pd.DataFrame(x_train)"
   ]
  },
  {
   "cell_type": "code",
   "execution_count": 23,
   "metadata": {},
   "outputs": [
    {
     "data": {
      "text/plain": [
       "0       0.137470-0.344270j\n",
       "1       0.141412+0.348272j\n",
       "2       0.653838+0.475774j\n",
       "3       0.927965+0.258164j\n",
       "4       0.070244-0.255619j\n",
       "               ...        \n",
       "1995    0.693650-0.001074j\n",
       "1996    0.413036-0.181343j\n",
       "1997    0.424483+0.229607j\n",
       "1998    0.390026+0.086609j\n",
       "1999    0.599802-0.296341j\n",
       "Name: 99, Length: 2000, dtype: complex128"
      ]
     },
     "execution_count": 23,
     "metadata": {},
     "output_type": "execute_result"
    }
   ],
   "source": [
    "df[99]"
   ]
  },
  {
   "cell_type": "code",
   "execution_count": null,
   "metadata": {},
   "outputs": [],
   "source": []
  },
  {
   "cell_type": "code",
   "execution_count": null,
   "metadata": {},
   "outputs": [],
   "source": []
  }
 ],
 "metadata": {
  "kernelspec": {
   "display_name": "Python 3",
   "language": "python",
   "name": "python3"
  },
  "language_info": {
   "codemirror_mode": {
    "name": "ipython",
    "version": 3
   },
   "file_extension": ".py",
   "mimetype": "text/x-python",
   "name": "python",
   "nbconvert_exporter": "python",
   "pygments_lexer": "ipython3",
   "version": "3.7.6"
  }
 },
 "nbformat": 4,
 "nbformat_minor": 4
}
