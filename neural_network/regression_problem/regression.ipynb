{
 "cells": [
  {
   "cell_type": "code",
   "execution_count": 1,
   "metadata": {},
   "outputs": [
    {
     "name": "stderr",
     "output_type": "stream",
     "text": [
      "Using TensorFlow backend.\n"
     ]
    }
   ],
   "source": [
    "from pathlib import Path\n",
    "import numpy as np\n",
    "import matplotlib.pyplot as plt\n",
    "import os\n",
    "import scipy.io\n",
    "import collections\n",
    "import pandas as pd\n",
    "\n",
    "from keras.models import Sequential\n",
    "from keras.models import model_from_json\n",
    "from keras.layers import Dense, Conv2D, Flatten\n",
    "from keras.utils import to_categorical\n",
    "from keras.utils.vis_utils import plot_model\n",
    "\n",
    "from keras.wrappers.scikit_learn import KerasRegressor\n",
    "from sklearn.model_selection import cross_val_score\n",
    "from sklearn.model_selection import KFold\n",
    "from sklearn.preprocessing import StandardScaler\n",
    "from sklearn.pipeline import Pipeline"
   ]
  },
  {
   "cell_type": "markdown",
   "metadata": {},
   "source": [
    "## Create dataset"
   ]
  },
  {
   "cell_type": "code",
   "execution_count": 2,
   "metadata": {},
   "outputs": [],
   "source": [
    "def load_matlab_dictionary(file_path, file_name, key):\n",
    "\n",
    "    # Read mat file dictionary\n",
    "    dictionary = scipy.io.loadmat(file_path + file_name)\n",
    "\n",
    "    # Access item of a dictionary\n",
    "    array = dictionary[key]\n",
    "\n",
    "    return array\n",
    "\n",
    "def load_hologram_dataset(path, file_path, file_name, key):\n",
    "\n",
    "    # Load dictionary\n",
    "    dat = load_matlab_dictionary(file_path, file_name, key)\n",
    "\n",
    "    # Number of holograms\n",
    "    nb_holograms = dat.shape[2]\n",
    "\n",
    "    # Number of class\n",
    "    nb_class = 5\n",
    "\n",
    "    # Number of holograms per class\n",
    "    nb_holograms_class = int(nb_holograms/nb_class)\n",
    "\n",
    "    # Save npy file\n",
    "#     np.save('dat.npy', dat)\n",
    "\n",
    "    return dat, nb_holograms, nb_class, nb_holograms_class\n",
    "\n",
    "def load_dataset():\n",
    "\n",
    "    # Current directory\n",
    "    cwd = os.getcwd()\n",
    "\n",
    "    # Directory path\n",
    "    path = str((Path(cwd).parent).parent)\n",
    "    file_path = path + '\\\\output\\\\dataset\\\\'\n",
    "\n",
    "    # File names\n",
    "    file_name = 'hDataset.mat'\n",
    "    key = 'hDataset'\n",
    "\n",
    "    print('----- Loading hologram dataset... -----')\n",
    "\n",
    "    # Load hologram (matfile dictionary)\n",
    "    dat, nb_holograms, nb_class, nb_holograms_class = load_hologram_dataset(path, file_path, file_name, key)\n",
    "\n",
    "    # Display results\n",
    "    print('Hologram dataset loaded (matlab file dictionary)')\n",
    "    print('Hologram dataset shape: ', dat.shape)\n",
    "    print('Total number of holograms: ' + str(nb_holograms))\n",
    "    print('Number of holograms per class: ' + str(nb_holograms_class))\n",
    "    print('Hologram dataset saved in .npy file!\\n')\n",
    "\n",
    "    return dat, nb_holograms, nb_class, nb_holograms_class\n",
    "\n",
    "def reshape_dataset(dat, nb_holograms):\n",
    "\n",
    "    # Dimensions\n",
    "    rows = dat.shape[0]\n",
    "    columns = dat.shape[1]\n",
    "\n",
    "    # Reshape the dataset so that the first dimension is the number of holograms\n",
    "    dat_r = np.ones([nb_holograms, rows, columns], dtype=complex)\n",
    "    for i in range(nb_holograms):\n",
    "        dat_r[i, :, :] = dat[:, :, i]\n",
    "\n",
    "    # Reshape the dataset to 1 dimension\n",
    "    data_1D = np.reshape(dat_r, (1500, int(rows*columns)))\n",
    "\n",
    "    return data_1D\n",
    "\n",
    "def normalize(arr):\n",
    "\n",
    "    max_value = np.max(np.max(arr, axis=0))\n",
    "    min_value = np.min(np.min(arr, axis=0))\n",
    "    arr = (arr - min_value) / (max_value - min_value)\n",
    "\n",
    "    return arr\n",
    "\n",
    "def normalize_dataset(nb_holograms, data_1D):\n",
    "\n",
    "    # Normalize the examples\n",
    "    data_1D_norm = np.zeros([nb_holograms, data_1D.shape[1]], dtype=complex)\n",
    "\n",
    "    # Normalize each example\n",
    "    for i in range(nb_holograms):\n",
    "        data_1D_norm[i, :] = normalize(data_1D[i, :])\n",
    "\n",
    "    return data_1D_norm\n",
    "\n",
    "def compute_targets_array(nb_holograms, nb_class, nb_holograms_class):\n",
    "\n",
    "    # Compute array of targets\n",
    "    Y_array = np.ones([nb_holograms,])\n",
    "\n",
    "    pos = 0\n",
    "    for c in range(nb_class):\n",
    "        for h in range(nb_holograms_class):\n",
    "            Y_array[pos] = c\n",
    "            pos = pos + 1\n",
    "\n",
    "    # Save matrix\n",
    "#     np.save('Y_array.npy', Y_array)\n",
    "\n",
    "    return Y_array\n",
    "\n",
    "def pre_processing(dat, nb_holograms, nb_class, nb_holograms_class):\n",
    "\n",
    "    print('----- Data pre-procesing... -----')\n",
    "\n",
    "    # Reshape the dataset to 1 dimension\n",
    "    print('Reshaping dataset to 1 dimension...')\n",
    "    data_1D = reshape_dataset(dat, nb_holograms)\n",
    "    print('Dataset 1D shape: ', data_1D.shape)\n",
    "\n",
    "    # Normalize the data\n",
    "    print('Normalizing dataset...')\n",
    "    data_1D_norm = normalize_dataset(nb_holograms, data_1D)\n",
    "    print('Normalized dataset shape: ', data_1D_norm.shape)\n",
    "\n",
    "    # Compute array of targets\n",
    "    print('Computing Y_array...')\n",
    "    Y_array = compute_targets_array(nb_holograms, nb_class, nb_holograms_class)\n",
    "\n",
    "    # Verify\n",
    "    print('Y_array shape: ', Y_array.shape)\n",
    "    print(collections.Counter(Y_array))\n",
    "    print('Y_array saved in a .npy file!\\n')\n",
    "\n",
    "    return data_1D_norm, Y_array"
   ]
  },
  {
   "cell_type": "code",
   "execution_count": 3,
   "metadata": {},
   "outputs": [
    {
     "name": "stdout",
     "output_type": "stream",
     "text": [
      "----- Loading hologram dataset... -----\n",
      "Hologram dataset loaded (matlab file dictionary)\n",
      "Hologram dataset shape:  (200, 200, 1500)\n",
      "Total number of holograms: 1500\n",
      "Number of holograms per class: 300\n",
      "Hologram dataset saved in .npy file!\n",
      "\n",
      "----- Data pre-procesing... -----\n",
      "Reshaping dataset to 1 dimension...\n",
      "Dataset 1D shape:  (1500, 40000)\n",
      "Normalizing dataset...\n",
      "Normalized dataset shape:  (1500, 40000)\n",
      "Computing Y_array...\n",
      "Y_array shape:  (1500,)\n",
      "Counter({0.0: 300, 1.0: 300, 2.0: 300, 3.0: 300, 4.0: 300})\n",
      "Y_array saved in a .npy file!\n",
      "\n"
     ]
    }
   ],
   "source": [
    "dat, nb_holograms, nb_class, nb_holograms_class = load_dataset()\n",
    "\n",
    "# Prepare dateset (reshape, normalize, target's array)\n",
    "data_1D_norm, Y_array = pre_processing(dat, nb_holograms, nb_class, nb_holograms_class)"
   ]
  },
  {
   "cell_type": "code",
   "execution_count": 4,
   "metadata": {},
   "outputs": [
    {
     "data": {
      "text/plain": [
       "(1500, 40000)"
      ]
     },
     "execution_count": 4,
     "metadata": {},
     "output_type": "execute_result"
    }
   ],
   "source": [
    "data_1D_norm.shape"
   ]
  },
  {
   "cell_type": "code",
   "execution_count": 5,
   "metadata": {},
   "outputs": [],
   "source": [
    "dataset = data_1D_norm"
   ]
  },
  {
   "cell_type": "code",
   "execution_count": 6,
   "metadata": {},
   "outputs": [],
   "source": [
    "def load_points_dataset():\n",
    "    \n",
    "    # Current directory\n",
    "    cwd = os.getcwd()\n",
    "\n",
    "    # Directory path\n",
    "    path = str((Path(cwd).parent).parent)\n",
    "    file_path = path + '\\\\output\\\\dataset\\\\'\n",
    "\n",
    "    # File names\n",
    "    file_name = 'pDataset.mat'\n",
    "    key = 'pDataset'\n",
    "\n",
    "    points = load_matlab_dictionary(file_path, file_name, key)\n",
    "    \n",
    "    return points"
   ]
  },
  {
   "cell_type": "code",
   "execution_count": 7,
   "metadata": {},
   "outputs": [
    {
     "data": {
      "text/plain": [
       "(4500, 3)"
      ]
     },
     "execution_count": 7,
     "metadata": {},
     "output_type": "execute_result"
    }
   ],
   "source": [
    "points_dataset = load_points_dataset()\n",
    "points_dataset.shape"
   ]
  },
  {
   "cell_type": "code",
   "execution_count": 8,
   "metadata": {},
   "outputs": [],
   "source": [
    "def positions_points_dataset(class_nb, nb_holograms_class):\n",
    "    \n",
    "    # Initial position in the points dataset\n",
    "    init = 0\n",
    "    for nb in range(1, class_nb):\n",
    "        init = nb * nb_holograms_class + init\n",
    "    \n",
    "    # Final position in the points dataset\n",
    "    fin = 0\n",
    "    for nb in range(1, class_nb + 1):\n",
    "        fin = nb * nb_holograms_class + fin\n",
    "    fin = fin - 1\n",
    "\n",
    "    return init, fin"
   ]
  },
  {
   "cell_type": "code",
   "execution_count": 9,
   "metadata": {},
   "outputs": [],
   "source": [
    "def load_points_dataset_one_class(data, class_nb, nb_holograms_class):\n",
    "    \n",
    "    # Initial and final position in the points dataset\n",
    "    init, fin = positions_points_dataset(class_nb, nb_holograms_class)\n",
    "\n",
    "    points_one_class = data[init:(fin + 1), :]\n",
    "    \n",
    "    return points_one_class"
   ]
  },
  {
   "cell_type": "code",
   "execution_count": 10,
   "metadata": {},
   "outputs": [
    {
     "data": {
      "text/plain": [
       "(300, 3)"
      ]
     },
     "execution_count": 10,
     "metadata": {},
     "output_type": "execute_result"
    }
   ],
   "source": [
    "class_nb = 1\n",
    "\n",
    "p_dataset  = load_points_dataset_one_class(points_dataset, class_nb, nb_holograms_class)\n",
    "p_dataset.shape"
   ]
  },
  {
   "cell_type": "code",
   "execution_count": 11,
   "metadata": {},
   "outputs": [
    {
     "data": {
      "text/plain": [
       "(300, 40000)"
      ]
     },
     "execution_count": 11,
     "metadata": {},
     "output_type": "execute_result"
    }
   ],
   "source": [
    "X_data = dataset[0:300,:]\n",
    "X_data.shape"
   ]
  },
  {
   "cell_type": "code",
   "execution_count": 12,
   "metadata": {},
   "outputs": [
    {
     "data": {
      "text/plain": [
       "(300,)"
      ]
     },
     "execution_count": 12,
     "metadata": {},
     "output_type": "execute_result"
    }
   ],
   "source": [
    "Y_data = p_dataset[:,0]\n",
    "Y_data.shape"
   ]
  },
  {
   "cell_type": "code",
   "execution_count": 13,
   "metadata": {},
   "outputs": [
    {
     "data": {
      "text/html": [
       "<div>\n",
       "<style scoped>\n",
       "    .dataframe tbody tr th:only-of-type {\n",
       "        vertical-align: middle;\n",
       "    }\n",
       "\n",
       "    .dataframe tbody tr th {\n",
       "        vertical-align: top;\n",
       "    }\n",
       "\n",
       "    .dataframe thead th {\n",
       "        text-align: right;\n",
       "    }\n",
       "</style>\n",
       "<table border=\"1\" class=\"dataframe\">\n",
       "  <thead>\n",
       "    <tr style=\"text-align: right;\">\n",
       "      <th></th>\n",
       "      <th>0</th>\n",
       "    </tr>\n",
       "  </thead>\n",
       "  <tbody>\n",
       "    <tr>\n",
       "      <th>0</th>\n",
       "      <td>0.000786</td>\n",
       "    </tr>\n",
       "    <tr>\n",
       "      <th>1</th>\n",
       "      <td>0.000523</td>\n",
       "    </tr>\n",
       "    <tr>\n",
       "      <th>2</th>\n",
       "      <td>-0.000766</td>\n",
       "    </tr>\n",
       "    <tr>\n",
       "      <th>3</th>\n",
       "      <td>-0.000760</td>\n",
       "    </tr>\n",
       "    <tr>\n",
       "      <th>4</th>\n",
       "      <td>-0.000875</td>\n",
       "    </tr>\n",
       "    <tr>\n",
       "      <th>...</th>\n",
       "      <td>...</td>\n",
       "    </tr>\n",
       "    <tr>\n",
       "      <th>295</th>\n",
       "      <td>0.000811</td>\n",
       "    </tr>\n",
       "    <tr>\n",
       "      <th>296</th>\n",
       "      <td>-0.000422</td>\n",
       "    </tr>\n",
       "    <tr>\n",
       "      <th>297</th>\n",
       "      <td>0.000612</td>\n",
       "    </tr>\n",
       "    <tr>\n",
       "      <th>298</th>\n",
       "      <td>-0.000538</td>\n",
       "    </tr>\n",
       "    <tr>\n",
       "      <th>299</th>\n",
       "      <td>0.000960</td>\n",
       "    </tr>\n",
       "  </tbody>\n",
       "</table>\n",
       "<p>300 rows × 1 columns</p>\n",
       "</div>"
      ],
      "text/plain": [
       "            0\n",
       "0    0.000786\n",
       "1    0.000523\n",
       "2   -0.000766\n",
       "3   -0.000760\n",
       "4   -0.000875\n",
       "..        ...\n",
       "295  0.000811\n",
       "296 -0.000422\n",
       "297  0.000612\n",
       "298 -0.000538\n",
       "299  0.000960\n",
       "\n",
       "[300 rows x 1 columns]"
      ]
     },
     "execution_count": 13,
     "metadata": {},
     "output_type": "execute_result"
    }
   ],
   "source": [
    "y = pd.DataFrame(Y_data)\n",
    "y"
   ]
  },
  {
   "cell_type": "code",
   "execution_count": 14,
   "metadata": {},
   "outputs": [],
   "source": [
    "# Create the model\n",
    "model = Sequential()  # build a model layer by layer"
   ]
  },
  {
   "cell_type": "code",
   "execution_count": 15,
   "metadata": {},
   "outputs": [
    {
     "data": {
      "text/plain": [
       "40000"
      ]
     },
     "execution_count": 15,
     "metadata": {},
     "output_type": "execute_result"
    }
   ],
   "source": [
    "X_data.shape[1]"
   ]
  },
  {
   "cell_type": "code",
   "execution_count": 16,
   "metadata": {},
   "outputs": [
    {
     "name": "stdout",
     "output_type": "stream",
     "text": [
      "WARNING:tensorflow:From c:\\users\\flucasamar\\appdata\\local\\programs\\python\\python37\\lib\\site-packages\\tensorflow_core\\python\\ops\\resource_variable_ops.py:1630: calling BaseResourceVariable.__init__ (from tensorflow.python.ops.resource_variable_ops) with constraint is deprecated and will be removed in a future version.\n",
      "Instructions for updating:\n",
      "If using Keras pass *_constraint arguments to layers.\n"
     ]
    }
   ],
   "source": [
    "\n",
    "# Add model layers\n",
    "\n",
    "# First layer (hidden layer)\n",
    "nb_nodes1 = 1000\n",
    "input_dim1 = X_data.shape[1] # 40000 \n",
    "activation1 = 'relu' # Rectified linear unit (ReLU)\n",
    "\n",
    "model.add(Dense(nb_nodes1, input_dim=input_dim1, activation=activation1))\n",
    "\n",
    "# Second layer (hidden layer)\n",
    "nb_nodes2 = 400\n",
    "activation2 = 'relu' # Rectified linear unit (ReLU)\n",
    "\n",
    "model.add(Dense(nb_nodes2, activation=activation2))\n",
    "\n",
    "# Third layer (output layer)\n",
    "activation3 = 'softmax'\n",
    "model.add(Dense(1, activation='linear'))"
   ]
  },
  {
   "cell_type": "code",
   "execution_count": 17,
   "metadata": {},
   "outputs": [
    {
     "name": "stdout",
     "output_type": "stream",
     "text": [
      "Model: \"sequential_1\"\n",
      "_________________________________________________________________\n",
      "Layer (type)                 Output Shape              Param #   \n",
      "=================================================================\n",
      "dense_1 (Dense)              (None, 1000)              40001000  \n",
      "_________________________________________________________________\n",
      "dense_2 (Dense)              (None, 400)               400400    \n",
      "_________________________________________________________________\n",
      "dense_3 (Dense)              (None, 1)                 401       \n",
      "=================================================================\n",
      "Total params: 40,401,801\n",
      "Trainable params: 40,401,801\n",
      "Non-trainable params: 0\n",
      "_________________________________________________________________\n"
     ]
    }
   ],
   "source": [
    "model.summary()"
   ]
  },
  {
   "cell_type": "code",
   "execution_count": 18,
   "metadata": {},
   "outputs": [],
   "source": [
    "model.compile(loss='mse', optimizer='adam', metrics=['mse'])\n"
   ]
  },
  {
   "cell_type": "code",
   "execution_count": 19,
   "metadata": {},
   "outputs": [
    {
     "data": {
      "text/plain": [
       "(300, 1)"
      ]
     },
     "execution_count": 19,
     "metadata": {},
     "output_type": "execute_result"
    }
   ],
   "source": [
    "X_train = X_data\n",
    "Y_train = np.reshape(Y_data, (-1,1))\n",
    "Y_train.shape"
   ]
  },
  {
   "cell_type": "code",
   "execution_count": 20,
   "metadata": {},
   "outputs": [
    {
     "name": "stdout",
     "output_type": "stream",
     "text": [
      "WARNING:tensorflow:From c:\\users\\flucasamar\\appdata\\local\\programs\\python\\python37\\lib\\site-packages\\keras\\backend\\tensorflow_backend.py:422: The name tf.global_variables is deprecated. Please use tf.compat.v1.global_variables instead.\n",
      "\n",
      "Epoch 1/50\n"
     ]
    },
    {
     "name": "stderr",
     "output_type": "stream",
     "text": [
      "c:\\users\\flucasamar\\appdata\\local\\programs\\python\\python37\\lib\\site-packages\\numpy\\core\\_asarray.py:85: ComplexWarning: Casting complex values to real discards the imaginary part\n",
      "  return array(a, dtype, copy=False, order=order)\n"
     ]
    },
    {
     "name": "stdout",
     "output_type": "stream",
     "text": [
      "300/300 [==============================] - 3s 11ms/step - loss: 5592.0955 - mse: 5592.0957\n",
      "Epoch 2/50\n",
      "300/300 [==============================] - 3s 11ms/step - loss: 50.1365 - mse: 50.1365\n",
      "Epoch 3/50\n",
      "300/300 [==============================] - 3s 11ms/step - loss: 13.6090 - mse: 13.6090\n",
      "Epoch 4/50\n",
      "300/300 [==============================] - 3s 11ms/step - loss: 4.4229 - mse: 4.4229\n",
      "Epoch 5/50\n",
      "300/300 [==============================] - 3s 11ms/step - loss: 1.6201 - mse: 1.6201\n",
      "Epoch 6/50\n",
      "300/300 [==============================] - 3s 11ms/step - loss: 0.6099 - mse: 0.6099\n",
      "Epoch 7/50\n",
      "300/300 [==============================] - 3s 11ms/step - loss: 0.3038 - mse: 0.3038\n",
      "Epoch 8/50\n",
      "300/300 [==============================] - 3s 11ms/step - loss: 0.2691 - mse: 0.2691\n",
      "Epoch 9/50\n",
      "300/300 [==============================] - 3s 11ms/step - loss: 0.1345 - mse: 0.1345\n",
      "Epoch 10/50\n",
      "300/300 [==============================] - 3s 11ms/step - loss: 0.0753 - mse: 0.0753\n",
      "Epoch 11/50\n",
      "300/300 [==============================] - 3s 11ms/step - loss: 0.0495 - mse: 0.0495\n",
      "Epoch 12/50\n",
      "300/300 [==============================] - 3s 11ms/step - loss: 0.0740 - mse: 0.0740\n",
      "Epoch 13/50\n",
      "300/300 [==============================] - 3s 11ms/step - loss: 0.0877 - mse: 0.0877\n",
      "Epoch 14/50\n",
      "300/300 [==============================] - 3s 11ms/step - loss: 0.0772 - mse: 0.0772\n",
      "Epoch 15/50\n",
      "300/300 [==============================] - 3s 11ms/step - loss: 0.0809 - mse: 0.0809\n",
      "Epoch 16/50\n",
      "300/300 [==============================] - 3s 11ms/step - loss: 0.0338 - mse: 0.0338\n",
      "Epoch 17/50\n",
      "300/300 [==============================] - 3s 11ms/step - loss: 0.0377 - mse: 0.0377\n",
      "Epoch 18/50\n",
      "300/300 [==============================] - 3s 11ms/step - loss: 0.0374 - mse: 0.0374\n",
      "Epoch 19/50\n",
      "300/300 [==============================] - 3s 11ms/step - loss: 0.0622 - mse: 0.0622\n",
      "Epoch 20/50\n",
      "300/300 [==============================] - 3s 11ms/step - loss: 0.0749 - mse: 0.0749\n",
      "Epoch 21/50\n",
      "300/300 [==============================] - 3s 11ms/step - loss: 0.0339 - mse: 0.0339\n",
      "Epoch 22/50\n",
      "300/300 [==============================] - 3s 11ms/step - loss: 0.0274 - mse: 0.0274\n",
      "Epoch 23/50\n",
      "300/300 [==============================] - 3s 11ms/step - loss: 0.0372 - mse: 0.0372\n",
      "Epoch 24/50\n",
      "300/300 [==============================] - 3s 11ms/step - loss: 0.0645 - mse: 0.0645\n",
      "Epoch 25/50\n",
      "300/300 [==============================] - 3s 12ms/step - loss: 0.0451 - mse: 0.0451\n",
      "Epoch 26/50\n",
      "300/300 [==============================] - 3s 11ms/step - loss: 0.0145 - mse: 0.0145\n",
      "Epoch 27/50\n",
      "300/300 [==============================] - 3s 11ms/step - loss: 0.0113 - mse: 0.0113\n",
      "Epoch 28/50\n",
      "300/300 [==============================] - 3s 11ms/step - loss: 0.0151 - mse: 0.0151\n",
      "Epoch 29/50\n",
      "300/300 [==============================] - 3s 11ms/step - loss: 0.0343 - mse: 0.0343\n",
      "Epoch 30/50\n",
      "300/300 [==============================] - 3s 11ms/step - loss: 0.0118 - mse: 0.0118\n",
      "Epoch 31/50\n",
      "300/300 [==============================] - 3s 11ms/step - loss: 0.0071 - mse: 0.0071\n",
      "Epoch 32/50\n",
      "300/300 [==============================] - 3s 11ms/step - loss: 0.0153 - mse: 0.0153\n",
      "Epoch 33/50\n",
      "300/300 [==============================] - 3s 11ms/step - loss: 0.0233 - mse: 0.0233\n",
      "Epoch 34/50\n",
      "300/300 [==============================] - 3s 11ms/step - loss: 0.0135 - mse: 0.0135\n",
      "Epoch 35/50\n",
      "300/300 [==============================] - 3s 11ms/step - loss: 0.0125 - mse: 0.0125\n",
      "Epoch 36/50\n",
      "300/300 [==============================] - 3s 11ms/step - loss: 0.0096 - mse: 0.0096\n",
      "Epoch 37/50\n",
      "300/300 [==============================] - 3s 11ms/step - loss: 0.0055 - mse: 0.0055\n",
      "Epoch 38/50\n",
      "300/300 [==============================] - 3s 11ms/step - loss: 0.0278 - mse: 0.0278\n",
      "Epoch 39/50\n",
      "300/300 [==============================] - 3s 11ms/step - loss: 0.0130 - mse: 0.0130\n",
      "Epoch 40/50\n",
      "300/300 [==============================] - 3s 11ms/step - loss: 0.0230 - mse: 0.0230\n",
      "Epoch 41/50\n",
      "300/300 [==============================] - 3s 11ms/step - loss: 0.0083 - mse: 0.0083\n",
      "Epoch 42/50\n",
      "300/300 [==============================] - 3s 11ms/step - loss: 0.0371 - mse: 0.0371\n",
      "Epoch 43/50\n",
      "300/300 [==============================] - 3s 11ms/step - loss: 0.0700 - mse: 0.0700\n",
      "Epoch 44/50\n",
      "300/300 [==============================] - 3s 11ms/step - loss: 0.6275 - mse: 0.6275\n",
      "Epoch 45/50\n",
      "300/300 [==============================] - 3s 11ms/step - loss: 1.6580 - mse: 1.6580\n",
      "Epoch 46/50\n",
      "300/300 [==============================] - 3s 11ms/step - loss: 2.6690 - mse: 2.6690\n",
      "Epoch 47/50\n",
      "300/300 [==============================] - 3s 11ms/step - loss: 2.0937 - mse: 2.0937\n",
      "Epoch 48/50\n",
      "300/300 [==============================] - 3s 11ms/step - loss: 2.0828 - mse: 2.0828\n",
      "Epoch 49/50\n",
      "300/300 [==============================] - 3s 11ms/step - loss: 1.4448 - mse: 1.4448\n",
      "Epoch 50/50\n",
      "300/300 [==============================] - 3s 11ms/step - loss: 0.8253 - mse: 0.8253\n",
      "Wall time: 2min 49s\n"
     ]
    }
   ],
   "source": [
    "%%time\n",
    "# Train the model\n",
    "nb_epochs = 50\n",
    "nb_batchs = 1000\n",
    "\n",
    "history = model.fit(X_train, Y_train, epochs=nb_epochs, verbose=1)"
   ]
  },
  {
   "cell_type": "code",
   "execution_count": 21,
   "metadata": {},
   "outputs": [
    {
     "name": "stdout",
     "output_type": "stream",
     "text": [
      "dict_keys(['loss', 'mse'])\n"
     ]
    },
    {
     "data": {
      "image/png": "[encoded data removed]",
      "text/plain": [
       "<Figure size 432x288 with 1 Axes>"
      ]
     },
     "metadata": {
      "needs_background": "light"
     },
     "output_type": "display_data"
    }
   ],
   "source": [
    "print(history.history.keys())\n",
    "# \"Loss\"\n",
    "plt.plot(history.history['loss'])\n",
    "# plt.plot(history.history['val_loss'])\n",
    "plt.title('model loss')\n",
    "plt.ylabel('loss')\n",
    "plt.xlabel('epoch')\n",
    "plt.legend(['train'], loc='upper left')\n",
    "plt.show()"
   ]
  },
  {
   "cell_type": "code",
   "execution_count": 30,
   "metadata": {},
   "outputs": [
    {
     "data": {
      "text/html": [
       "<div>\n",
       "<style scoped>\n",
       "    .dataframe tbody tr th:only-of-type {\n",
       "        vertical-align: middle;\n",
       "    }\n",
       "\n",
       "    .dataframe tbody tr th {\n",
       "        vertical-align: top;\n",
       "    }\n",
       "\n",
       "    .dataframe thead th {\n",
       "        text-align: right;\n",
       "    }\n",
       "</style>\n",
       "<table border=\"1\" class=\"dataframe\">\n",
       "  <thead>\n",
       "    <tr style=\"text-align: right;\">\n",
       "      <th></th>\n",
       "      <th>0</th>\n",
       "    </tr>\n",
       "  </thead>\n",
       "  <tbody>\n",
       "    <tr>\n",
       "      <th>0</th>\n",
       "      <td>-0.226264</td>\n",
       "    </tr>\n",
       "    <tr>\n",
       "      <th>1</th>\n",
       "      <td>-0.008546</td>\n",
       "    </tr>\n",
       "    <tr>\n",
       "      <th>2</th>\n",
       "      <td>-0.667060</td>\n",
       "    </tr>\n",
       "    <tr>\n",
       "      <th>3</th>\n",
       "      <td>-0.460076</td>\n",
       "    </tr>\n",
       "    <tr>\n",
       "      <th>4</th>\n",
       "      <td>-0.357089</td>\n",
       "    </tr>\n",
       "    <tr>\n",
       "      <th>...</th>\n",
       "      <td>...</td>\n",
       "    </tr>\n",
       "    <tr>\n",
       "      <th>295</th>\n",
       "      <td>-0.445419</td>\n",
       "    </tr>\n",
       "    <tr>\n",
       "      <th>296</th>\n",
       "      <td>-0.613450</td>\n",
       "    </tr>\n",
       "    <tr>\n",
       "      <th>297</th>\n",
       "      <td>-0.475568</td>\n",
       "    </tr>\n",
       "    <tr>\n",
       "      <th>298</th>\n",
       "      <td>-0.299968</td>\n",
       "    </tr>\n",
       "    <tr>\n",
       "      <th>299</th>\n",
       "      <td>-0.052923</td>\n",
       "    </tr>\n",
       "  </tbody>\n",
       "</table>\n",
       "<p>300 rows × 1 columns</p>\n",
       "</div>"
      ],
      "text/plain": [
       "            0\n",
       "0   -0.226264\n",
       "1   -0.008546\n",
       "2   -0.667060\n",
       "3   -0.460076\n",
       "4   -0.357089\n",
       "..        ...\n",
       "295 -0.445419\n",
       "296 -0.613450\n",
       "297 -0.475568\n",
       "298 -0.299968\n",
       "299 -0.052923\n",
       "\n",
       "[300 rows x 1 columns]"
      ]
     },
     "execution_count": 30,
     "metadata": {},
     "output_type": "execute_result"
    }
   ],
   "source": [
    "predictions = model.predict(X_train)\n",
    "df = pd.DataFrame(predictions)\n",
    "df"
   ]
  },
  {
   "cell_type": "code",
   "execution_count": null,
   "metadata": {},
   "outputs": [],
   "source": [
    "┬"
   ]
  },
  {
   "cell_type": "code",
   "execution_count": null,
   "metadata": {},
   "outputs": [],
   "source": []
  },
  {
   "cell_type": "code",
   "execution_count": null,
   "metadata": {},
   "outputs": [],
   "source": []
  },
  {
   "cell_type": "code",
   "execution_count": 101,
   "metadata": {},
   "outputs": [
    {
     "ename": "ValueError",
     "evalue": "You are passing a target array of shape (300, 1) while using as loss `categorical_crossentropy`. `categorical_crossentropy` expects targets to be binary matrices (1s and 0s) of shape (samples, classes). If your targets are integer classes, you can convert them to the expected format via:\n```\nfrom keras.utils import to_categorical\ny_binary = to_categorical(y_int)\n```\n\nAlternatively, you can use the loss function `sparse_categorical_crossentropy` instead, which does expect integer targets.",
     "output_type": "error",
     "traceback": [
      "\u001b[1;31m---------------------------------------------------------------------------\u001b[0m",
      "\u001b[1;31mValueError\u001b[0m                                Traceback (most recent call last)",
      "\u001b[1;32m<ipython-input-101-d6dc87576ada>\u001b[0m in \u001b[0;36m<module>\u001b[1;34m\u001b[0m\n\u001b[0;32m     10\u001b[0m \u001b[0mnb_batchs\u001b[0m \u001b[1;33m=\u001b[0m \u001b[1;36m1000\u001b[0m\u001b[1;33m\u001b[0m\u001b[1;33m\u001b[0m\u001b[0m\n\u001b[0;32m     11\u001b[0m \u001b[1;33m\u001b[0m\u001b[0m\n\u001b[1;32m---> 12\u001b[1;33m \u001b[0mhistory\u001b[0m \u001b[1;33m=\u001b[0m \u001b[0mmodel\u001b[0m\u001b[1;33m.\u001b[0m\u001b[0mfit\u001b[0m\u001b[1;33m(\u001b[0m\u001b[0mX_data\u001b[0m\u001b[1;33m,\u001b[0m \u001b[0mY_data\u001b[0m\u001b[1;33m,\u001b[0m \u001b[0mepochs\u001b[0m\u001b[1;33m=\u001b[0m\u001b[0mnb_epochs\u001b[0m\u001b[1;33m,\u001b[0m \u001b[0mverbose\u001b[0m\u001b[1;33m=\u001b[0m\u001b[1;36m1\u001b[0m\u001b[1;33m)\u001b[0m\u001b[1;33m\u001b[0m\u001b[1;33m\u001b[0m\u001b[0m\n\u001b[0m",
      "\u001b[1;32mc:\\users\\flucasamar\\appdata\\local\\programs\\python\\python37\\lib\\site-packages\\keras\\engine\\training.py\u001b[0m in \u001b[0;36mfit\u001b[1;34m(self, x, y, batch_size, epochs, verbose, callbacks, validation_split, validation_data, shuffle, class_weight, sample_weight, initial_epoch, steps_per_epoch, validation_steps, validation_freq, max_queue_size, workers, use_multiprocessing, **kwargs)\u001b[0m\n\u001b[0;32m   1152\u001b[0m             \u001b[0msample_weight\u001b[0m\u001b[1;33m=\u001b[0m\u001b[0msample_weight\u001b[0m\u001b[1;33m,\u001b[0m\u001b[1;33m\u001b[0m\u001b[1;33m\u001b[0m\u001b[0m\n\u001b[0;32m   1153\u001b[0m             \u001b[0mclass_weight\u001b[0m\u001b[1;33m=\u001b[0m\u001b[0mclass_weight\u001b[0m\u001b[1;33m,\u001b[0m\u001b[1;33m\u001b[0m\u001b[1;33m\u001b[0m\u001b[0m\n\u001b[1;32m-> 1154\u001b[1;33m             batch_size=batch_size)\n\u001b[0m\u001b[0;32m   1155\u001b[0m \u001b[1;33m\u001b[0m\u001b[0m\n\u001b[0;32m   1156\u001b[0m         \u001b[1;31m# Prepare validation data.\u001b[0m\u001b[1;33m\u001b[0m\u001b[1;33m\u001b[0m\u001b[1;33m\u001b[0m\u001b[0m\n",
      "\u001b[1;32mc:\\users\\flucasamar\\appdata\\local\\programs\\python\\python37\\lib\\site-packages\\keras\\engine\\training.py\u001b[0m in \u001b[0;36m_standardize_user_data\u001b[1;34m(self, x, y, sample_weight, class_weight, check_array_lengths, batch_size)\u001b[0m\n\u001b[0;32m    640\u001b[0m                 \u001b[1;31m# using improper loss fns.\u001b[0m\u001b[1;33m\u001b[0m\u001b[1;33m\u001b[0m\u001b[1;33m\u001b[0m\u001b[0m\n\u001b[0;32m    641\u001b[0m                 training_utils.check_loss_and_target_compatibility(\n\u001b[1;32m--> 642\u001b[1;33m                     y, self._feed_loss_fns, feed_output_shapes)\n\u001b[0m\u001b[0;32m    643\u001b[0m         \u001b[1;32melse\u001b[0m\u001b[1;33m:\u001b[0m\u001b[1;33m\u001b[0m\u001b[1;33m\u001b[0m\u001b[0m\n\u001b[0;32m    644\u001b[0m             \u001b[0my\u001b[0m \u001b[1;33m=\u001b[0m \u001b[1;33m[\u001b[0m\u001b[1;33m]\u001b[0m\u001b[1;33m\u001b[0m\u001b[1;33m\u001b[0m\u001b[0m\n",
      "\u001b[1;32mc:\\users\\flucasamar\\appdata\\local\\programs\\python\\python37\\lib\\site-packages\\keras\\engine\\training_utils.py\u001b[0m in \u001b[0;36mcheck_loss_and_target_compatibility\u001b[1;34m(targets, loss_fns, output_shapes)\u001b[0m\n\u001b[0;32m    282\u001b[0m                 raise ValueError(\n\u001b[0;32m    283\u001b[0m                     \u001b[1;34m'You are passing a target array of shape '\u001b[0m \u001b[1;33m+\u001b[0m \u001b[0mstr\u001b[0m\u001b[1;33m(\u001b[0m\u001b[0my\u001b[0m\u001b[1;33m.\u001b[0m\u001b[0mshape\u001b[0m\u001b[1;33m)\u001b[0m \u001b[1;33m+\u001b[0m\u001b[1;33m\u001b[0m\u001b[1;33m\u001b[0m\u001b[0m\n\u001b[1;32m--> 284\u001b[1;33m                     \u001b[1;34m' while using as loss `categorical_crossentropy`. '\u001b[0m\u001b[1;33m\u001b[0m\u001b[1;33m\u001b[0m\u001b[0m\n\u001b[0m\u001b[0;32m    285\u001b[0m                     \u001b[1;34m'`categorical_crossentropy` expects '\u001b[0m\u001b[1;33m\u001b[0m\u001b[1;33m\u001b[0m\u001b[0m\n\u001b[0;32m    286\u001b[0m                     \u001b[1;34m'targets to be binary matrices (1s and 0s) '\u001b[0m\u001b[1;33m\u001b[0m\u001b[1;33m\u001b[0m\u001b[0m\n",
      "\u001b[1;31mValueError\u001b[0m: You are passing a target array of shape (300, 1) while using as loss `categorical_crossentropy`. `categorical_crossentropy` expects targets to be binary matrices (1s and 0s) of shape (samples, classes). If your targets are integer classes, you can convert them to the expected format via:\n```\nfrom keras.utils import to_categorical\ny_binary = to_categorical(y_int)\n```\n\nAlternatively, you can use the loss function `sparse_categorical_crossentropy` instead, which does expect integer targets."
     ]
    }
   ],
   "source": [
    "# Compile the model\n",
    "loss_fct = 'categorical_crossentropy' # Used for classification problem\n",
    "opt_fct = 'adam' # Popular version of Gradient Descent\n",
    "metrics_fct = ['accuracy'] # Classification problem\n",
    "\n",
    "model.compile(loss=loss_fct, optimizer=opt_fct, metrics=metrics_fct)\n",
    "\n",
    "# Train the model\n",
    "nb_epochs = 50\n",
    "nb_batchs = 1000\n",
    "\n",
    "history = model.fit(X_data, Y_data, epochs=nb_epochs, verbose=1)"
   ]
  },
  {
   "cell_type": "code",
   "execution_count": null,
   "metadata": {},
   "outputs": [],
   "source": []
  },
  {
   "cell_type": "code",
   "execution_count": null,
   "metadata": {},
   "outputs": [],
   "source": []
  },
  {
   "cell_type": "code",
   "execution_count": null,
   "metadata": {},
   "outputs": [],
   "source": []
  },
  {
   "cell_type": "markdown",
   "metadata": {},
   "source": [
    "## Example"
   ]
  },
  {
   "cell_type": "code",
   "execution_count": 11,
   "metadata": {},
   "outputs": [],
   "source": [
    "import matplotlib.pyplot as plt\n",
    "import numpy as np\n",
    "import pandas as pd\n",
    "from sklearn.model_selection import train_test_split\n",
    "from sklearn.model_selection import cross_val_score\n",
    "from sklearn.model_selection import KFold\n",
    "from sklearn.pipeline import Pipeline\n",
    "from sklearn.preprocessing import MinMaxScaler\n",
    "from tensorflow.python.keras.models import Sequential\n",
    "from tensorflow.python.keras.layers import Dense\n",
    "from tensorflow.python.keras.wrappers.scikit_learn import KerasRegressor"
   ]
  },
  {
   "cell_type": "code",
   "execution_count": 32,
   "metadata": {},
   "outputs": [
    {
     "data": {
      "text/html": [
       "<div>\n",
       "<style scoped>\n",
       "    .dataframe tbody tr th:only-of-type {\n",
       "        vertical-align: middle;\n",
       "    }\n",
       "\n",
       "    .dataframe tbody tr th {\n",
       "        vertical-align: top;\n",
       "    }\n",
       "\n",
       "    .dataframe thead th {\n",
       "        text-align: right;\n",
       "    }\n",
       "</style>\n",
       "<table border=\"1\" class=\"dataframe\">\n",
       "  <thead>\n",
       "    <tr style=\"text-align: right;\">\n",
       "      <th></th>\n",
       "      <th>age</th>\n",
       "      <th>gender</th>\n",
       "      <th>miles</th>\n",
       "      <th>debt</th>\n",
       "      <th>income</th>\n",
       "      <th>sales</th>\n",
       "    </tr>\n",
       "  </thead>\n",
       "  <tbody>\n",
       "    <tr>\n",
       "      <th>0</th>\n",
       "      <td>28</td>\n",
       "      <td>0</td>\n",
       "      <td>23</td>\n",
       "      <td>0</td>\n",
       "      <td>4099</td>\n",
       "      <td>620</td>\n",
       "    </tr>\n",
       "    <tr>\n",
       "      <th>1</th>\n",
       "      <td>26</td>\n",
       "      <td>0</td>\n",
       "      <td>27</td>\n",
       "      <td>0</td>\n",
       "      <td>2677</td>\n",
       "      <td>1792</td>\n",
       "    </tr>\n",
       "    <tr>\n",
       "      <th>2</th>\n",
       "      <td>30</td>\n",
       "      <td>1</td>\n",
       "      <td>58</td>\n",
       "      <td>41576</td>\n",
       "      <td>6215</td>\n",
       "      <td>27754</td>\n",
       "    </tr>\n",
       "    <tr>\n",
       "      <th>3</th>\n",
       "      <td>26</td>\n",
       "      <td>1</td>\n",
       "      <td>25</td>\n",
       "      <td>43172</td>\n",
       "      <td>7626</td>\n",
       "      <td>28256</td>\n",
       "    </tr>\n",
       "    <tr>\n",
       "      <th>4</th>\n",
       "      <td>20</td>\n",
       "      <td>1</td>\n",
       "      <td>17</td>\n",
       "      <td>6979</td>\n",
       "      <td>8071</td>\n",
       "      <td>4438</td>\n",
       "    </tr>\n",
       "    <tr>\n",
       "      <th>...</th>\n",
       "      <td>...</td>\n",
       "      <td>...</td>\n",
       "      <td>...</td>\n",
       "      <td>...</td>\n",
       "      <td>...</td>\n",
       "      <td>...</td>\n",
       "    </tr>\n",
       "    <tr>\n",
       "      <th>958</th>\n",
       "      <td>22</td>\n",
       "      <td>0</td>\n",
       "      <td>11</td>\n",
       "      <td>8778</td>\n",
       "      <td>9829</td>\n",
       "      <td>1593</td>\n",
       "    </tr>\n",
       "    <tr>\n",
       "      <th>959</th>\n",
       "      <td>19</td>\n",
       "      <td>1</td>\n",
       "      <td>23</td>\n",
       "      <td>4850</td>\n",
       "      <td>3470</td>\n",
       "      <td>4742</td>\n",
       "    </tr>\n",
       "    <tr>\n",
       "      <th>960</th>\n",
       "      <td>28</td>\n",
       "      <td>1</td>\n",
       "      <td>28</td>\n",
       "      <td>9312</td>\n",
       "      <td>2720</td>\n",
       "      <td>12771</td>\n",
       "    </tr>\n",
       "    <tr>\n",
       "      <th>961</th>\n",
       "      <td>50</td>\n",
       "      <td>0</td>\n",
       "      <td>29</td>\n",
       "      <td>51343</td>\n",
       "      <td>8713</td>\n",
       "      <td>28511</td>\n",
       "    </tr>\n",
       "    <tr>\n",
       "      <th>962</th>\n",
       "      <td>47</td>\n",
       "      <td>1</td>\n",
       "      <td>15</td>\n",
       "      <td>3735</td>\n",
       "      <td>6406</td>\n",
       "      <td>6104</td>\n",
       "    </tr>\n",
       "  </tbody>\n",
       "</table>\n",
       "<p>963 rows × 6 columns</p>\n",
       "</div>"
      ],
      "text/plain": [
       "     age  gender  miles   debt  income  sales\n",
       "0     28       0     23      0    4099    620\n",
       "1     26       0     27      0    2677   1792\n",
       "2     30       1     58  41576    6215  27754\n",
       "3     26       1     25  43172    7626  28256\n",
       "4     20       1     17   6979    8071   4438\n",
       "..   ...     ...    ...    ...     ...    ...\n",
       "958   22       0     11   8778    9829   1593\n",
       "959   19       1     23   4850    3470   4742\n",
       "960   28       1     28   9312    2720  12771\n",
       "961   50       0     29  51343    8713  28511\n",
       "962   47       1     15   3735    6406   6104\n",
       "\n",
       "[963 rows x 6 columns]"
      ]
     },
     "execution_count": 32,
     "metadata": {},
     "output_type": "execute_result"
    }
   ],
   "source": [
    "#Variables\n",
    "# d = np.loadtxt(\"cars.csv\", delimiter=\",\")\n",
    "dataframe = pd.read_csv(\"cars.csv\", delimiter=\",\")\n",
    "dataframe"
   ]
  },
  {
   "cell_type": "code",
   "execution_count": 42,
   "metadata": {},
   "outputs": [
    {
     "name": "stdout",
     "output_type": "stream",
     "text": [
      "(963,)\n",
      "<class 'numpy.ndarray'>\n",
      "(963, 1)\n",
      "<class 'numpy.ndarray'>\n",
      "MinMaxScaler()\n",
      "MinMaxScaler()\n"
     ]
    }
   ],
   "source": [
    "dataset = dataframe.values\n",
    "x = dataset[:,0:5]\n",
    "y = dataset[:,5]\n",
    "print(y.shape)\n",
    "print(type(y))\n",
    "y = np.reshape(y, (-1,1))\n",
    "print(y.shape)\n",
    "print(type(y))\n",
    "scaler_x = MinMaxScaler()\n",
    "scaler_y = MinMaxScaler()\n",
    "print(scaler_x.fit(x))\n",
    "xscale=scaler_x.transform(x)\n",
    "print(scaler_y.fit(y))\n",
    "yscale=scaler_y.transform(y)"
   ]
  },
  {
   "cell_type": "code",
   "execution_count": 49,
   "metadata": {},
   "outputs": [],
   "source": [
    "X_train, X_test, y_train, y_test = train_test_split(xscale, yscale)"
   ]
  },
  {
   "cell_type": "code",
   "execution_count": 50,
   "metadata": {},
   "outputs": [
    {
     "data": {
      "text/plain": [
       "(722, 5)"
      ]
     },
     "execution_count": 50,
     "metadata": {},
     "output_type": "execute_result"
    }
   ],
   "source": [
    "X_train.shape"
   ]
  },
  {
   "cell_type": "code",
   "execution_count": 51,
   "metadata": {},
   "outputs": [
    {
     "name": "stdout",
     "output_type": "stream",
     "text": [
      "WARNING:tensorflow:From c:\\users\\flucasamar\\appdata\\local\\programs\\python\\python37\\lib\\site-packages\\tensorflow_core\\python\\keras\\initializers.py:143: calling RandomNormal.__init__ (from tensorflow.python.ops.init_ops) with dtype is deprecated and will be removed in a future version.\n",
      "Instructions for updating:\n",
      "Call initializer instance with the dtype argument instead of passing it to the constructor\n",
      "WARNING:tensorflow:From c:\\users\\flucasamar\\appdata\\local\\programs\\python\\python37\\lib\\site-packages\\tensorflow_core\\python\\ops\\resource_variable_ops.py:1630: calling BaseResourceVariable.__init__ (from tensorflow.python.ops.resource_variable_ops) with constraint is deprecated and will be removed in a future version.\n",
      "Instructions for updating:\n",
      "If using Keras pass *_constraint arguments to layers.\n",
      "Model: \"sequential\"\n",
      "_________________________________________________________________\n",
      "Layer (type)                 Output Shape              Param #   \n",
      "=================================================================\n",
      "dense (Dense)                (None, 12)                72        \n",
      "_________________________________________________________________\n",
      "dense_1 (Dense)              (None, 8)                 104       \n",
      "_________________________________________________________________\n",
      "dense_2 (Dense)              (None, 1)                 9         \n",
      "=================================================================\n",
      "Total params: 185\n",
      "Trainable params: 185\n",
      "Non-trainable params: 0\n",
      "_________________________________________________________________\n"
     ]
    }
   ],
   "source": [
    "model = Sequential()\n",
    "model.add(Dense(12, input_dim=5, kernel_initializer='normal', activation='relu'))\n",
    "model.add(Dense(8, activation='relu'))\n",
    "model.add(Dense(1, activation='linear'))\n",
    "model.summary()"
   ]
  },
  {
   "cell_type": "code",
   "execution_count": 52,
   "metadata": {},
   "outputs": [],
   "source": [
    "model.compile(loss='mse', optimizer='adam', metrics=['mse','mae'])"
   ]
  },
  {
   "cell_type": "code",
   "execution_count": 53,
   "metadata": {},
   "outputs": [
    {
     "name": "stdout",
     "output_type": "stream",
     "text": [
      "Train on 577 samples, validate on 145 samples\n",
      "Epoch 1/150\n",
      "577/577 [==============================] - 0s 260us/sample - loss: 0.2518 - mean_squared_error: 0.2518 - mean_absolute_error: 0.3954 - val_loss: 0.2213 - val_mean_squared_error: 0.2213 - val_mean_absolute_error: 0.3762\n",
      "Epoch 2/150\n",
      "577/577 [==============================] - 0s 38us/sample - loss: 0.1607 - mean_squared_error: 0.1607 - mean_absolute_error: 0.2929 - val_loss: 0.1343 - val_mean_squared_error: 0.1343 - val_mean_absolute_error: 0.2788\n",
      "Epoch 3/150\n",
      "577/577 [==============================] - 0s 36us/sample - loss: 0.0934 - mean_squared_error: 0.0934 - mean_absolute_error: 0.2359 - val_loss: 0.0791 - val_mean_squared_error: 0.0791 - val_mean_absolute_error: 0.2357\n",
      "Epoch 4/150\n",
      "577/577 [==============================] - 0s 36us/sample - loss: 0.0645 - mean_squared_error: 0.0645 - mean_absolute_error: 0.2179 - val_loss: 0.0619 - val_mean_squared_error: 0.0619 - val_mean_absolute_error: 0.2212\n",
      "Epoch 5/150\n",
      "577/577 [==============================] - 0s 35us/sample - loss: 0.0581 - mean_squared_error: 0.0581 - mean_absolute_error: 0.2120 - val_loss: 0.0555 - val_mean_squared_error: 0.0555 - val_mean_absolute_error: 0.2097\n",
      "Epoch 6/150\n",
      "577/577 [==============================] - 0s 36us/sample - loss: 0.0519 - mean_squared_error: 0.0519 - mean_absolute_error: 0.2004 - val_loss: 0.0497 - val_mean_squared_error: 0.0497 - val_mean_absolute_error: 0.1979\n",
      "Epoch 7/150\n",
      "577/577 [==============================] - 0s 36us/sample - loss: 0.0441 - mean_squared_error: 0.0441 - mean_absolute_error: 0.1834 - val_loss: 0.0435 - val_mean_squared_error: 0.0435 - val_mean_absolute_error: 0.1819\n",
      "Epoch 8/150\n",
      "577/577 [==============================] - 0s 31us/sample - loss: 0.0366 - mean_squared_error: 0.0366 - mean_absolute_error: 0.1652 - val_loss: 0.0369 - val_mean_squared_error: 0.0369 - val_mean_absolute_error: 0.1642\n",
      "Epoch 9/150\n",
      "577/577 [==============================] - 0s 29us/sample - loss: 0.0299 - mean_squared_error: 0.0299 - mean_absolute_error: 0.1486 - val_loss: 0.0303 - val_mean_squared_error: 0.0303 - val_mean_absolute_error: 0.1464\n",
      "Epoch 10/150\n",
      "577/577 [==============================] - 0s 29us/sample - loss: 0.0244 - mean_squared_error: 0.0244 - mean_absolute_error: 0.1325 - val_loss: 0.0268 - val_mean_squared_error: 0.0268 - val_mean_absolute_error: 0.1334\n",
      "Epoch 11/150\n",
      "577/577 [==============================] - 0s 33us/sample - loss: 0.0204 - mean_squared_error: 0.0204 - mean_absolute_error: 0.1183 - val_loss: 0.0236 - val_mean_squared_error: 0.0236 - val_mean_absolute_error: 0.1228\n",
      "Epoch 12/150\n",
      "577/577 [==============================] - 0s 31us/sample - loss: 0.0178 - mean_squared_error: 0.0178 - mean_absolute_error: 0.1086 - val_loss: 0.0219 - val_mean_squared_error: 0.0219 - val_mean_absolute_error: 0.1152\n",
      "Epoch 13/150\n",
      "577/577 [==============================] - 0s 29us/sample - loss: 0.0160 - mean_squared_error: 0.0160 - mean_absolute_error: 0.1005 - val_loss: 0.0210 - val_mean_squared_error: 0.0210 - val_mean_absolute_error: 0.1114\n",
      "Epoch 14/150\n",
      "577/577 [==============================] - 0s 26us/sample - loss: 0.0149 - mean_squared_error: 0.0149 - mean_absolute_error: 0.0953 - val_loss: 0.0208 - val_mean_squared_error: 0.0208 - val_mean_absolute_error: 0.1088\n",
      "Epoch 15/150\n",
      "577/577 [==============================] - 0s 26us/sample - loss: 0.0142 - mean_squared_error: 0.0142 - mean_absolute_error: 0.0924 - val_loss: 0.0204 - val_mean_squared_error: 0.0204 - val_mean_absolute_error: 0.1077\n",
      "Epoch 16/150\n",
      "577/577 [==============================] - 0s 28us/sample - loss: 0.0139 - mean_squared_error: 0.0139 - mean_absolute_error: 0.0913 - val_loss: 0.0205 - val_mean_squared_error: 0.0205 - val_mean_absolute_error: 0.1068\n",
      "Epoch 17/150\n",
      "577/577 [==============================] - 0s 28us/sample - loss: 0.0136 - mean_squared_error: 0.0136 - mean_absolute_error: 0.0898 - val_loss: 0.0206 - val_mean_squared_error: 0.0206 - val_mean_absolute_error: 0.1058\n",
      "Epoch 18/150\n",
      "577/577 [==============================] - 0s 26us/sample - loss: 0.0135 - mean_squared_error: 0.0135 - mean_absolute_error: 0.0889 - val_loss: 0.0206 - val_mean_squared_error: 0.0206 - val_mean_absolute_error: 0.1055\n",
      "Epoch 19/150\n",
      "577/577 [==============================] - 0s 28us/sample - loss: 0.0134 - mean_squared_error: 0.0134 - mean_absolute_error: 0.0886 - val_loss: 0.0204 - val_mean_squared_error: 0.0204 - val_mean_absolute_error: 0.1053\n",
      "Epoch 20/150\n",
      "577/577 [==============================] - 0s 26us/sample - loss: 0.0132 - mean_squared_error: 0.0132 - mean_absolute_error: 0.0875 - val_loss: 0.0205 - val_mean_squared_error: 0.0205 - val_mean_absolute_error: 0.1047\n",
      "Epoch 21/150\n",
      "577/577 [==============================] - 0s 28us/sample - loss: 0.0132 - mean_squared_error: 0.0132 - mean_absolute_error: 0.0878 - val_loss: 0.0203 - val_mean_squared_error: 0.0203 - val_mean_absolute_error: 0.1044\n",
      "Epoch 22/150\n",
      "577/577 [==============================] - 0s 26us/sample - loss: 0.0130 - mean_squared_error: 0.0130 - mean_absolute_error: 0.0868 - val_loss: 0.0204 - val_mean_squared_error: 0.0204 - val_mean_absolute_error: 0.1042\n",
      "Epoch 23/150\n",
      "577/577 [==============================] - 0s 26us/sample - loss: 0.0130 - mean_squared_error: 0.0130 - mean_absolute_error: 0.0862 - val_loss: 0.0203 - val_mean_squared_error: 0.0203 - val_mean_absolute_error: 0.1039\n",
      "Epoch 24/150\n",
      "577/577 [==============================] - 0s 26us/sample - loss: 0.0130 - mean_squared_error: 0.0130 - mean_absolute_error: 0.0857 - val_loss: 0.0200 - val_mean_squared_error: 0.0200 - val_mean_absolute_error: 0.1039\n",
      "Epoch 25/150\n",
      "577/577 [==============================] - 0s 26us/sample - loss: 0.0129 - mean_squared_error: 0.0129 - mean_absolute_error: 0.0865 - val_loss: 0.0199 - val_mean_squared_error: 0.0199 - val_mean_absolute_error: 0.1035\n",
      "Epoch 26/150\n",
      "577/577 [==============================] - 0s 24us/sample - loss: 0.0127 - mean_squared_error: 0.0127 - mean_absolute_error: 0.0847 - val_loss: 0.0201 - val_mean_squared_error: 0.0201 - val_mean_absolute_error: 0.1026\n",
      "Epoch 27/150\n",
      "577/577 [==============================] - 0s 26us/sample - loss: 0.0128 - mean_squared_error: 0.0128 - mean_absolute_error: 0.0848 - val_loss: 0.0197 - val_mean_squared_error: 0.0197 - val_mean_absolute_error: 0.1024\n",
      "Epoch 28/150\n",
      "577/577 [==============================] - 0s 28us/sample - loss: 0.0127 - mean_squared_error: 0.0127 - mean_absolute_error: 0.0844 - val_loss: 0.0197 - val_mean_squared_error: 0.0197 - val_mean_absolute_error: 0.1021\n",
      "Epoch 29/150\n",
      "577/577 [==============================] - 0s 28us/sample - loss: 0.0126 - mean_squared_error: 0.0126 - mean_absolute_error: 0.0837 - val_loss: 0.0197 - val_mean_squared_error: 0.0197 - val_mean_absolute_error: 0.1016\n",
      "Epoch 30/150\n",
      "577/577 [==============================] - 0s 26us/sample - loss: 0.0127 - mean_squared_error: 0.0127 - mean_absolute_error: 0.0852 - val_loss: 0.0196 - val_mean_squared_error: 0.0196 - val_mean_absolute_error: 0.1014\n",
      "Epoch 31/150\n",
      "577/577 [==============================] - 0s 26us/sample - loss: 0.0124 - mean_squared_error: 0.0124 - mean_absolute_error: 0.0836 - val_loss: 0.0196 - val_mean_squared_error: 0.0196 - val_mean_absolute_error: 0.1010\n",
      "Epoch 32/150\n",
      "577/577 [==============================] - 0s 28us/sample - loss: 0.0124 - mean_squared_error: 0.0124 - mean_absolute_error: 0.0832 - val_loss: 0.0195 - val_mean_squared_error: 0.0195 - val_mean_absolute_error: 0.1012\n",
      "Epoch 33/150\n",
      "577/577 [==============================] - 0s 24us/sample - loss: 0.0125 - mean_squared_error: 0.0125 - mean_absolute_error: 0.0845 - val_loss: 0.0195 - val_mean_squared_error: 0.0195 - val_mean_absolute_error: 0.1005\n",
      "Epoch 34/150\n",
      "577/577 [==============================] - 0s 26us/sample - loss: 0.0123 - mean_squared_error: 0.0123 - mean_absolute_error: 0.0826 - val_loss: 0.0193 - val_mean_squared_error: 0.0193 - val_mean_absolute_error: 0.1003\n",
      "Epoch 35/150\n",
      "577/577 [==============================] - 0s 26us/sample - loss: 0.0124 - mean_squared_error: 0.0124 - mean_absolute_error: 0.0841 - val_loss: 0.0193 - val_mean_squared_error: 0.0193 - val_mean_absolute_error: 0.1000\n",
      "Epoch 36/150\n",
      "577/577 [==============================] - 0s 24us/sample - loss: 0.0125 - mean_squared_error: 0.0125 - mean_absolute_error: 0.0824 - val_loss: 0.0192 - val_mean_squared_error: 0.0192 - val_mean_absolute_error: 0.0997\n",
      "Epoch 37/150\n",
      "577/577 [==============================] - 0s 28us/sample - loss: 0.0123 - mean_squared_error: 0.0123 - mean_absolute_error: 0.0840 - val_loss: 0.0190 - val_mean_squared_error: 0.0190 - val_mean_absolute_error: 0.0998\n",
      "Epoch 38/150\n",
      "577/577 [==============================] - 0s 28us/sample - loss: 0.0122 - mean_squared_error: 0.0122 - mean_absolute_error: 0.0818 - val_loss: 0.0192 - val_mean_squared_error: 0.0192 - val_mean_absolute_error: 0.0991\n",
      "Epoch 39/150\n",
      "577/577 [==============================] - 0s 26us/sample - loss: 0.0121 - mean_squared_error: 0.0121 - mean_absolute_error: 0.0822 - val_loss: 0.0190 - val_mean_squared_error: 0.0190 - val_mean_absolute_error: 0.0994\n",
      "Epoch 40/150\n",
      "577/577 [==============================] - 0s 26us/sample - loss: 0.0120 - mean_squared_error: 0.0120 - mean_absolute_error: 0.0818 - val_loss: 0.0192 - val_mean_squared_error: 0.0192 - val_mean_absolute_error: 0.0988\n",
      "Epoch 41/150\n",
      "577/577 [==============================] - 0s 26us/sample - loss: 0.0120 - mean_squared_error: 0.0120 - mean_absolute_error: 0.0816 - val_loss: 0.0189 - val_mean_squared_error: 0.0189 - val_mean_absolute_error: 0.0984\n",
      "Epoch 42/150\n",
      "577/577 [==============================] - 0s 26us/sample - loss: 0.0120 - mean_squared_error: 0.0120 - mean_absolute_error: 0.0821 - val_loss: 0.0188 - val_mean_squared_error: 0.0188 - val_mean_absolute_error: 0.0985\n",
      "Epoch 43/150\n",
      "577/577 [==============================] - 0s 28us/sample - loss: 0.0119 - mean_squared_error: 0.0119 - mean_absolute_error: 0.0813 - val_loss: 0.0189 - val_mean_squared_error: 0.0189 - val_mean_absolute_error: 0.0978\n",
      "Epoch 44/150\n",
      "577/577 [==============================] - 0s 28us/sample - loss: 0.0119 - mean_squared_error: 0.0119 - mean_absolute_error: 0.0816 - val_loss: 0.0188 - val_mean_squared_error: 0.0188 - val_mean_absolute_error: 0.0982\n",
      "Epoch 45/150\n",
      "577/577 [==============================] - 0s 26us/sample - loss: 0.0119 - mean_squared_error: 0.0119 - mean_absolute_error: 0.0811 - val_loss: 0.0188 - val_mean_squared_error: 0.0188 - val_mean_absolute_error: 0.0975\n",
      "Epoch 46/150\n",
      "577/577 [==============================] - 0s 26us/sample - loss: 0.0118 - mean_squared_error: 0.0118 - mean_absolute_error: 0.0814 - val_loss: 0.0187 - val_mean_squared_error: 0.0187 - val_mean_absolute_error: 0.0975\n",
      "Epoch 47/150\n",
      "577/577 [==============================] - 0s 24us/sample - loss: 0.0117 - mean_squared_error: 0.0117 - mean_absolute_error: 0.0806 - val_loss: 0.0187 - val_mean_squared_error: 0.0187 - val_mean_absolute_error: 0.0972\n",
      "Epoch 48/150\n",
      "577/577 [==============================] - 0s 24us/sample - loss: 0.0117 - mean_squared_error: 0.0117 - mean_absolute_error: 0.0806 - val_loss: 0.0186 - val_mean_squared_error: 0.0186 - val_mean_absolute_error: 0.0975\n",
      "Epoch 49/150\n",
      "577/577 [==============================] - 0s 24us/sample - loss: 0.0117 - mean_squared_error: 0.0117 - mean_absolute_error: 0.0806 - val_loss: 0.0188 - val_mean_squared_error: 0.0188 - val_mean_absolute_error: 0.0968\n",
      "Epoch 50/150\n",
      "577/577 [==============================] - 0s 24us/sample - loss: 0.0117 - mean_squared_error: 0.0117 - mean_absolute_error: 0.0809 - val_loss: 0.0186 - val_mean_squared_error: 0.0186 - val_mean_absolute_error: 0.0970\n",
      "Epoch 51/150\n",
      "577/577 [==============================] - 0s 24us/sample - loss: 0.0116 - mean_squared_error: 0.0116 - mean_absolute_error: 0.0803 - val_loss: 0.0186 - val_mean_squared_error: 0.0186 - val_mean_absolute_error: 0.0967\n",
      "Epoch 52/150\n",
      "577/577 [==============================] - 0s 26us/sample - loss: 0.0116 - mean_squared_error: 0.0116 - mean_absolute_error: 0.0805 - val_loss: 0.0186 - val_mean_squared_error: 0.0186 - val_mean_absolute_error: 0.0969\n",
      "Epoch 53/150\n",
      "577/577 [==============================] - 0s 23us/sample - loss: 0.0117 - mean_squared_error: 0.0117 - mean_absolute_error: 0.0802 - val_loss: 0.0184 - val_mean_squared_error: 0.0184 - val_mean_absolute_error: 0.0972\n",
      "Epoch 54/150\n",
      "577/577 [==============================] - 0s 24us/sample - loss: 0.0116 - mean_squared_error: 0.0116 - mean_absolute_error: 0.0808 - val_loss: 0.0185 - val_mean_squared_error: 0.0185 - val_mean_absolute_error: 0.0962\n",
      "Epoch 55/150\n",
      "577/577 [==============================] - 0s 23us/sample - loss: 0.0115 - mean_squared_error: 0.0115 - mean_absolute_error: 0.0798 - val_loss: 0.0184 - val_mean_squared_error: 0.0184 - val_mean_absolute_error: 0.0964\n",
      "Epoch 56/150\n",
      "577/577 [==============================] - 0s 23us/sample - loss: 0.0115 - mean_squared_error: 0.0115 - mean_absolute_error: 0.0801 - val_loss: 0.0183 - val_mean_squared_error: 0.0183 - val_mean_absolute_error: 0.0967\n",
      "Epoch 57/150\n",
      "577/577 [==============================] - 0s 24us/sample - loss: 0.0117 - mean_squared_error: 0.0117 - mean_absolute_error: 0.0803 - val_loss: 0.0184 - val_mean_squared_error: 0.0184 - val_mean_absolute_error: 0.0969\n",
      "Epoch 58/150\n",
      "577/577 [==============================] - 0s 24us/sample - loss: 0.0117 - mean_squared_error: 0.0117 - mean_absolute_error: 0.0814 - val_loss: 0.0185 - val_mean_squared_error: 0.0185 - val_mean_absolute_error: 0.0953\n",
      "Epoch 59/150\n",
      "577/577 [==============================] - 0s 24us/sample - loss: 0.0116 - mean_squared_error: 0.0116 - mean_absolute_error: 0.0797 - val_loss: 0.0182 - val_mean_squared_error: 0.0182 - val_mean_absolute_error: 0.0964\n",
      "Epoch 60/150\n",
      "577/577 [==============================] - 0s 26us/sample - loss: 0.0118 - mean_squared_error: 0.0118 - mean_absolute_error: 0.0820 - val_loss: 0.0186 - val_mean_squared_error: 0.0186 - val_mean_absolute_error: 0.0951\n",
      "Epoch 61/150\n",
      "577/577 [==============================] - 0s 24us/sample - loss: 0.0116 - mean_squared_error: 0.0116 - mean_absolute_error: 0.0800 - val_loss: 0.0182 - val_mean_squared_error: 0.0182 - val_mean_absolute_error: 0.0972\n",
      "Epoch 62/150\n",
      "577/577 [==============================] - 0s 24us/sample - loss: 0.0115 - mean_squared_error: 0.0115 - mean_absolute_error: 0.0809 - val_loss: 0.0184 - val_mean_squared_error: 0.0184 - val_mean_absolute_error: 0.0953\n",
      "Epoch 63/150\n",
      "577/577 [==============================] - 0s 24us/sample - loss: 0.0114 - mean_squared_error: 0.0114 - mean_absolute_error: 0.0793 - val_loss: 0.0182 - val_mean_squared_error: 0.0182 - val_mean_absolute_error: 0.0958\n",
      "Epoch 64/150\n",
      "577/577 [==============================] - 0s 24us/sample - loss: 0.0113 - mean_squared_error: 0.0113 - mean_absolute_error: 0.0797 - val_loss: 0.0181 - val_mean_squared_error: 0.0181 - val_mean_absolute_error: 0.0953\n",
      "Epoch 65/150\n",
      "577/577 [==============================] - 0s 26us/sample - loss: 0.0113 - mean_squared_error: 0.0113 - mean_absolute_error: 0.0791 - val_loss: 0.0180 - val_mean_squared_error: 0.0180 - val_mean_absolute_error: 0.0954\n",
      "Epoch 66/150\n",
      "577/577 [==============================] - 0s 24us/sample - loss: 0.0113 - mean_squared_error: 0.0113 - mean_absolute_error: 0.0792 - val_loss: 0.0181 - val_mean_squared_error: 0.0181 - val_mean_absolute_error: 0.0950\n",
      "Epoch 67/150\n",
      "577/577 [==============================] - 0s 24us/sample - loss: 0.0114 - mean_squared_error: 0.0114 - mean_absolute_error: 0.0798 - val_loss: 0.0182 - val_mean_squared_error: 0.0182 - val_mean_absolute_error: 0.0950\n",
      "Epoch 68/150\n",
      "577/577 [==============================] - 0s 24us/sample - loss: 0.0113 - mean_squared_error: 0.0113 - mean_absolute_error: 0.0793 - val_loss: 0.0183 - val_mean_squared_error: 0.0183 - val_mean_absolute_error: 0.0948\n",
      "Epoch 69/150\n",
      "577/577 [==============================] - 0s 23us/sample - loss: 0.0113 - mean_squared_error: 0.0113 - mean_absolute_error: 0.0788 - val_loss: 0.0180 - val_mean_squared_error: 0.0180 - val_mean_absolute_error: 0.0954\n",
      "Epoch 70/150\n",
      "577/577 [==============================] - 0s 23us/sample - loss: 0.0112 - mean_squared_error: 0.0112 - mean_absolute_error: 0.0793 - val_loss: 0.0182 - val_mean_squared_error: 0.0182 - val_mean_absolute_error: 0.0944\n",
      "Epoch 71/150\n"
     ]
    },
    {
     "name": "stdout",
     "output_type": "stream",
     "text": [
      "577/577 [==============================] - 0s 26us/sample - loss: 0.0112 - mean_squared_error: 0.0112 - mean_absolute_error: 0.0789 - val_loss: 0.0180 - val_mean_squared_error: 0.0180 - val_mean_absolute_error: 0.0953\n",
      "Epoch 72/150\n",
      "577/577 [==============================] - 0s 24us/sample - loss: 0.0112 - mean_squared_error: 0.0112 - mean_absolute_error: 0.0792 - val_loss: 0.0180 - val_mean_squared_error: 0.0180 - val_mean_absolute_error: 0.0945\n",
      "Epoch 73/150\n",
      "577/577 [==============================] - 0s 24us/sample - loss: 0.0112 - mean_squared_error: 0.0112 - mean_absolute_error: 0.0788 - val_loss: 0.0180 - val_mean_squared_error: 0.0180 - val_mean_absolute_error: 0.0957\n",
      "Epoch 74/150\n",
      "577/577 [==============================] - 0s 24us/sample - loss: 0.0112 - mean_squared_error: 0.0112 - mean_absolute_error: 0.0792 - val_loss: 0.0180 - val_mean_squared_error: 0.0180 - val_mean_absolute_error: 0.0943\n",
      "Epoch 75/150\n",
      "577/577 [==============================] - 0s 24us/sample - loss: 0.0112 - mean_squared_error: 0.0112 - mean_absolute_error: 0.0788 - val_loss: 0.0179 - val_mean_squared_error: 0.0179 - val_mean_absolute_error: 0.0940\n",
      "Epoch 76/150\n",
      "577/577 [==============================] - 0s 24us/sample - loss: 0.0112 - mean_squared_error: 0.0112 - mean_absolute_error: 0.0791 - val_loss: 0.0179 - val_mean_squared_error: 0.0179 - val_mean_absolute_error: 0.0940\n",
      "Epoch 77/150\n",
      "577/577 [==============================] - 0s 23us/sample - loss: 0.0111 - mean_squared_error: 0.0111 - mean_absolute_error: 0.0783 - val_loss: 0.0180 - val_mean_squared_error: 0.0180 - val_mean_absolute_error: 0.0940\n",
      "Epoch 78/150\n",
      "577/577 [==============================] - 0s 24us/sample - loss: 0.0112 - mean_squared_error: 0.0112 - mean_absolute_error: 0.0793 - val_loss: 0.0179 - val_mean_squared_error: 0.0179 - val_mean_absolute_error: 0.0938\n",
      "Epoch 79/150\n",
      "577/577 [==============================] - 0s 24us/sample - loss: 0.0114 - mean_squared_error: 0.0114 - mean_absolute_error: 0.0788 - val_loss: 0.0179 - val_mean_squared_error: 0.0179 - val_mean_absolute_error: 0.0960\n",
      "Epoch 80/150\n",
      "577/577 [==============================] - 0s 24us/sample - loss: 0.0112 - mean_squared_error: 0.0112 - mean_absolute_error: 0.0799 - val_loss: 0.0182 - val_mean_squared_error: 0.0182 - val_mean_absolute_error: 0.0934\n",
      "Epoch 81/150\n",
      "577/577 [==============================] - 0s 23us/sample - loss: 0.0113 - mean_squared_error: 0.0113 - mean_absolute_error: 0.0794 - val_loss: 0.0179 - val_mean_squared_error: 0.0179 - val_mean_absolute_error: 0.0962\n",
      "Epoch 82/150\n",
      "577/577 [==============================] - 0s 24us/sample - loss: 0.0112 - mean_squared_error: 0.0112 - mean_absolute_error: 0.0791 - val_loss: 0.0178 - val_mean_squared_error: 0.0178 - val_mean_absolute_error: 0.0937\n",
      "Epoch 83/150\n",
      "577/577 [==============================] - 0s 23us/sample - loss: 0.0110 - mean_squared_error: 0.0110 - mean_absolute_error: 0.0786 - val_loss: 0.0177 - val_mean_squared_error: 0.0177 - val_mean_absolute_error: 0.0937\n",
      "Epoch 84/150\n",
      "577/577 [==============================] - 0s 23us/sample - loss: 0.0110 - mean_squared_error: 0.0110 - mean_absolute_error: 0.0778 - val_loss: 0.0177 - val_mean_squared_error: 0.0177 - val_mean_absolute_error: 0.0933\n",
      "Epoch 85/150\n",
      "577/577 [==============================] - 0s 24us/sample - loss: 0.0109 - mean_squared_error: 0.0109 - mean_absolute_error: 0.0778 - val_loss: 0.0177 - val_mean_squared_error: 0.0177 - val_mean_absolute_error: 0.0934\n",
      "Epoch 86/150\n",
      "577/577 [==============================] - 0s 24us/sample - loss: 0.0110 - mean_squared_error: 0.0110 - mean_absolute_error: 0.0778 - val_loss: 0.0177 - val_mean_squared_error: 0.0177 - val_mean_absolute_error: 0.0937\n",
      "Epoch 87/150\n",
      "577/577 [==============================] - 0s 24us/sample - loss: 0.0110 - mean_squared_error: 0.0110 - mean_absolute_error: 0.0784 - val_loss: 0.0177 - val_mean_squared_error: 0.0177 - val_mean_absolute_error: 0.0932\n",
      "Epoch 88/150\n",
      "577/577 [==============================] - 0s 24us/sample - loss: 0.0109 - mean_squared_error: 0.0109 - mean_absolute_error: 0.0777 - val_loss: 0.0176 - val_mean_squared_error: 0.0176 - val_mean_absolute_error: 0.0937\n",
      "Epoch 89/150\n",
      "577/577 [==============================] - 0s 22us/sample - loss: 0.0110 - mean_squared_error: 0.0110 - mean_absolute_error: 0.0786 - val_loss: 0.0180 - val_mean_squared_error: 0.0180 - val_mean_absolute_error: 0.0921\n",
      "Epoch 90/150\n",
      "577/577 [==============================] - 0s 24us/sample - loss: 0.0112 - mean_squared_error: 0.0112 - mean_absolute_error: 0.0781 - val_loss: 0.0177 - val_mean_squared_error: 0.0177 - val_mean_absolute_error: 0.0935\n",
      "Epoch 91/150\n",
      "577/577 [==============================] - 0s 24us/sample - loss: 0.0111 - mean_squared_error: 0.0111 - mean_absolute_error: 0.0778 - val_loss: 0.0176 - val_mean_squared_error: 0.0176 - val_mean_absolute_error: 0.0937\n",
      "Epoch 92/150\n",
      "577/577 [==============================] - 0s 24us/sample - loss: 0.0109 - mean_squared_error: 0.0109 - mean_absolute_error: 0.0778 - val_loss: 0.0177 - val_mean_squared_error: 0.0177 - val_mean_absolute_error: 0.0926\n",
      "Epoch 93/150\n",
      "577/577 [==============================] - 0s 24us/sample - loss: 0.0109 - mean_squared_error: 0.0109 - mean_absolute_error: 0.0774 - val_loss: 0.0175 - val_mean_squared_error: 0.0175 - val_mean_absolute_error: 0.0931\n",
      "Epoch 94/150\n",
      "577/577 [==============================] - 0s 23us/sample - loss: 0.0110 - mean_squared_error: 0.0110 - mean_absolute_error: 0.0788 - val_loss: 0.0178 - val_mean_squared_error: 0.0178 - val_mean_absolute_error: 0.0919\n",
      "Epoch 95/150\n",
      "577/577 [==============================] - 0s 24us/sample - loss: 0.0111 - mean_squared_error: 0.0111 - mean_absolute_error: 0.0776 - val_loss: 0.0175 - val_mean_squared_error: 0.0175 - val_mean_absolute_error: 0.0947\n",
      "Epoch 96/150\n",
      "577/577 [==============================] - 0s 23us/sample - loss: 0.0109 - mean_squared_error: 0.0109 - mean_absolute_error: 0.0784 - val_loss: 0.0179 - val_mean_squared_error: 0.0179 - val_mean_absolute_error: 0.0917\n",
      "Epoch 97/150\n",
      "577/577 [==============================] - 0s 24us/sample - loss: 0.0110 - mean_squared_error: 0.0110 - mean_absolute_error: 0.0773 - val_loss: 0.0176 - val_mean_squared_error: 0.0176 - val_mean_absolute_error: 0.0921\n",
      "Epoch 98/150\n",
      "577/577 [==============================] - 0s 24us/sample - loss: 0.0108 - mean_squared_error: 0.0108 - mean_absolute_error: 0.0770 - val_loss: 0.0175 - val_mean_squared_error: 0.0175 - val_mean_absolute_error: 0.0921\n",
      "Epoch 99/150\n",
      "577/577 [==============================] - 0s 23us/sample - loss: 0.0109 - mean_squared_error: 0.0109 - mean_absolute_error: 0.0778 - val_loss: 0.0173 - val_mean_squared_error: 0.0173 - val_mean_absolute_error: 0.0930\n",
      "Epoch 100/150\n",
      "577/577 [==============================] - 0s 24us/sample - loss: 0.0107 - mean_squared_error: 0.0107 - mean_absolute_error: 0.0771 - val_loss: 0.0174 - val_mean_squared_error: 0.0174 - val_mean_absolute_error: 0.0923\n",
      "Epoch 101/150\n",
      "577/577 [==============================] - 0s 24us/sample - loss: 0.0108 - mean_squared_error: 0.0108 - mean_absolute_error: 0.0772 - val_loss: 0.0175 - val_mean_squared_error: 0.0175 - val_mean_absolute_error: 0.0925\n",
      "Epoch 102/150\n",
      "577/577 [==============================] - 0s 23us/sample - loss: 0.0109 - mean_squared_error: 0.0109 - mean_absolute_error: 0.0782 - val_loss: 0.0176 - val_mean_squared_error: 0.0176 - val_mean_absolute_error: 0.0911\n",
      "Epoch 103/150\n",
      "577/577 [==============================] - 0s 24us/sample - loss: 0.0107 - mean_squared_error: 0.0107 - mean_absolute_error: 0.0768 - val_loss: 0.0173 - val_mean_squared_error: 0.0173 - val_mean_absolute_error: 0.0931\n",
      "Epoch 104/150\n",
      "577/577 [==============================] - 0s 24us/sample - loss: 0.0107 - mean_squared_error: 0.0107 - mean_absolute_error: 0.0770 - val_loss: 0.0175 - val_mean_squared_error: 0.0175 - val_mean_absolute_error: 0.0912\n",
      "Epoch 105/150\n",
      "577/577 [==============================] - 0s 24us/sample - loss: 0.0107 - mean_squared_error: 0.0107 - mean_absolute_error: 0.0771 - val_loss: 0.0175 - val_mean_squared_error: 0.0175 - val_mean_absolute_error: 0.0919\n",
      "Epoch 106/150\n",
      "577/577 [==============================] - 0s 23us/sample - loss: 0.0107 - mean_squared_error: 0.0107 - mean_absolute_error: 0.0766 - val_loss: 0.0174 - val_mean_squared_error: 0.0174 - val_mean_absolute_error: 0.0916\n",
      "Epoch 107/150\n",
      "577/577 [==============================] - 0s 24us/sample - loss: 0.0107 - mean_squared_error: 0.0107 - mean_absolute_error: 0.0766 - val_loss: 0.0173 - val_mean_squared_error: 0.0173 - val_mean_absolute_error: 0.0913\n",
      "Epoch 108/150\n",
      "577/577 [==============================] - 0s 24us/sample - loss: 0.0107 - mean_squared_error: 0.0107 - mean_absolute_error: 0.0765 - val_loss: 0.0172 - val_mean_squared_error: 0.0172 - val_mean_absolute_error: 0.0918\n",
      "Epoch 109/150\n",
      "577/577 [==============================] - 0s 24us/sample - loss: 0.0107 - mean_squared_error: 0.0107 - mean_absolute_error: 0.0771 - val_loss: 0.0176 - val_mean_squared_error: 0.0176 - val_mean_absolute_error: 0.0907\n",
      "Epoch 110/150\n",
      "577/577 [==============================] - 0s 24us/sample - loss: 0.0108 - mean_squared_error: 0.0108 - mean_absolute_error: 0.0773 - val_loss: 0.0172 - val_mean_squared_error: 0.0172 - val_mean_absolute_error: 0.0922\n",
      "Epoch 111/150\n",
      "577/577 [==============================] - 0s 24us/sample - loss: 0.0106 - mean_squared_error: 0.0106 - mean_absolute_error: 0.0764 - val_loss: 0.0173 - val_mean_squared_error: 0.0173 - val_mean_absolute_error: 0.0914\n",
      "Epoch 112/150\n",
      "577/577 [==============================] - 0s 24us/sample - loss: 0.0106 - mean_squared_error: 0.0106 - mean_absolute_error: 0.0764 - val_loss: 0.0173 - val_mean_squared_error: 0.0173 - val_mean_absolute_error: 0.0906\n",
      "Epoch 113/150\n",
      "577/577 [==============================] - 0s 24us/sample - loss: 0.0106 - mean_squared_error: 0.0106 - mean_absolute_error: 0.0761 - val_loss: 0.0172 - val_mean_squared_error: 0.0172 - val_mean_absolute_error: 0.0917\n",
      "Epoch 114/150\n",
      "577/577 [==============================] - 0s 24us/sample - loss: 0.0105 - mean_squared_error: 0.0105 - mean_absolute_error: 0.0767 - val_loss: 0.0172 - val_mean_squared_error: 0.0172 - val_mean_absolute_error: 0.0909\n",
      "Epoch 115/150\n",
      "577/577 [==============================] - 0s 24us/sample - loss: 0.0106 - mean_squared_error: 0.0106 - mean_absolute_error: 0.0763 - val_loss: 0.0171 - val_mean_squared_error: 0.0171 - val_mean_absolute_error: 0.0915\n",
      "Epoch 116/150\n",
      "577/577 [==============================] - 0s 24us/sample - loss: 0.0105 - mean_squared_error: 0.0105 - mean_absolute_error: 0.0762 - val_loss: 0.0171 - val_mean_squared_error: 0.0171 - val_mean_absolute_error: 0.0913\n",
      "Epoch 117/150\n",
      "577/577 [==============================] - 0s 24us/sample - loss: 0.0106 - mean_squared_error: 0.0106 - mean_absolute_error: 0.0763 - val_loss: 0.0170 - val_mean_squared_error: 0.0170 - val_mean_absolute_error: 0.0909\n",
      "Epoch 118/150\n",
      "577/577 [==============================] - 0s 24us/sample - loss: 0.0106 - mean_squared_error: 0.0106 - mean_absolute_error: 0.0769 - val_loss: 0.0172 - val_mean_squared_error: 0.0172 - val_mean_absolute_error: 0.0903\n",
      "Epoch 119/150\n",
      "577/577 [==============================] - 0s 23us/sample - loss: 0.0105 - mean_squared_error: 0.0105 - mean_absolute_error: 0.0756 - val_loss: 0.0171 - val_mean_squared_error: 0.0171 - val_mean_absolute_error: 0.0910\n",
      "Epoch 120/150\n",
      "577/577 [==============================] - 0s 24us/sample - loss: 0.0105 - mean_squared_error: 0.0105 - mean_absolute_error: 0.0761 - val_loss: 0.0170 - val_mean_squared_error: 0.0170 - val_mean_absolute_error: 0.0906\n",
      "Epoch 121/150\n",
      "577/577 [==============================] - 0s 23us/sample - loss: 0.0104 - mean_squared_error: 0.0104 - mean_absolute_error: 0.0759 - val_loss: 0.0170 - val_mean_squared_error: 0.0170 - val_mean_absolute_error: 0.0906\n",
      "Epoch 122/150\n",
      "577/577 [==============================] - 0s 24us/sample - loss: 0.0104 - mean_squared_error: 0.0104 - mean_absolute_error: 0.0756 - val_loss: 0.0170 - val_mean_squared_error: 0.0170 - val_mean_absolute_error: 0.0901\n",
      "Epoch 123/150\n",
      "577/577 [==============================] - 0s 26us/sample - loss: 0.0104 - mean_squared_error: 0.0104 - mean_absolute_error: 0.0757 - val_loss: 0.0171 - val_mean_squared_error: 0.0171 - val_mean_absolute_error: 0.0906\n",
      "Epoch 124/150\n",
      "577/577 [==============================] - 0s 26us/sample - loss: 0.0105 - mean_squared_error: 0.0105 - mean_absolute_error: 0.0757 - val_loss: 0.0170 - val_mean_squared_error: 0.0170 - val_mean_absolute_error: 0.0906\n",
      "Epoch 125/150\n",
      "577/577 [==============================] - 0s 24us/sample - loss: 0.0104 - mean_squared_error: 0.0104 - mean_absolute_error: 0.0761 - val_loss: 0.0170 - val_mean_squared_error: 0.0170 - val_mean_absolute_error: 0.0914\n",
      "Epoch 126/150\n",
      "577/577 [==============================] - 0s 24us/sample - loss: 0.0104 - mean_squared_error: 0.0104 - mean_absolute_error: 0.0759 - val_loss: 0.0172 - val_mean_squared_error: 0.0172 - val_mean_absolute_error: 0.0893\n",
      "Epoch 127/150\n",
      "577/577 [==============================] - 0s 24us/sample - loss: 0.0106 - mean_squared_error: 0.0106 - mean_absolute_error: 0.0770 - val_loss: 0.0173 - val_mean_squared_error: 0.0173 - val_mean_absolute_error: 0.0892\n",
      "Epoch 128/150\n",
      "577/577 [==============================] - 0s 26us/sample - loss: 0.0104 - mean_squared_error: 0.0104 - mean_absolute_error: 0.0756 - val_loss: 0.0170 - val_mean_squared_error: 0.0170 - val_mean_absolute_error: 0.0935\n",
      "Epoch 129/150\n",
      "577/577 [==============================] - 0s 24us/sample - loss: 0.0108 - mean_squared_error: 0.0108 - mean_absolute_error: 0.0773 - val_loss: 0.0171 - val_mean_squared_error: 0.0171 - val_mean_absolute_error: 0.0892\n",
      "Epoch 130/150\n",
      "577/577 [==============================] - 0s 24us/sample - loss: 0.0106 - mean_squared_error: 0.0106 - mean_absolute_error: 0.0766 - val_loss: 0.0169 - val_mean_squared_error: 0.0169 - val_mean_absolute_error: 0.0906\n",
      "Epoch 131/150\n",
      "577/577 [==============================] - 0s 24us/sample - loss: 0.0103 - mean_squared_error: 0.0103 - mean_absolute_error: 0.0752 - val_loss: 0.0170 - val_mean_squared_error: 0.0170 - val_mean_absolute_error: 0.0898\n",
      "Epoch 132/150\n",
      "577/577 [==============================] - 0s 23us/sample - loss: 0.0103 - mean_squared_error: 0.0103 - mean_absolute_error: 0.0752 - val_loss: 0.0169 - val_mean_squared_error: 0.0169 - val_mean_absolute_error: 0.0895\n",
      "Epoch 133/150\n",
      "577/577 [==============================] - 0s 24us/sample - loss: 0.0103 - mean_squared_error: 0.0103 - mean_absolute_error: 0.0752 - val_loss: 0.0168 - val_mean_squared_error: 0.0168 - val_mean_absolute_error: 0.0893\n",
      "Epoch 134/150\n",
      "577/577 [==============================] - 0s 26us/sample - loss: 0.0103 - mean_squared_error: 0.0103 - mean_absolute_error: 0.0752 - val_loss: 0.0168 - val_mean_squared_error: 0.0168 - val_mean_absolute_error: 0.0905\n",
      "Epoch 135/150\n",
      "577/577 [==============================] - 0s 24us/sample - loss: 0.0104 - mean_squared_error: 0.0104 - mean_absolute_error: 0.0758 - val_loss: 0.0169 - val_mean_squared_error: 0.0169 - val_mean_absolute_error: 0.0887\n",
      "Epoch 136/150\n",
      "577/577 [==============================] - 0s 26us/sample - loss: 0.0105 - mean_squared_error: 0.0105 - mean_absolute_error: 0.0760 - val_loss: 0.0168 - val_mean_squared_error: 0.0168 - val_mean_absolute_error: 0.0890\n",
      "Epoch 137/150\n",
      "577/577 [==============================] - 0s 24us/sample - loss: 0.0103 - mean_squared_error: 0.0103 - mean_absolute_error: 0.0753 - val_loss: 0.0168 - val_mean_squared_error: 0.0168 - val_mean_absolute_error: 0.0893\n",
      "Epoch 138/150\n",
      "577/577 [==============================] - 0s 26us/sample - loss: 0.0103 - mean_squared_error: 0.0103 - mean_absolute_error: 0.0748 - val_loss: 0.0168 - val_mean_squared_error: 0.0168 - val_mean_absolute_error: 0.0907\n",
      "Epoch 139/150\n",
      "577/577 [==============================] - 0s 26us/sample - loss: 0.0102 - mean_squared_error: 0.0102 - mean_absolute_error: 0.0751 - val_loss: 0.0172 - val_mean_squared_error: 0.0172 - val_mean_absolute_error: 0.0887\n",
      "Epoch 140/150\n",
      "577/577 [==============================] - 0s 24us/sample - loss: 0.0104 - mean_squared_error: 0.0104 - mean_absolute_error: 0.0749 - val_loss: 0.0168 - val_mean_squared_error: 0.0168 - val_mean_absolute_error: 0.0922\n",
      "Epoch 141/150\n"
     ]
    },
    {
     "name": "stdout",
     "output_type": "stream",
     "text": [
      "577/577 [==============================] - 0s 24us/sample - loss: 0.0104 - mean_squared_error: 0.0104 - mean_absolute_error: 0.0756 - val_loss: 0.0170 - val_mean_squared_error: 0.0170 - val_mean_absolute_error: 0.0888\n",
      "Epoch 142/150\n",
      "577/577 [==============================] - 0s 28us/sample - loss: 0.0103 - mean_squared_error: 0.0103 - mean_absolute_error: 0.0751 - val_loss: 0.0168 - val_mean_squared_error: 0.0168 - val_mean_absolute_error: 0.0918\n",
      "Epoch 143/150\n",
      "577/577 [==============================] - 0s 24us/sample - loss: 0.0104 - mean_squared_error: 0.0104 - mean_absolute_error: 0.0756 - val_loss: 0.0168 - val_mean_squared_error: 0.0168 - val_mean_absolute_error: 0.0891\n",
      "Epoch 144/150\n",
      "577/577 [==============================] - 0s 24us/sample - loss: 0.0102 - mean_squared_error: 0.0102 - mean_absolute_error: 0.0749 - val_loss: 0.0167 - val_mean_squared_error: 0.0167 - val_mean_absolute_error: 0.0899\n",
      "Epoch 145/150\n",
      "577/577 [==============================] - 0s 24us/sample - loss: 0.0103 - mean_squared_error: 0.0103 - mean_absolute_error: 0.0754 - val_loss: 0.0168 - val_mean_squared_error: 0.0168 - val_mean_absolute_error: 0.0892\n",
      "Epoch 146/150\n",
      "577/577 [==============================] - 0s 23us/sample - loss: 0.0105 - mean_squared_error: 0.0105 - mean_absolute_error: 0.0761 - val_loss: 0.0173 - val_mean_squared_error: 0.0173 - val_mean_absolute_error: 0.0890\n",
      "Epoch 147/150\n",
      "577/577 [==============================] - 0s 24us/sample - loss: 0.0105 - mean_squared_error: 0.0105 - mean_absolute_error: 0.0756 - val_loss: 0.0167 - val_mean_squared_error: 0.0167 - val_mean_absolute_error: 0.0894\n",
      "Epoch 148/150\n",
      "577/577 [==============================] - 0s 24us/sample - loss: 0.0104 - mean_squared_error: 0.0104 - mean_absolute_error: 0.0748 - val_loss: 0.0168 - val_mean_squared_error: 0.0168 - val_mean_absolute_error: 0.0910\n",
      "Epoch 149/150\n",
      "577/577 [==============================] - 0s 24us/sample - loss: 0.0104 - mean_squared_error: 0.0104 - mean_absolute_error: 0.0763 - val_loss: 0.0171 - val_mean_squared_error: 0.0171 - val_mean_absolute_error: 0.0883\n",
      "Epoch 150/150\n",
      "577/577 [==============================] - 0s 23us/sample - loss: 0.0104 - mean_squared_error: 0.0104 - mean_absolute_error: 0.0758 - val_loss: 0.0167 - val_mean_squared_error: 0.0167 - val_mean_absolute_error: 0.0898\n"
     ]
    }
   ],
   "source": [
    ">>> history = model.fit(X_train, y_train, epochs=150, batch_size=50,  verbose=1, validation_split=0.2)"
   ]
  },
  {
   "cell_type": "code",
   "execution_count": 54,
   "metadata": {},
   "outputs": [
    {
     "name": "stdout",
     "output_type": "stream",
     "text": [
      "dict_keys(['loss', 'mean_squared_error', 'mean_absolute_error', 'val_loss', 'val_mean_squared_error', 'val_mean_absolute_error'])\n"
     ]
    },
    {
     "data": {
      "image/png": "[encoded data removed]",
      "text/plain": [
       "<Figure size 432x288 with 1 Axes>"
      ]
     },
     "metadata": {
      "needs_background": "light"
     },
     "output_type": "display_data"
    }
   ],
   "source": [
    "print(history.history.keys())\n",
    "# \"Loss\"\n",
    "plt.plot(history.history['loss'])\n",
    "plt.plot(history.history['val_loss'])\n",
    "plt.title('model loss')\n",
    "plt.ylabel('loss')\n",
    "plt.xlabel('epoch')\n",
    "plt.legend(['train', 'validation'], loc='upper left')\n",
    "plt.show()"
   ]
  },
  {
   "cell_type": "code",
   "execution_count": 55,
   "metadata": {},
   "outputs": [],
   "source": [
    "Xnew = np.array([[40, 0, 26, 9000, 8000]])"
   ]
  },
  {
   "cell_type": "code",
   "execution_count": 73,
   "metadata": {},
   "outputs": [
    {
     "name": "stdout",
     "output_type": "stream",
     "text": [
      "X = 4221.0, Predicted = [14767.]\n"
     ]
    }
   ],
   "source": [
    "Xnew = np.array([[40, 0, 26, 9000, 8000]])\n",
    "Xnew= scaler_x.transform(Xnew)\n",
    "ynew= model.predict(Xnew)\n",
    "#invert normalize\n",
    "ynew = scaler_y.inverse_transform(y_test) \n",
    "Xnew = scaler_x.inverse_transform(X_test)\n",
    "pos = 20\n",
    "print(\"X = %s, Predicted = %s\" % (Xnew[pos, 4], ynew[pos]))"
   ]
  },
  {
   "cell_type": "code",
   "execution_count": null,
   "metadata": {},
   "outputs": [],
   "source": []
  }
 ],
 "metadata": {
  "kernelspec": {
   "display_name": "Python 3",
   "language": "python",
   "name": "python3"
  },
  "language_info": {
   "codemirror_mode": {
    "name": "ipython",
    "version": 3
   },
   "file_extension": ".py",
   "mimetype": "text/x-python",
   "name": "python",
   "nbconvert_exporter": "python",
   "pygments_lexer": "ipython3",
   "version": "3.7.6"
  }
 },
 "nbformat": 4,
 "nbformat_minor": 4
}
