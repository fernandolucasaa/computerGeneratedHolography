{
 "cells": [
  {
   "cell_type": "code",
   "execution_count": 35,
   "metadata": {},
   "outputs": [],
   "source": [
    "import numpy as np\n",
    "import matplotlib.pyplot as plt\n",
    "import scipy.io\n",
    "import wignerDistribution as wd"
   ]
  },
  {
   "cell_type": "markdown",
   "metadata": {},
   "source": [
    "**Load dictionaries** "
   ]
  },
  {
   "cell_type": "code",
   "execution_count": 36,
   "metadata": {},
   "outputs": [],
   "source": [
    "def loadMatFile(file_path, file_name, key):\n",
    "    \"\"\"\n",
    "    Load a mat file and return an item of the dictionary loaded.\n",
    "    \"\"\"    \n",
    "    # read mat file dictionary\n",
    "    dictionary = scipy.io.loadmat(file_path + file_name)\n",
    "    \n",
    "    # access item of a dictionary\n",
    "    array = dictionary[key]\n",
    "    \n",
    "    return array"
   ]
  },
  {
   "cell_type": "code",
   "execution_count": 37,
   "metadata": {},
   "outputs": [],
   "source": [
    "# Folder's path\n",
    "path = 'C:\\\\Users\\\\ferna\\\\Desktop\\\\computerGeneratedHolography'\n",
    "\n",
    "# Load hologram dataset\n",
    "file_path = path + '\\\\output\\\\dataset\\\\'\n",
    "file_name = 'hDataset.mat'\n",
    "key = 'hDataset'\n",
    "hologram_dataset = loadMatFile(file_path, file_name, key)\n",
    "\n",
    "# Load reconstructed images dataset\n",
    "file_name = 'rDataset.mat'\n",
    "key = 'rDataset'\n",
    "reconstruction_dataset = loadMatFile(file_path, file_name, key)\n",
    "\n",
    "# Load 3D points dataset\n",
    "file_name = 'pDataset.mat'\n",
    "key = 'pDataset'\n",
    "points_dataset = loadMatFile(file_path, file_name, key)"
   ]
  },
  {
   "cell_type": "code",
   "execution_count": 38,
   "metadata": {},
   "outputs": [
    {
     "name": "stdout",
     "output_type": "stream",
     "text": [
      "(200, 200, 25)\n",
      "(200, 200, 25)\n",
      "(75, 3)\n"
     ]
    }
   ],
   "source": [
    "print(hologram_dataset.shape)\n",
    "print(reconstruction_dataset.shape)\n",
    "print(points_dataset.shape)"
   ]
  },
  {
   "cell_type": "markdown",
   "metadata": {},
   "source": [
    "**Calculate 1D Pseudo-Wigner Distribution**"
   ]
  },
  {
   "cell_type": "code",
   "execution_count": 39,
   "metadata": {},
   "outputs": [],
   "source": [
    "def calculate_1D_wigner_distribution(dataset, n, seq_legth, angle):\n",
    "    \"\"\"\n",
    "    Calculates the  1D pseudo-Wigner distribution of the n first images (in gray levels) in the dataset. seq_length is the \n",
    "    length in pixels of the operating window and it has to be an odd number (9 is a common operative value). \n",
    "    The angle variable in degrees determines the spatial orientation of the distribution.\n",
    "    \"\"\"\n",
    "    wd_results = []\n",
    "    for i in range(n):\n",
    "        test_image = dataset[:,:,i]\n",
    "        wd_results.append(wd.wigner_distribution(test_image, seq_legth, angle))\n",
    "    return wd_results"
   ]
  },
  {
   "cell_type": "code",
   "execution_count": 40,
   "metadata": {},
   "outputs": [
    {
     "name": "stdout",
     "output_type": "stream",
     "text": [
      "calculating ...\n",
      "calculating in row  100  ...\n",
      "calculating in row  200  ...\n",
      "calculating ...\n",
      "calculating in row  100  ...\n",
      "calculating in row  200  ...\n",
      "calculating ...\n",
      "calculating in row  100  ...\n",
      "calculating in row  200  ...\n",
      "Wall time: 31.9 s\n"
     ]
    }
   ],
   "source": [
    "%%time\n",
    "\n",
    "dataset = hologram_dataset\n",
    "n = 3\n",
    "seq_legth = 9 # length in pixels of the operating window\n",
    "angle = 0 # spatial orientation of the distribution (degrees)\n",
    "\n",
    "wd_results = calculate_1D_wigner_distribution(dataset, n, seq_legth, angle)"
   ]
  },
  {
   "cell_type": "code",
   "execution_count": null,
   "metadata": {},
   "outputs": [],
   "source": []
  },
  {
   "cell_type": "code",
   "execution_count": null,
   "metadata": {},
   "outputs": [],
   "source": []
  }
 ],
 "metadata": {
  "kernelspec": {
   "display_name": "Python 3",
   "language": "python",
   "name": "python3"
  },
  "language_info": {
   "codemirror_mode": {
    "name": "ipython",
    "version": 3
   },
   "file_extension": ".py",
   "mimetype": "text/x-python",
   "name": "python",
   "nbconvert_exporter": "python",
   "pygments_lexer": "ipython3",
   "version": "3.7.4"
  }
 },
 "nbformat": 4,
 "nbformat_minor": 2
}
